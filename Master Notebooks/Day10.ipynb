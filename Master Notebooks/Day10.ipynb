{
  "nbformat": 4,
  "nbformat_minor": 0,
  "metadata": {
    "colab": {
      "provenance": []
    },
    "kernelspec": {
      "name": "python3",
      "display_name": "Python 3"
    },
    "language_info": {
      "name": "python"
    }
  },
  "cells": [
    {
      "cell_type": "code",
      "execution_count": 71,
      "metadata": {
        "id": "zi8alZHyiACK"
      },
      "outputs": [],
      "source": [
        "import tensorflow as tf"
      ]
    },
    {
      "cell_type": "code",
      "source": [
        "!wget https://raw.githubusercontent.com/mrdbourke/tensorflow-deep-learning/main/extras/BTC_USD_2013-10-01_2021-05-18-CoinDesk.csv"
      ],
      "metadata": {
        "colab": {
          "base_uri": "https://localhost:8080/"
        },
        "id": "Hs02l9bIjDN-",
        "outputId": "72772b63-3a49-4800-f9c8-317a4f9639ed"
      },
      "execution_count": 72,
      "outputs": [
        {
          "output_type": "stream",
          "name": "stdout",
          "text": [
            "--2024-04-02 13:16:17--  https://raw.githubusercontent.com/mrdbourke/tensorflow-deep-learning/main/extras/BTC_USD_2013-10-01_2021-05-18-CoinDesk.csv\n",
            "Resolving raw.githubusercontent.com (raw.githubusercontent.com)... 185.199.108.133, 185.199.109.133, 185.199.110.133, ...\n",
            "Connecting to raw.githubusercontent.com (raw.githubusercontent.com)|185.199.108.133|:443... connected.\n",
            "HTTP request sent, awaiting response... 200 OK\n",
            "Length: 178509 (174K) [text/plain]\n",
            "Saving to: ‘BTC_USD_2013-10-01_2021-05-18-CoinDesk.csv.2’\n",
            "\n",
            "\r          BTC_USD_2   0%[                    ]       0  --.-KB/s               \rBTC_USD_2013-10-01_ 100%[===================>] 174.33K  --.-KB/s    in 0.03s   \n",
            "\n",
            "2024-04-02 13:16:17 (5.00 MB/s) - ‘BTC_USD_2013-10-01_2021-05-18-CoinDesk.csv.2’ saved [178509/178509]\n",
            "\n"
          ]
        }
      ]
    },
    {
      "cell_type": "code",
      "source": [
        "import pandas as pd\n",
        "import numpy as np"
      ],
      "metadata": {
        "id": "xNkaolqyjEUM"
      },
      "execution_count": 73,
      "outputs": []
    },
    {
      "cell_type": "code",
      "source": [
        "df = pd.read_csv(\"/content/BTC_USD_2013-10-01_2021-05-18-CoinDesk.csv\", parse_dates=[\"Date\"], index_col=[\"Date\"])\n",
        "df.head()"
      ],
      "metadata": {
        "colab": {
          "base_uri": "https://localhost:8080/",
          "height": 237
        },
        "id": "ZRthcR1gjMHl",
        "outputId": "1b26f9a4-ae61-4391-c15b-7518082acaa9"
      },
      "execution_count": 74,
      "outputs": [
        {
          "output_type": "execute_result",
          "data": {
            "text/plain": [
              "           Currency  Closing Price (USD)  24h Open (USD)  24h High (USD)  \\\n",
              "Date                                                                       \n",
              "2013-10-01      BTC            123.65499       124.30466       124.75166   \n",
              "2013-10-02      BTC            125.45500       123.65499       125.75850   \n",
              "2013-10-03      BTC            108.58483       125.45500       125.66566   \n",
              "2013-10-04      BTC            118.67466       108.58483       118.67500   \n",
              "2013-10-05      BTC            121.33866       118.67466       121.93633   \n",
              "\n",
              "            24h Low (USD)  \n",
              "Date                       \n",
              "2013-10-01      122.56349  \n",
              "2013-10-02      123.63383  \n",
              "2013-10-03       83.32833  \n",
              "2013-10-04      107.05816  \n",
              "2013-10-05      118.00566  "
            ],
            "text/html": [
              "\n",
              "  <div id=\"df-b9dcaf7e-415c-4001-9e67-0bc3e8c0f5f4\" class=\"colab-df-container\">\n",
              "    <div>\n",
              "<style scoped>\n",
              "    .dataframe tbody tr th:only-of-type {\n",
              "        vertical-align: middle;\n",
              "    }\n",
              "\n",
              "    .dataframe tbody tr th {\n",
              "        vertical-align: top;\n",
              "    }\n",
              "\n",
              "    .dataframe thead th {\n",
              "        text-align: right;\n",
              "    }\n",
              "</style>\n",
              "<table border=\"1\" class=\"dataframe\">\n",
              "  <thead>\n",
              "    <tr style=\"text-align: right;\">\n",
              "      <th></th>\n",
              "      <th>Currency</th>\n",
              "      <th>Closing Price (USD)</th>\n",
              "      <th>24h Open (USD)</th>\n",
              "      <th>24h High (USD)</th>\n",
              "      <th>24h Low (USD)</th>\n",
              "    </tr>\n",
              "    <tr>\n",
              "      <th>Date</th>\n",
              "      <th></th>\n",
              "      <th></th>\n",
              "      <th></th>\n",
              "      <th></th>\n",
              "      <th></th>\n",
              "    </tr>\n",
              "  </thead>\n",
              "  <tbody>\n",
              "    <tr>\n",
              "      <th>2013-10-01</th>\n",
              "      <td>BTC</td>\n",
              "      <td>123.65499</td>\n",
              "      <td>124.30466</td>\n",
              "      <td>124.75166</td>\n",
              "      <td>122.56349</td>\n",
              "    </tr>\n",
              "    <tr>\n",
              "      <th>2013-10-02</th>\n",
              "      <td>BTC</td>\n",
              "      <td>125.45500</td>\n",
              "      <td>123.65499</td>\n",
              "      <td>125.75850</td>\n",
              "      <td>123.63383</td>\n",
              "    </tr>\n",
              "    <tr>\n",
              "      <th>2013-10-03</th>\n",
              "      <td>BTC</td>\n",
              "      <td>108.58483</td>\n",
              "      <td>125.45500</td>\n",
              "      <td>125.66566</td>\n",
              "      <td>83.32833</td>\n",
              "    </tr>\n",
              "    <tr>\n",
              "      <th>2013-10-04</th>\n",
              "      <td>BTC</td>\n",
              "      <td>118.67466</td>\n",
              "      <td>108.58483</td>\n",
              "      <td>118.67500</td>\n",
              "      <td>107.05816</td>\n",
              "    </tr>\n",
              "    <tr>\n",
              "      <th>2013-10-05</th>\n",
              "      <td>BTC</td>\n",
              "      <td>121.33866</td>\n",
              "      <td>118.67466</td>\n",
              "      <td>121.93633</td>\n",
              "      <td>118.00566</td>\n",
              "    </tr>\n",
              "  </tbody>\n",
              "</table>\n",
              "</div>\n",
              "    <div class=\"colab-df-buttons\">\n",
              "\n",
              "  <div class=\"colab-df-container\">\n",
              "    <button class=\"colab-df-convert\" onclick=\"convertToInteractive('df-b9dcaf7e-415c-4001-9e67-0bc3e8c0f5f4')\"\n",
              "            title=\"Convert this dataframe to an interactive table.\"\n",
              "            style=\"display:none;\">\n",
              "\n",
              "  <svg xmlns=\"http://www.w3.org/2000/svg\" height=\"24px\" viewBox=\"0 -960 960 960\">\n",
              "    <path d=\"M120-120v-720h720v720H120Zm60-500h600v-160H180v160Zm220 220h160v-160H400v160Zm0 220h160v-160H400v160ZM180-400h160v-160H180v160Zm440 0h160v-160H620v160ZM180-180h160v-160H180v160Zm440 0h160v-160H620v160Z\"/>\n",
              "  </svg>\n",
              "    </button>\n",
              "\n",
              "  <style>\n",
              "    .colab-df-container {\n",
              "      display:flex;\n",
              "      gap: 12px;\n",
              "    }\n",
              "\n",
              "    .colab-df-convert {\n",
              "      background-color: #E8F0FE;\n",
              "      border: none;\n",
              "      border-radius: 50%;\n",
              "      cursor: pointer;\n",
              "      display: none;\n",
              "      fill: #1967D2;\n",
              "      height: 32px;\n",
              "      padding: 0 0 0 0;\n",
              "      width: 32px;\n",
              "    }\n",
              "\n",
              "    .colab-df-convert:hover {\n",
              "      background-color: #E2EBFA;\n",
              "      box-shadow: 0px 1px 2px rgba(60, 64, 67, 0.3), 0px 1px 3px 1px rgba(60, 64, 67, 0.15);\n",
              "      fill: #174EA6;\n",
              "    }\n",
              "\n",
              "    .colab-df-buttons div {\n",
              "      margin-bottom: 4px;\n",
              "    }\n",
              "\n",
              "    [theme=dark] .colab-df-convert {\n",
              "      background-color: #3B4455;\n",
              "      fill: #D2E3FC;\n",
              "    }\n",
              "\n",
              "    [theme=dark] .colab-df-convert:hover {\n",
              "      background-color: #434B5C;\n",
              "      box-shadow: 0px 1px 3px 1px rgba(0, 0, 0, 0.15);\n",
              "      filter: drop-shadow(0px 1px 2px rgba(0, 0, 0, 0.3));\n",
              "      fill: #FFFFFF;\n",
              "    }\n",
              "  </style>\n",
              "\n",
              "    <script>\n",
              "      const buttonEl =\n",
              "        document.querySelector('#df-b9dcaf7e-415c-4001-9e67-0bc3e8c0f5f4 button.colab-df-convert');\n",
              "      buttonEl.style.display =\n",
              "        google.colab.kernel.accessAllowed ? 'block' : 'none';\n",
              "\n",
              "      async function convertToInteractive(key) {\n",
              "        const element = document.querySelector('#df-b9dcaf7e-415c-4001-9e67-0bc3e8c0f5f4');\n",
              "        const dataTable =\n",
              "          await google.colab.kernel.invokeFunction('convertToInteractive',\n",
              "                                                    [key], {});\n",
              "        if (!dataTable) return;\n",
              "\n",
              "        const docLinkHtml = 'Like what you see? Visit the ' +\n",
              "          '<a target=\"_blank\" href=https://colab.research.google.com/notebooks/data_table.ipynb>data table notebook</a>'\n",
              "          + ' to learn more about interactive tables.';\n",
              "        element.innerHTML = '';\n",
              "        dataTable['output_type'] = 'display_data';\n",
              "        await google.colab.output.renderOutput(dataTable, element);\n",
              "        const docLink = document.createElement('div');\n",
              "        docLink.innerHTML = docLinkHtml;\n",
              "        element.appendChild(docLink);\n",
              "      }\n",
              "    </script>\n",
              "  </div>\n",
              "\n",
              "\n",
              "<div id=\"df-a0818150-b2f3-473b-8aae-9a558efaaabd\">\n",
              "  <button class=\"colab-df-quickchart\" onclick=\"quickchart('df-a0818150-b2f3-473b-8aae-9a558efaaabd')\"\n",
              "            title=\"Suggest charts\"\n",
              "            style=\"display:none;\">\n",
              "\n",
              "<svg xmlns=\"http://www.w3.org/2000/svg\" height=\"24px\"viewBox=\"0 0 24 24\"\n",
              "     width=\"24px\">\n",
              "    <g>\n",
              "        <path d=\"M19 3H5c-1.1 0-2 .9-2 2v14c0 1.1.9 2 2 2h14c1.1 0 2-.9 2-2V5c0-1.1-.9-2-2-2zM9 17H7v-7h2v7zm4 0h-2V7h2v10zm4 0h-2v-4h2v4z\"/>\n",
              "    </g>\n",
              "</svg>\n",
              "  </button>\n",
              "\n",
              "<style>\n",
              "  .colab-df-quickchart {\n",
              "      --bg-color: #E8F0FE;\n",
              "      --fill-color: #1967D2;\n",
              "      --hover-bg-color: #E2EBFA;\n",
              "      --hover-fill-color: #174EA6;\n",
              "      --disabled-fill-color: #AAA;\n",
              "      --disabled-bg-color: #DDD;\n",
              "  }\n",
              "\n",
              "  [theme=dark] .colab-df-quickchart {\n",
              "      --bg-color: #3B4455;\n",
              "      --fill-color: #D2E3FC;\n",
              "      --hover-bg-color: #434B5C;\n",
              "      --hover-fill-color: #FFFFFF;\n",
              "      --disabled-bg-color: #3B4455;\n",
              "      --disabled-fill-color: #666;\n",
              "  }\n",
              "\n",
              "  .colab-df-quickchart {\n",
              "    background-color: var(--bg-color);\n",
              "    border: none;\n",
              "    border-radius: 50%;\n",
              "    cursor: pointer;\n",
              "    display: none;\n",
              "    fill: var(--fill-color);\n",
              "    height: 32px;\n",
              "    padding: 0;\n",
              "    width: 32px;\n",
              "  }\n",
              "\n",
              "  .colab-df-quickchart:hover {\n",
              "    background-color: var(--hover-bg-color);\n",
              "    box-shadow: 0 1px 2px rgba(60, 64, 67, 0.3), 0 1px 3px 1px rgba(60, 64, 67, 0.15);\n",
              "    fill: var(--button-hover-fill-color);\n",
              "  }\n",
              "\n",
              "  .colab-df-quickchart-complete:disabled,\n",
              "  .colab-df-quickchart-complete:disabled:hover {\n",
              "    background-color: var(--disabled-bg-color);\n",
              "    fill: var(--disabled-fill-color);\n",
              "    box-shadow: none;\n",
              "  }\n",
              "\n",
              "  .colab-df-spinner {\n",
              "    border: 2px solid var(--fill-color);\n",
              "    border-color: transparent;\n",
              "    border-bottom-color: var(--fill-color);\n",
              "    animation:\n",
              "      spin 1s steps(1) infinite;\n",
              "  }\n",
              "\n",
              "  @keyframes spin {\n",
              "    0% {\n",
              "      border-color: transparent;\n",
              "      border-bottom-color: var(--fill-color);\n",
              "      border-left-color: var(--fill-color);\n",
              "    }\n",
              "    20% {\n",
              "      border-color: transparent;\n",
              "      border-left-color: var(--fill-color);\n",
              "      border-top-color: var(--fill-color);\n",
              "    }\n",
              "    30% {\n",
              "      border-color: transparent;\n",
              "      border-left-color: var(--fill-color);\n",
              "      border-top-color: var(--fill-color);\n",
              "      border-right-color: var(--fill-color);\n",
              "    }\n",
              "    40% {\n",
              "      border-color: transparent;\n",
              "      border-right-color: var(--fill-color);\n",
              "      border-top-color: var(--fill-color);\n",
              "    }\n",
              "    60% {\n",
              "      border-color: transparent;\n",
              "      border-right-color: var(--fill-color);\n",
              "    }\n",
              "    80% {\n",
              "      border-color: transparent;\n",
              "      border-right-color: var(--fill-color);\n",
              "      border-bottom-color: var(--fill-color);\n",
              "    }\n",
              "    90% {\n",
              "      border-color: transparent;\n",
              "      border-bottom-color: var(--fill-color);\n",
              "    }\n",
              "  }\n",
              "</style>\n",
              "\n",
              "  <script>\n",
              "    async function quickchart(key) {\n",
              "      const quickchartButtonEl =\n",
              "        document.querySelector('#' + key + ' button');\n",
              "      quickchartButtonEl.disabled = true;  // To prevent multiple clicks.\n",
              "      quickchartButtonEl.classList.add('colab-df-spinner');\n",
              "      try {\n",
              "        const charts = await google.colab.kernel.invokeFunction(\n",
              "            'suggestCharts', [key], {});\n",
              "      } catch (error) {\n",
              "        console.error('Error during call to suggestCharts:', error);\n",
              "      }\n",
              "      quickchartButtonEl.classList.remove('colab-df-spinner');\n",
              "      quickchartButtonEl.classList.add('colab-df-quickchart-complete');\n",
              "    }\n",
              "    (() => {\n",
              "      let quickchartButtonEl =\n",
              "        document.querySelector('#df-a0818150-b2f3-473b-8aae-9a558efaaabd button');\n",
              "      quickchartButtonEl.style.display =\n",
              "        google.colab.kernel.accessAllowed ? 'block' : 'none';\n",
              "    })();\n",
              "  </script>\n",
              "</div>\n",
              "\n",
              "    </div>\n",
              "  </div>\n"
            ],
            "application/vnd.google.colaboratory.intrinsic+json": {
              "type": "dataframe",
              "variable_name": "df",
              "summary": "{\n  \"name\": \"df\",\n  \"rows\": 2787,\n  \"fields\": [\n    {\n      \"column\": \"Date\",\n      \"properties\": {\n        \"dtype\": \"date\",\n        \"min\": \"2013-10-01 00:00:00\",\n        \"max\": \"2021-05-18 00:00:00\",\n        \"num_unique_values\": 2787,\n        \"samples\": [\n          \"2019-06-11 00:00:00\",\n          \"2021-05-03 00:00:00\",\n          \"2017-10-05 00:00:00\"\n        ],\n        \"semantic_type\": \"\",\n        \"description\": \"\"\n      }\n    },\n    {\n      \"column\": \"Currency\",\n      \"properties\": {\n        \"dtype\": \"category\",\n        \"num_unique_values\": 1,\n        \"samples\": [\n          \"BTC\"\n        ],\n        \"semantic_type\": \"\",\n        \"description\": \"\"\n      }\n    },\n    {\n      \"column\": \"Closing Price (USD)\",\n      \"properties\": {\n        \"dtype\": \"number\",\n        \"std\": 10887.84744436952,\n        \"min\": 108.58483,\n        \"max\": 63346.7890351052,\n        \"num_unique_values\": 2787,\n        \"samples\": [\n          7954.0062377205\n        ],\n        \"semantic_type\": \"\",\n        \"description\": \"\"\n      }\n    },\n    {\n      \"column\": \"24h Open (USD)\",\n      \"properties\": {\n        \"dtype\": \"number\",\n        \"std\": 10863.80077212387,\n        \"min\": 108.58483,\n        \"max\": 63562.6735446382,\n        \"num_unique_values\": 2787,\n        \"samples\": [\n          7600.9225047785\n        ],\n        \"semantic_type\": \"\",\n        \"description\": \"\"\n      }\n    },\n    {\n      \"column\": \"24h High (USD)\",\n      \"properties\": {\n        \"dtype\": \"number\",\n        \"std\": 11206.779756254151,\n        \"min\": 118.675,\n        \"max\": 64801.787869525,\n        \"num_unique_values\": 2787,\n        \"samples\": [\n          8064.9001353225\n        ],\n        \"semantic_type\": \"\",\n        \"description\": \"\"\n      }\n    },\n    {\n      \"column\": \"24h Low (USD)\",\n      \"properties\": {\n        \"dtype\": \"number\",\n        \"std\": 10475.8112518284,\n        \"min\": 83.32833,\n        \"max\": 62094.6329143272,\n        \"num_unique_values\": 2785,\n        \"samples\": [\n          7714.610306452\n        ],\n        \"semantic_type\": \"\",\n        \"description\": \"\"\n      }\n    }\n  ]\n}"
            }
          },
          "metadata": {},
          "execution_count": 74
        }
      ]
    },
    {
      "cell_type": "code",
      "source": [
        "bitcoin_prices = pd.DataFrame(df[\"Closing Price (USD)\"]).rename(columns={\"Closing Price (USD)\" : \"Price\"})\n",
        "bitcoin_prices.head()"
      ],
      "metadata": {
        "colab": {
          "base_uri": "https://localhost:8080/",
          "height": 237
        },
        "id": "zO4VEmH0kECw",
        "outputId": "98a6ebb6-8108-470b-809e-9218200d9844"
      },
      "execution_count": 75,
      "outputs": [
        {
          "output_type": "execute_result",
          "data": {
            "text/plain": [
              "                Price\n",
              "Date                 \n",
              "2013-10-01  123.65499\n",
              "2013-10-02  125.45500\n",
              "2013-10-03  108.58483\n",
              "2013-10-04  118.67466\n",
              "2013-10-05  121.33866"
            ],
            "text/html": [
              "\n",
              "  <div id=\"df-de405669-6677-44bc-836f-9e4bfc9cf70a\" class=\"colab-df-container\">\n",
              "    <div>\n",
              "<style scoped>\n",
              "    .dataframe tbody tr th:only-of-type {\n",
              "        vertical-align: middle;\n",
              "    }\n",
              "\n",
              "    .dataframe tbody tr th {\n",
              "        vertical-align: top;\n",
              "    }\n",
              "\n",
              "    .dataframe thead th {\n",
              "        text-align: right;\n",
              "    }\n",
              "</style>\n",
              "<table border=\"1\" class=\"dataframe\">\n",
              "  <thead>\n",
              "    <tr style=\"text-align: right;\">\n",
              "      <th></th>\n",
              "      <th>Price</th>\n",
              "    </tr>\n",
              "    <tr>\n",
              "      <th>Date</th>\n",
              "      <th></th>\n",
              "    </tr>\n",
              "  </thead>\n",
              "  <tbody>\n",
              "    <tr>\n",
              "      <th>2013-10-01</th>\n",
              "      <td>123.65499</td>\n",
              "    </tr>\n",
              "    <tr>\n",
              "      <th>2013-10-02</th>\n",
              "      <td>125.45500</td>\n",
              "    </tr>\n",
              "    <tr>\n",
              "      <th>2013-10-03</th>\n",
              "      <td>108.58483</td>\n",
              "    </tr>\n",
              "    <tr>\n",
              "      <th>2013-10-04</th>\n",
              "      <td>118.67466</td>\n",
              "    </tr>\n",
              "    <tr>\n",
              "      <th>2013-10-05</th>\n",
              "      <td>121.33866</td>\n",
              "    </tr>\n",
              "  </tbody>\n",
              "</table>\n",
              "</div>\n",
              "    <div class=\"colab-df-buttons\">\n",
              "\n",
              "  <div class=\"colab-df-container\">\n",
              "    <button class=\"colab-df-convert\" onclick=\"convertToInteractive('df-de405669-6677-44bc-836f-9e4bfc9cf70a')\"\n",
              "            title=\"Convert this dataframe to an interactive table.\"\n",
              "            style=\"display:none;\">\n",
              "\n",
              "  <svg xmlns=\"http://www.w3.org/2000/svg\" height=\"24px\" viewBox=\"0 -960 960 960\">\n",
              "    <path d=\"M120-120v-720h720v720H120Zm60-500h600v-160H180v160Zm220 220h160v-160H400v160Zm0 220h160v-160H400v160ZM180-400h160v-160H180v160Zm440 0h160v-160H620v160ZM180-180h160v-160H180v160Zm440 0h160v-160H620v160Z\"/>\n",
              "  </svg>\n",
              "    </button>\n",
              "\n",
              "  <style>\n",
              "    .colab-df-container {\n",
              "      display:flex;\n",
              "      gap: 12px;\n",
              "    }\n",
              "\n",
              "    .colab-df-convert {\n",
              "      background-color: #E8F0FE;\n",
              "      border: none;\n",
              "      border-radius: 50%;\n",
              "      cursor: pointer;\n",
              "      display: none;\n",
              "      fill: #1967D2;\n",
              "      height: 32px;\n",
              "      padding: 0 0 0 0;\n",
              "      width: 32px;\n",
              "    }\n",
              "\n",
              "    .colab-df-convert:hover {\n",
              "      background-color: #E2EBFA;\n",
              "      box-shadow: 0px 1px 2px rgba(60, 64, 67, 0.3), 0px 1px 3px 1px rgba(60, 64, 67, 0.15);\n",
              "      fill: #174EA6;\n",
              "    }\n",
              "\n",
              "    .colab-df-buttons div {\n",
              "      margin-bottom: 4px;\n",
              "    }\n",
              "\n",
              "    [theme=dark] .colab-df-convert {\n",
              "      background-color: #3B4455;\n",
              "      fill: #D2E3FC;\n",
              "    }\n",
              "\n",
              "    [theme=dark] .colab-df-convert:hover {\n",
              "      background-color: #434B5C;\n",
              "      box-shadow: 0px 1px 3px 1px rgba(0, 0, 0, 0.15);\n",
              "      filter: drop-shadow(0px 1px 2px rgba(0, 0, 0, 0.3));\n",
              "      fill: #FFFFFF;\n",
              "    }\n",
              "  </style>\n",
              "\n",
              "    <script>\n",
              "      const buttonEl =\n",
              "        document.querySelector('#df-de405669-6677-44bc-836f-9e4bfc9cf70a button.colab-df-convert');\n",
              "      buttonEl.style.display =\n",
              "        google.colab.kernel.accessAllowed ? 'block' : 'none';\n",
              "\n",
              "      async function convertToInteractive(key) {\n",
              "        const element = document.querySelector('#df-de405669-6677-44bc-836f-9e4bfc9cf70a');\n",
              "        const dataTable =\n",
              "          await google.colab.kernel.invokeFunction('convertToInteractive',\n",
              "                                                    [key], {});\n",
              "        if (!dataTable) return;\n",
              "\n",
              "        const docLinkHtml = 'Like what you see? Visit the ' +\n",
              "          '<a target=\"_blank\" href=https://colab.research.google.com/notebooks/data_table.ipynb>data table notebook</a>'\n",
              "          + ' to learn more about interactive tables.';\n",
              "        element.innerHTML = '';\n",
              "        dataTable['output_type'] = 'display_data';\n",
              "        await google.colab.output.renderOutput(dataTable, element);\n",
              "        const docLink = document.createElement('div');\n",
              "        docLink.innerHTML = docLinkHtml;\n",
              "        element.appendChild(docLink);\n",
              "      }\n",
              "    </script>\n",
              "  </div>\n",
              "\n",
              "\n",
              "<div id=\"df-6d121421-287a-4579-a6b5-c02237d7366f\">\n",
              "  <button class=\"colab-df-quickchart\" onclick=\"quickchart('df-6d121421-287a-4579-a6b5-c02237d7366f')\"\n",
              "            title=\"Suggest charts\"\n",
              "            style=\"display:none;\">\n",
              "\n",
              "<svg xmlns=\"http://www.w3.org/2000/svg\" height=\"24px\"viewBox=\"0 0 24 24\"\n",
              "     width=\"24px\">\n",
              "    <g>\n",
              "        <path d=\"M19 3H5c-1.1 0-2 .9-2 2v14c0 1.1.9 2 2 2h14c1.1 0 2-.9 2-2V5c0-1.1-.9-2-2-2zM9 17H7v-7h2v7zm4 0h-2V7h2v10zm4 0h-2v-4h2v4z\"/>\n",
              "    </g>\n",
              "</svg>\n",
              "  </button>\n",
              "\n",
              "<style>\n",
              "  .colab-df-quickchart {\n",
              "      --bg-color: #E8F0FE;\n",
              "      --fill-color: #1967D2;\n",
              "      --hover-bg-color: #E2EBFA;\n",
              "      --hover-fill-color: #174EA6;\n",
              "      --disabled-fill-color: #AAA;\n",
              "      --disabled-bg-color: #DDD;\n",
              "  }\n",
              "\n",
              "  [theme=dark] .colab-df-quickchart {\n",
              "      --bg-color: #3B4455;\n",
              "      --fill-color: #D2E3FC;\n",
              "      --hover-bg-color: #434B5C;\n",
              "      --hover-fill-color: #FFFFFF;\n",
              "      --disabled-bg-color: #3B4455;\n",
              "      --disabled-fill-color: #666;\n",
              "  }\n",
              "\n",
              "  .colab-df-quickchart {\n",
              "    background-color: var(--bg-color);\n",
              "    border: none;\n",
              "    border-radius: 50%;\n",
              "    cursor: pointer;\n",
              "    display: none;\n",
              "    fill: var(--fill-color);\n",
              "    height: 32px;\n",
              "    padding: 0;\n",
              "    width: 32px;\n",
              "  }\n",
              "\n",
              "  .colab-df-quickchart:hover {\n",
              "    background-color: var(--hover-bg-color);\n",
              "    box-shadow: 0 1px 2px rgba(60, 64, 67, 0.3), 0 1px 3px 1px rgba(60, 64, 67, 0.15);\n",
              "    fill: var(--button-hover-fill-color);\n",
              "  }\n",
              "\n",
              "  .colab-df-quickchart-complete:disabled,\n",
              "  .colab-df-quickchart-complete:disabled:hover {\n",
              "    background-color: var(--disabled-bg-color);\n",
              "    fill: var(--disabled-fill-color);\n",
              "    box-shadow: none;\n",
              "  }\n",
              "\n",
              "  .colab-df-spinner {\n",
              "    border: 2px solid var(--fill-color);\n",
              "    border-color: transparent;\n",
              "    border-bottom-color: var(--fill-color);\n",
              "    animation:\n",
              "      spin 1s steps(1) infinite;\n",
              "  }\n",
              "\n",
              "  @keyframes spin {\n",
              "    0% {\n",
              "      border-color: transparent;\n",
              "      border-bottom-color: var(--fill-color);\n",
              "      border-left-color: var(--fill-color);\n",
              "    }\n",
              "    20% {\n",
              "      border-color: transparent;\n",
              "      border-left-color: var(--fill-color);\n",
              "      border-top-color: var(--fill-color);\n",
              "    }\n",
              "    30% {\n",
              "      border-color: transparent;\n",
              "      border-left-color: var(--fill-color);\n",
              "      border-top-color: var(--fill-color);\n",
              "      border-right-color: var(--fill-color);\n",
              "    }\n",
              "    40% {\n",
              "      border-color: transparent;\n",
              "      border-right-color: var(--fill-color);\n",
              "      border-top-color: var(--fill-color);\n",
              "    }\n",
              "    60% {\n",
              "      border-color: transparent;\n",
              "      border-right-color: var(--fill-color);\n",
              "    }\n",
              "    80% {\n",
              "      border-color: transparent;\n",
              "      border-right-color: var(--fill-color);\n",
              "      border-bottom-color: var(--fill-color);\n",
              "    }\n",
              "    90% {\n",
              "      border-color: transparent;\n",
              "      border-bottom-color: var(--fill-color);\n",
              "    }\n",
              "  }\n",
              "</style>\n",
              "\n",
              "  <script>\n",
              "    async function quickchart(key) {\n",
              "      const quickchartButtonEl =\n",
              "        document.querySelector('#' + key + ' button');\n",
              "      quickchartButtonEl.disabled = true;  // To prevent multiple clicks.\n",
              "      quickchartButtonEl.classList.add('colab-df-spinner');\n",
              "      try {\n",
              "        const charts = await google.colab.kernel.invokeFunction(\n",
              "            'suggestCharts', [key], {});\n",
              "      } catch (error) {\n",
              "        console.error('Error during call to suggestCharts:', error);\n",
              "      }\n",
              "      quickchartButtonEl.classList.remove('colab-df-spinner');\n",
              "      quickchartButtonEl.classList.add('colab-df-quickchart-complete');\n",
              "    }\n",
              "    (() => {\n",
              "      let quickchartButtonEl =\n",
              "        document.querySelector('#df-6d121421-287a-4579-a6b5-c02237d7366f button');\n",
              "      quickchartButtonEl.style.display =\n",
              "        google.colab.kernel.accessAllowed ? 'block' : 'none';\n",
              "    })();\n",
              "  </script>\n",
              "</div>\n",
              "\n",
              "    </div>\n",
              "  </div>\n"
            ],
            "application/vnd.google.colaboratory.intrinsic+json": {
              "type": "dataframe",
              "variable_name": "bitcoin_prices",
              "summary": "{\n  \"name\": \"bitcoin_prices\",\n  \"rows\": 2787,\n  \"fields\": [\n    {\n      \"column\": \"Date\",\n      \"properties\": {\n        \"dtype\": \"date\",\n        \"min\": \"2013-10-01 00:00:00\",\n        \"max\": \"2021-05-18 00:00:00\",\n        \"num_unique_values\": 2787,\n        \"samples\": [\n          \"2019-06-11 00:00:00\",\n          \"2021-05-03 00:00:00\",\n          \"2017-10-05 00:00:00\"\n        ],\n        \"semantic_type\": \"\",\n        \"description\": \"\"\n      }\n    },\n    {\n      \"column\": \"Price\",\n      \"properties\": {\n        \"dtype\": \"number\",\n        \"std\": 10887.84744436952,\n        \"min\": 108.58483,\n        \"max\": 63346.7890351052,\n        \"num_unique_values\": 2787,\n        \"samples\": [\n          7954.0062377205,\n          56427.0431250152,\n          4186.78374\n        ],\n        \"semantic_type\": \"\",\n        \"description\": \"\"\n      }\n    }\n  ]\n}"
            }
          },
          "metadata": {},
          "execution_count": 75
        }
      ]
    },
    {
      "cell_type": "code",
      "source": [
        "import matplotlib.pyplot as plt\n",
        "timestamps = bitcoin_prices.index.to_numpy()\n",
        "prices = bitcoin_prices.Price.to_numpy()\n",
        "bitcoin_prices.plot(figsize=(5,5))"
      ],
      "metadata": {
        "colab": {
          "base_uri": "https://localhost:8080/",
          "height": 482
        },
        "id": "QU5a_PsfkgL6",
        "outputId": "0109c55b-3ef8-494d-b30b-fd6ba502f7fd"
      },
      "execution_count": 76,
      "outputs": [
        {
          "output_type": "execute_result",
          "data": {
            "text/plain": [
              "<Axes: xlabel='Date'>"
            ]
          },
          "metadata": {},
          "execution_count": 76
        },
        {
          "output_type": "display_data",
          "data": {
            "text/plain": [
              "<Figure size 500x500 with 1 Axes>"
            ],
            "image/png": "[encoded data removed]"
          },
          "metadata": {}
        }
      ]
    },
    {
      "cell_type": "code",
      "source": [
        "def get_labelled_windows(x, horizon=1):\n",
        "    return x[:,:-horizon], x[:, -horizon:]\n",
        "\n",
        "\n",
        "def make_windows(x, window_size=7, horizon=1):\n",
        "    \"\"\"\n",
        "    Turns a 1D array into a 2D array of sequential windows of window_size.\n",
        "    \"\"\"\n",
        "    window_step = np.expand_dims(np.arange(window_size+horizon), axis=0)\n",
        "    window_indexes = window_step + np.expand_dims(np.arange(len(x)-(window_size+horizon-1)), axis=0).T # create 2D array of windows of size window_size\n",
        "    windowed_array = x[window_indexes]\n",
        "    windows, labels = get_labelled_windows(windowed_array, horizon=horizon)\n",
        "    return windows, labels\n",
        "\n",
        "def evaluate_preds(y_true, y_pred):\n",
        "    y_true = tf.cast(y_true, dtype=tf.float32)\n",
        "    y_pred = tf.cast(y_pred, dtype=tf.float32)\n",
        "\n",
        "    mae = tf.keras.metrics.mean_absolute_error(y_true, y_pred)\n",
        "    mse = tf.keras.metrics.mean_squared_error(y_true, y_pred)\n",
        "    rmse = tf.sqrt(mse)\n",
        "    mape = tf.keras.metrics.mean_absolute_percentage_error(y_true, y_pred)\n",
        "    mase = mean_absolute_scaled_error(y_true, y_pred)\n",
        "\n",
        "    return {\"mae\": mae.numpy(),\n",
        "          \"mse\": mse.numpy(),\n",
        "          \"rmse\": rmse.numpy(),\n",
        "          \"mape\": mape.numpy(),\n",
        "          \"mase\": mase.numpy()}\n",
        "\n",
        "def mean_absolute_scaled_error(y_true, y_pred):\n",
        "    '''\n",
        "    No seasonality is assumed\n",
        "    '''\n",
        "    mae = tf.reduce_mean(tf.abs(y_true - y_pred))\n",
        "    mae_naive_no_season = tf.reduce_mean(tf.abs(y_true[1:] - y_true[:-1]))\n",
        "    return mae / mae_naive_no_season\n",
        "\n",
        "def plot_time_series(timesteps, values, format='.', start=0, end=None, label=None):\n",
        "    plt.plot(timesteps[start:end], values[start:end], format, label=label)\n",
        "    plt.xlabel(\"Time\")\n",
        "    plt.ylabel(\"BTC Price\")\n",
        "    if label:\n",
        "        plt.legend(fontsize=14) # make label bigger\n",
        "        plt.grid(True)\n",
        "\n",
        "def make_train_test_splits(windows, labels, test_split=0.2):\n",
        "    \"\"\"\n",
        "    Splits matching pairs of windows and labels into train and test splits.\n",
        "    \"\"\"\n",
        "    split_size = int(len(windows) * (1-test_split)) # this will default to 80% train/20% test\n",
        "    train_windows = windows[:split_size]\n",
        "    train_labels = labels[:split_size]\n",
        "    test_windows = windows[split_size:]\n",
        "    test_labels = labels[split_size:]\n",
        "    return train_windows, test_windows, train_labels, test_labels\n",
        "\n",
        "def make_preds(model, data):\n",
        "    return tf.squeeze(model.predict(data))"
      ],
      "metadata": {
        "id": "MPWqnNDplrdv"
      },
      "execution_count": 77,
      "outputs": []
    },
    {
      "cell_type": "code",
      "source": [
        "split_size=int(0.8*len(prices))\n",
        "X_train, y_train = timestamps[:split_size], prices[:split_size]\n",
        "X_test, y_test = timestamps[split_size:], prices[split_size:]\n",
        "\n",
        "plt.scatter(X_train, y_train, label='train')\n",
        "plt.scatter(X_test, y_test, label='test')\n",
        "plt.legend()"
      ],
      "metadata": {
        "colab": {
          "base_uri": "https://localhost:8080/",
          "height": 447
        },
        "id": "bUMhcdSJlt7p",
        "outputId": "1f850d6f-ba17-4a6e-8125-e39fb845dcf3"
      },
      "execution_count": 78,
      "outputs": [
        {
          "output_type": "execute_result",
          "data": {
            "text/plain": [
              "<matplotlib.legend.Legend at 0x7dc9a9fc55a0>"
            ]
          },
          "metadata": {},
          "execution_count": 78
        },
        {
          "output_type": "display_data",
          "data": {
            "text/plain": [
              "<Figure size 640x480 with 1 Axes>"
            ],
            "image/png": "[encoded data removed]"
          },
          "metadata": {}
        }
      ]
    },
    {
      "cell_type": "code",
      "source": [
        "plot_time_series(X_train, y_train, label='train')\n",
        "plot_time_series(X_test, y_test, label='test')"
      ],
      "metadata": {
        "colab": {
          "base_uri": "https://localhost:8080/",
          "height": 449
        },
        "id": "kTA1pXXRmnno",
        "outputId": "bbdc92f1-a012-40b9-9ed9-ee830a120ea1"
      },
      "execution_count": 79,
      "outputs": [
        {
          "output_type": "display_data",
          "data": {
            "text/plain": [
              "<Figure size 640x480 with 1 Axes>"
            ],
            "image/png": "[encoded data removed]"
          },
          "metadata": {}
        }
      ]
    },
    {
      "cell_type": "code",
      "source": [
        "#naive model\n",
        "\n",
        "naive_forecast = y_test[:-1]\n",
        "naive_forecast[:5], y_test[:5]"
      ],
      "metadata": {
        "colab": {
          "base_uri": "https://localhost:8080/"
        },
        "id": "TspW-82Sn7dX",
        "outputId": "bf2f08da-7ff1-4bf6-fc72-d79bff66d4c7"
      },
      "execution_count": 80,
      "outputs": [
        {
          "output_type": "execute_result",
          "data": {
            "text/plain": [
              "(array([9226.48582088, 8794.35864452, 8798.04205463, 9081.18687849,\n",
              "        8711.53433917]),\n",
              " array([9226.48582088, 8794.35864452, 8798.04205463, 9081.18687849,\n",
              "        8711.53433917]))"
            ]
          },
          "metadata": {},
          "execution_count": 80
        }
      ]
    },
    {
      "cell_type": "code",
      "source": [
        "offset = 500\n",
        "plot_time_series(X_test, y_test, start=offset, label='actual')\n",
        "plot_time_series(X_test[1:], naive_forecast, start=offset, format='-', label='preds')"
      ],
      "metadata": {
        "colab": {
          "base_uri": "https://localhost:8080/",
          "height": 449
        },
        "id": "xPgoCR0VoJEf",
        "outputId": "50a34816-ffa2-4571-88f3-79beebf73b96"
      },
      "execution_count": 81,
      "outputs": [
        {
          "output_type": "display_data",
          "data": {
            "text/plain": [
              "<Figure size 640x480 with 1 Axes>"
            ],
            "image/png": "[encoded data removed]"
          },
          "metadata": {}
        }
      ]
    },
    {
      "cell_type": "code",
      "source": [
        "model_0_results = evaluate_preds(y_test[1:], naive_forecast)\n",
        "model_0_results"
      ],
      "metadata": {
        "colab": {
          "base_uri": "https://localhost:8080/"
        },
        "id": "hS7gpn6wpHGn",
        "outputId": "4a56173c-5b13-437c-eb19-bc889af562d3"
      },
      "execution_count": 82,
      "outputs": [
        {
          "output_type": "execute_result",
          "data": {
            "text/plain": [
              "{'mae': 567.9802,\n",
              " 'mse': 1147547.0,\n",
              " 'rmse': 1071.2362,\n",
              " 'mape': 2.5165248,\n",
              " 'mase': 0.99957}"
            ]
          },
          "metadata": {},
          "execution_count": 82
        }
      ]
    },
    {
      "cell_type": "code",
      "source": [
        "full_windows, full_labels = make_windows(prices)"
      ],
      "metadata": {
        "id": "Czo3SBbCpY68"
      },
      "execution_count": 83,
      "outputs": []
    },
    {
      "cell_type": "code",
      "source": [
        "for i in range(3):\n",
        "  print(f\"Window : {full_windows[i]} --> {full_labels[i]}\")"
      ],
      "metadata": {
        "colab": {
          "base_uri": "https://localhost:8080/"
        },
        "id": "yvU3a_srpum3",
        "outputId": "734f349b-9635-4e2a-8346-465aa8f20c57"
      },
      "execution_count": 84,
      "outputs": [
        {
          "output_type": "stream",
          "name": "stdout",
          "text": [
            "Window : [123.65499 125.455   108.58483 118.67466 121.33866 120.65533 121.795  ] --> [123.033]\n",
            "Window : [125.455   108.58483 118.67466 121.33866 120.65533 121.795   123.033  ] --> [124.049]\n",
            "Window : [108.58483 118.67466 121.33866 120.65533 121.795   123.033   124.049  ] --> [125.96116]\n"
          ]
        }
      ]
    },
    {
      "cell_type": "code",
      "source": [
        "len(full_windows)"
      ],
      "metadata": {
        "colab": {
          "base_uri": "https://localhost:8080/"
        },
        "id": "n6WCVFCLp9sn",
        "outputId": "e3f7f7e6-9c19-4531-a983-9f33246e4c82"
      },
      "execution_count": 85,
      "outputs": [
        {
          "output_type": "execute_result",
          "data": {
            "text/plain": [
              "2780"
            ]
          },
          "metadata": {},
          "execution_count": 85
        }
      ]
    },
    {
      "cell_type": "code",
      "source": [
        "train_windows, test_windows, train_labels, test_labels = make_train_test_splits(full_windows, full_labels)"
      ],
      "metadata": {
        "id": "ePk8OfmbqckF"
      },
      "execution_count": 86,
      "outputs": []
    },
    {
      "cell_type": "code",
      "source": [
        "len(train_windows), len(test_windows)"
      ],
      "metadata": {
        "colab": {
          "base_uri": "https://localhost:8080/"
        },
        "id": "rOh_0enZqmcu",
        "outputId": "0a6c8f47-e3f5-4160-8746-d2cf265d6886"
      },
      "execution_count": 87,
      "outputs": [
        {
          "output_type": "execute_result",
          "data": {
            "text/plain": [
              "(2224, 556)"
            ]
          },
          "metadata": {},
          "execution_count": 87
        }
      ]
    },
    {
      "cell_type": "code",
      "source": [
        "model_1 = tf.keras.models.Sequential([\n",
        "    tf.keras.layers.Dense(128),\n",
        "    tf.keras.layers.Dense(1)\n",
        "])\n",
        "model_1.compile(loss=tf.keras.losses.mae,\n",
        "                optimizer=tf.keras.optimizers.Adam(),\n",
        "                metrics=['mae'])\n",
        "history_1 = model_1.fit(train_windows, train_labels,\n",
        "                        epochs=100,\n",
        "                        validation_data=(test_windows, test_labels),\n",
        "                        batch_size=128)"
      ],
      "metadata": {
        "colab": {
          "base_uri": "https://localhost:8080/"
        },
        "id": "4o6Ut3wKqpQ6",
        "outputId": "f6c88bef-5f57-432b-9e10-7ac5289921e4"
      },
      "execution_count": 88,
      "outputs": [
        {
          "output_type": "stream",
          "name": "stdout",
          "text": [
            "Epoch 1/100\n",
            "18/18 [==============================] - 1s 13ms/step - loss: 1044.2561 - mae: 1044.2561 - val_loss: 1343.2241 - val_mae: 1343.2241\n",
            "Epoch 2/100\n",
            "18/18 [==============================] - 0s 4ms/step - loss: 300.7404 - mae: 300.7404 - val_loss: 1384.1790 - val_mae: 1384.1790\n",
            "Epoch 3/100\n",
            "18/18 [==============================] - 0s 4ms/step - loss: 247.4834 - mae: 247.4834 - val_loss: 1395.1223 - val_mae: 1395.1223\n",
            "Epoch 4/100\n",
            "18/18 [==============================] - 0s 4ms/step - loss: 218.5812 - mae: 218.5812 - val_loss: 1174.8813 - val_mae: 1174.8813\n",
            "Epoch 5/100\n",
            "18/18 [==============================] - 0s 4ms/step - loss: 202.5340 - mae: 202.5340 - val_loss: 1080.2375 - val_mae: 1080.2375\n",
            "Epoch 6/100\n",
            "18/18 [==============================] - 0s 5ms/step - loss: 188.6297 - mae: 188.6297 - val_loss: 1090.2795 - val_mae: 1090.2795\n",
            "Epoch 7/100\n",
            "18/18 [==============================] - 0s 4ms/step - loss: 174.3860 - mae: 174.3860 - val_loss: 1008.5489 - val_mae: 1008.5489\n",
            "Epoch 8/100\n",
            "18/18 [==============================] - 0s 4ms/step - loss: 158.0074 - mae: 158.0074 - val_loss: 852.6537 - val_mae: 852.6537\n",
            "Epoch 9/100\n",
            "18/18 [==============================] - 0s 4ms/step - loss: 149.8266 - mae: 149.8266 - val_loss: 825.8611 - val_mae: 825.8611\n",
            "Epoch 10/100\n",
            "18/18 [==============================] - 0s 4ms/step - loss: 144.4999 - mae: 144.4999 - val_loss: 750.2877 - val_mae: 750.2877\n",
            "Epoch 11/100\n",
            "18/18 [==============================] - 0s 5ms/step - loss: 135.6077 - mae: 135.6077 - val_loss: 766.7803 - val_mae: 766.7803\n",
            "Epoch 12/100\n",
            "18/18 [==============================] - 0s 4ms/step - loss: 124.9587 - mae: 124.9587 - val_loss: 697.4899 - val_mae: 697.4899\n",
            "Epoch 13/100\n",
            "18/18 [==============================] - 0s 5ms/step - loss: 122.3221 - mae: 122.3221 - val_loss: 669.3173 - val_mae: 669.3173\n",
            "Epoch 14/100\n",
            "18/18 [==============================] - 0s 5ms/step - loss: 122.9345 - mae: 122.9345 - val_loss: 666.3599 - val_mae: 666.3599\n",
            "Epoch 15/100\n",
            "18/18 [==============================] - 0s 5ms/step - loss: 120.2738 - mae: 120.2738 - val_loss: 632.3777 - val_mae: 632.3777\n",
            "Epoch 16/100\n",
            "18/18 [==============================] - 0s 4ms/step - loss: 115.7443 - mae: 115.7443 - val_loss: 641.3853 - val_mae: 641.3853\n",
            "Epoch 17/100\n",
            "18/18 [==============================] - 0s 4ms/step - loss: 134.5165 - mae: 134.5165 - val_loss: 674.5880 - val_mae: 674.5880\n",
            "Epoch 18/100\n",
            "18/18 [==============================] - 0s 4ms/step - loss: 123.6525 - mae: 123.6525 - val_loss: 835.1396 - val_mae: 835.1396\n",
            "Epoch 19/100\n",
            "18/18 [==============================] - 0s 4ms/step - loss: 122.5621 - mae: 122.5621 - val_loss: 598.8133 - val_mae: 598.8133\n",
            "Epoch 20/100\n",
            "18/18 [==============================] - 0s 4ms/step - loss: 114.5470 - mae: 114.5470 - val_loss: 737.4131 - val_mae: 737.4131\n",
            "Epoch 21/100\n",
            "18/18 [==============================] - 0s 5ms/step - loss: 116.9593 - mae: 116.9593 - val_loss: 604.0686 - val_mae: 604.0686\n",
            "Epoch 22/100\n",
            "18/18 [==============================] - 0s 4ms/step - loss: 110.2659 - mae: 110.2659 - val_loss: 675.6296 - val_mae: 675.6296\n",
            "Epoch 23/100\n",
            "18/18 [==============================] - 0s 4ms/step - loss: 121.5955 - mae: 121.5955 - val_loss: 930.1791 - val_mae: 930.1791\n",
            "Epoch 24/100\n",
            "18/18 [==============================] - 0s 4ms/step - loss: 124.7381 - mae: 124.7381 - val_loss: 642.4221 - val_mae: 642.4221\n",
            "Epoch 25/100\n",
            "18/18 [==============================] - 0s 5ms/step - loss: 126.7214 - mae: 126.7214 - val_loss: 771.3234 - val_mae: 771.3234\n",
            "Epoch 26/100\n",
            "18/18 [==============================] - 0s 5ms/step - loss: 115.2925 - mae: 115.2925 - val_loss: 580.8054 - val_mae: 580.8054\n",
            "Epoch 27/100\n",
            "18/18 [==============================] - 0s 5ms/step - loss: 111.7836 - mae: 111.7836 - val_loss: 636.8249 - val_mae: 636.8249\n",
            "Epoch 28/100\n",
            "18/18 [==============================] - 0s 4ms/step - loss: 115.7065 - mae: 115.7065 - val_loss: 650.4114 - val_mae: 650.4114\n",
            "Epoch 29/100\n",
            "18/18 [==============================] - 0s 5ms/step - loss: 112.3148 - mae: 112.3148 - val_loss: 576.0891 - val_mae: 576.0891\n",
            "Epoch 30/100\n",
            "18/18 [==============================] - 0s 4ms/step - loss: 108.9837 - mae: 108.9837 - val_loss: 592.6301 - val_mae: 592.6301\n",
            "Epoch 31/100\n",
            "18/18 [==============================] - 0s 5ms/step - loss: 109.7080 - mae: 109.7080 - val_loss: 574.1099 - val_mae: 574.1099\n",
            "Epoch 32/100\n",
            "18/18 [==============================] - 0s 5ms/step - loss: 108.8815 - mae: 108.8815 - val_loss: 586.0903 - val_mae: 586.0903\n",
            "Epoch 33/100\n",
            "18/18 [==============================] - 0s 4ms/step - loss: 109.8601 - mae: 109.8601 - val_loss: 575.0319 - val_mae: 575.0319\n",
            "Epoch 34/100\n",
            "18/18 [==============================] - 0s 4ms/step - loss: 115.8381 - mae: 115.8381 - val_loss: 657.9973 - val_mae: 657.9973\n",
            "Epoch 35/100\n",
            "18/18 [==============================] - 0s 4ms/step - loss: 116.8611 - mae: 116.8611 - val_loss: 645.9140 - val_mae: 645.9140\n",
            "Epoch 36/100\n",
            "18/18 [==============================] - 0s 4ms/step - loss: 131.0383 - mae: 131.0383 - val_loss: 596.0224 - val_mae: 596.0224\n",
            "Epoch 37/100\n",
            "18/18 [==============================] - 0s 5ms/step - loss: 109.8121 - mae: 109.8121 - val_loss: 571.7409 - val_mae: 571.7409\n",
            "Epoch 38/100\n",
            "18/18 [==============================] - 0s 4ms/step - loss: 108.3844 - mae: 108.3844 - val_loss: 574.4373 - val_mae: 574.4373\n",
            "Epoch 39/100\n",
            "18/18 [==============================] - 0s 4ms/step - loss: 107.9249 - mae: 107.9249 - val_loss: 763.3407 - val_mae: 763.3407\n",
            "Epoch 40/100\n",
            "18/18 [==============================] - 0s 4ms/step - loss: 115.3755 - mae: 115.3755 - val_loss: 625.3432 - val_mae: 625.3432\n",
            "Epoch 41/100\n",
            "18/18 [==============================] - 0s 4ms/step - loss: 110.9985 - mae: 110.9985 - val_loss: 572.2586 - val_mae: 572.2586\n",
            "Epoch 42/100\n",
            "18/18 [==============================] - 0s 4ms/step - loss: 113.5419 - mae: 113.5419 - val_loss: 569.9595 - val_mae: 569.9595\n",
            "Epoch 43/100\n",
            "18/18 [==============================] - 0s 4ms/step - loss: 107.3606 - mae: 107.3606 - val_loss: 575.1158 - val_mae: 575.1158\n",
            "Epoch 44/100\n",
            "18/18 [==============================] - 0s 5ms/step - loss: 110.4832 - mae: 110.4832 - val_loss: 668.9355 - val_mae: 668.9355\n",
            "Epoch 45/100\n",
            "18/18 [==============================] - 0s 4ms/step - loss: 113.4144 - mae: 113.4144 - val_loss: 689.1650 - val_mae: 689.1650\n",
            "Epoch 46/100\n",
            "18/18 [==============================] - 0s 4ms/step - loss: 110.9515 - mae: 110.9515 - val_loss: 574.3867 - val_mae: 574.3867\n",
            "Epoch 47/100\n",
            "18/18 [==============================] - 0s 5ms/step - loss: 109.6956 - mae: 109.6956 - val_loss: 577.2754 - val_mae: 577.2754\n",
            "Epoch 48/100\n",
            "18/18 [==============================] - 0s 4ms/step - loss: 113.7676 - mae: 113.7676 - val_loss: 731.0775 - val_mae: 731.0775\n",
            "Epoch 49/100\n",
            "18/18 [==============================] - 0s 5ms/step - loss: 116.0611 - mae: 116.0611 - val_loss: 641.6868 - val_mae: 641.6868\n",
            "Epoch 50/100\n",
            "18/18 [==============================] - 0s 4ms/step - loss: 108.1635 - mae: 108.1635 - val_loss: 572.6665 - val_mae: 572.6665\n",
            "Epoch 51/100\n",
            "18/18 [==============================] - 0s 5ms/step - loss: 106.8059 - mae: 106.8059 - val_loss: 599.6946 - val_mae: 599.6946\n",
            "Epoch 52/100\n",
            "18/18 [==============================] - 0s 4ms/step - loss: 113.8524 - mae: 113.8524 - val_loss: 791.7626 - val_mae: 791.7626\n",
            "Epoch 53/100\n",
            "18/18 [==============================] - 0s 4ms/step - loss: 127.8835 - mae: 127.8835 - val_loss: 718.4912 - val_mae: 718.4912\n",
            "Epoch 54/100\n",
            "18/18 [==============================] - 0s 5ms/step - loss: 111.5733 - mae: 111.5733 - val_loss: 813.2870 - val_mae: 813.2870\n",
            "Epoch 55/100\n",
            "18/18 [==============================] - 0s 4ms/step - loss: 134.9013 - mae: 134.9013 - val_loss: 874.2574 - val_mae: 874.2574\n",
            "Epoch 56/100\n",
            "18/18 [==============================] - 0s 4ms/step - loss: 124.3665 - mae: 124.3665 - val_loss: 665.6364 - val_mae: 665.6364\n",
            "Epoch 57/100\n",
            "18/18 [==============================] - 0s 4ms/step - loss: 111.6017 - mae: 111.6017 - val_loss: 601.4467 - val_mae: 601.4467\n",
            "Epoch 58/100\n",
            "18/18 [==============================] - 0s 5ms/step - loss: 107.7599 - mae: 107.7599 - val_loss: 573.3846 - val_mae: 573.3846\n",
            "Epoch 59/100\n",
            "18/18 [==============================] - 0s 4ms/step - loss: 115.6501 - mae: 115.6501 - val_loss: 675.9491 - val_mae: 675.9491\n",
            "Epoch 60/100\n",
            "18/18 [==============================] - 0s 4ms/step - loss: 113.4951 - mae: 113.4951 - val_loss: 587.5338 - val_mae: 587.5338\n",
            "Epoch 61/100\n",
            "18/18 [==============================] - 0s 4ms/step - loss: 110.2222 - mae: 110.2222 - val_loss: 680.2672 - val_mae: 680.2672\n",
            "Epoch 62/100\n",
            "18/18 [==============================] - 0s 6ms/step - loss: 107.0582 - mae: 107.0582 - val_loss: 572.2563 - val_mae: 572.2563\n",
            "Epoch 63/100\n",
            "18/18 [==============================] - 0s 6ms/step - loss: 118.8697 - mae: 118.8697 - val_loss: 600.0884 - val_mae: 600.0884\n",
            "Epoch 64/100\n",
            "18/18 [==============================] - 0s 6ms/step - loss: 110.6927 - mae: 110.6927 - val_loss: 565.6066 - val_mae: 565.6066\n",
            "Epoch 65/100\n",
            "18/18 [==============================] - 0s 8ms/step - loss: 106.6291 - mae: 106.6291 - val_loss: 605.7580 - val_mae: 605.7580\n",
            "Epoch 66/100\n",
            "18/18 [==============================] - 0s 6ms/step - loss: 128.4607 - mae: 128.4607 - val_loss: 570.6812 - val_mae: 570.6812\n",
            "Epoch 67/100\n",
            "18/18 [==============================] - 0s 7ms/step - loss: 112.8428 - mae: 112.8428 - val_loss: 568.4775 - val_mae: 568.4775\n",
            "Epoch 68/100\n",
            "18/18 [==============================] - 0s 6ms/step - loss: 108.8599 - mae: 108.8599 - val_loss: 568.9161 - val_mae: 568.9161\n",
            "Epoch 69/100\n",
            "18/18 [==============================] - 0s 7ms/step - loss: 107.2134 - mae: 107.2134 - val_loss: 600.9867 - val_mae: 600.9867\n",
            "Epoch 70/100\n",
            "18/18 [==============================] - 0s 6ms/step - loss: 113.1241 - mae: 113.1241 - val_loss: 778.6147 - val_mae: 778.6147\n",
            "Epoch 71/100\n",
            "18/18 [==============================] - 0s 5ms/step - loss: 126.9790 - mae: 126.9790 - val_loss: 584.5099 - val_mae: 584.5099\n",
            "Epoch 72/100\n",
            "18/18 [==============================] - 0s 6ms/step - loss: 107.2439 - mae: 107.2439 - val_loss: 566.4414 - val_mae: 566.4414\n",
            "Epoch 73/100\n",
            "18/18 [==============================] - 0s 6ms/step - loss: 111.4746 - mae: 111.4746 - val_loss: 566.1404 - val_mae: 566.1404\n",
            "Epoch 74/100\n",
            "18/18 [==============================] - 0s 6ms/step - loss: 113.4063 - mae: 113.4063 - val_loss: 618.8873 - val_mae: 618.8873\n",
            "Epoch 75/100\n",
            "18/18 [==============================] - 0s 7ms/step - loss: 111.8611 - mae: 111.8611 - val_loss: 568.1506 - val_mae: 568.1506\n",
            "Epoch 76/100\n",
            "18/18 [==============================] - 0s 6ms/step - loss: 118.0689 - mae: 118.0689 - val_loss: 572.6373 - val_mae: 572.6373\n",
            "Epoch 77/100\n",
            "18/18 [==============================] - 0s 6ms/step - loss: 123.0716 - mae: 123.0716 - val_loss: 653.3885 - val_mae: 653.3885\n",
            "Epoch 78/100\n",
            "18/18 [==============================] - 0s 5ms/step - loss: 115.6172 - mae: 115.6172 - val_loss: 639.5490 - val_mae: 639.5490\n",
            "Epoch 79/100\n",
            "18/18 [==============================] - 0s 6ms/step - loss: 112.3362 - mae: 112.3362 - val_loss: 567.2267 - val_mae: 567.2267\n",
            "Epoch 80/100\n",
            "18/18 [==============================] - 0s 6ms/step - loss: 116.6499 - mae: 116.6499 - val_loss: 565.4525 - val_mae: 565.4525\n",
            "Epoch 81/100\n",
            "18/18 [==============================] - 0s 6ms/step - loss: 110.4517 - mae: 110.4517 - val_loss: 563.7340 - val_mae: 563.7340\n",
            "Epoch 82/100\n",
            "18/18 [==============================] - 0s 6ms/step - loss: 108.8230 - mae: 108.8230 - val_loss: 568.8974 - val_mae: 568.8974\n",
            "Epoch 83/100\n",
            "18/18 [==============================] - 0s 8ms/step - loss: 119.9442 - mae: 119.9442 - val_loss: 1052.0657 - val_mae: 1052.0657\n",
            "Epoch 84/100\n",
            "18/18 [==============================] - 0s 5ms/step - loss: 126.4135 - mae: 126.4135 - val_loss: 727.4548 - val_mae: 727.4548\n",
            "Epoch 85/100\n",
            "18/18 [==============================] - 0s 5ms/step - loss: 118.0644 - mae: 118.0644 - val_loss: 738.4298 - val_mae: 738.4299\n",
            "Epoch 86/100\n",
            "18/18 [==============================] - 0s 4ms/step - loss: 130.9928 - mae: 130.9928 - val_loss: 620.2811 - val_mae: 620.2811\n",
            "Epoch 87/100\n",
            "18/18 [==============================] - 0s 4ms/step - loss: 108.8045 - mae: 108.8045 - val_loss: 577.6318 - val_mae: 577.6318\n",
            "Epoch 88/100\n",
            "18/18 [==============================] - 0s 4ms/step - loss: 108.0429 - mae: 108.0429 - val_loss: 563.7026 - val_mae: 563.7026\n",
            "Epoch 89/100\n",
            "18/18 [==============================] - 0s 4ms/step - loss: 107.8336 - mae: 107.8336 - val_loss: 567.2770 - val_mae: 567.2770\n",
            "Epoch 90/100\n",
            "18/18 [==============================] - 0s 4ms/step - loss: 108.4045 - mae: 108.4045 - val_loss: 567.6640 - val_mae: 567.6640\n",
            "Epoch 91/100\n",
            "18/18 [==============================] - 0s 4ms/step - loss: 112.8010 - mae: 112.8010 - val_loss: 563.3563 - val_mae: 563.3563\n",
            "Epoch 92/100\n",
            "18/18 [==============================] - 0s 4ms/step - loss: 111.9289 - mae: 111.9289 - val_loss: 570.0845 - val_mae: 570.0845\n",
            "Epoch 93/100\n",
            "18/18 [==============================] - 0s 5ms/step - loss: 108.8470 - mae: 108.8470 - val_loss: 626.6837 - val_mae: 626.6837\n",
            "Epoch 94/100\n",
            "18/18 [==============================] - 0s 5ms/step - loss: 107.4806 - mae: 107.4806 - val_loss: 624.7501 - val_mae: 624.7501\n",
            "Epoch 95/100\n",
            "18/18 [==============================] - 0s 5ms/step - loss: 111.5371 - mae: 111.5371 - val_loss: 570.5001 - val_mae: 570.5001\n",
            "Epoch 96/100\n",
            "18/18 [==============================] - 0s 4ms/step - loss: 106.8709 - mae: 106.8709 - val_loss: 575.7059 - val_mae: 575.7059\n",
            "Epoch 97/100\n",
            "18/18 [==============================] - 0s 4ms/step - loss: 110.6506 - mae: 110.6506 - val_loss: 563.7294 - val_mae: 563.7294\n",
            "Epoch 98/100\n",
            "18/18 [==============================] - 0s 5ms/step - loss: 106.7252 - mae: 106.7252 - val_loss: 568.3694 - val_mae: 568.3694\n",
            "Epoch 99/100\n",
            "18/18 [==============================] - 0s 4ms/step - loss: 115.7700 - mae: 115.7700 - val_loss: 809.2974 - val_mae: 809.2974\n",
            "Epoch 100/100\n",
            "18/18 [==============================] - 0s 5ms/step - loss: 119.7018 - mae: 119.7018 - val_loss: 582.8763 - val_mae: 582.8763\n"
          ]
        }
      ]
    },
    {
      "cell_type": "code",
      "source": [
        "model_1.evaluate(test_windows, test_labels)"
      ],
      "metadata": {
        "colab": {
          "base_uri": "https://localhost:8080/"
        },
        "id": "0jsu2E70r-Ld",
        "outputId": "0e980985-e489-4aa2-d17b-e6ea6d22e407"
      },
      "execution_count": 89,
      "outputs": [
        {
          "output_type": "stream",
          "name": "stdout",
          "text": [
            "18/18 [==============================] - 0s 2ms/step - loss: 582.8763 - mae: 582.8763\n"
          ]
        },
        {
          "output_type": "execute_result",
          "data": {
            "text/plain": [
              "[582.8763427734375, 582.8763427734375]"
            ]
          },
          "metadata": {},
          "execution_count": 89
        }
      ]
    },
    {
      "cell_type": "code",
      "source": [
        "model_1_preds = make_preds(model_1, test_windows)\n",
        "model_1_preds[:10]"
      ],
      "metadata": {
        "colab": {
          "base_uri": "https://localhost:8080/"
        },
        "id": "jF-_pw_DsAhA",
        "outputId": "53e9e529-843e-4877-e472-3510dfb620d0"
      },
      "execution_count": 90,
      "outputs": [
        {
          "output_type": "stream",
          "name": "stdout",
          "text": [
            "18/18 [==============================] - 0s 2ms/step\n"
          ]
        },
        {
          "output_type": "execute_result",
          "data": {
            "text/plain": [
              "<tf.Tensor: shape=(10,), dtype=float32, numpy=\n",
              "array([8916.476, 8871.903, 9142.735, 8849.4  , 8814.16 , 8810.512,\n",
              "       8764.618, 8587.691, 8539.189, 8612.711], dtype=float32)>"
            ]
          },
          "metadata": {},
          "execution_count": 90
        }
      ]
    },
    {
      "cell_type": "code",
      "source": [
        "model_1_results = evaluate_preds(tf.squeeze(test_labels), model_1_preds)\n",
        "model_1_results"
      ],
      "metadata": {
        "colab": {
          "base_uri": "https://localhost:8080/"
        },
        "id": "TKng8FmWtLbL",
        "outputId": "84239f72-4678-40b4-c061-1c10fb0a7377"
      },
      "execution_count": 91,
      "outputs": [
        {
          "output_type": "execute_result",
          "data": {
            "text/plain": [
              "{'mae': 582.8762,\n",
              " 'mse': 1197627.1,\n",
              " 'rmse': 1094.3616,\n",
              " 'mape': 2.6206727,\n",
              " 'mase': 1.0239521}"
            ]
          },
          "metadata": {},
          "execution_count": 91
        }
      ]
    },
    {
      "cell_type": "code",
      "source": [
        "model_0_results"
      ],
      "metadata": {
        "colab": {
          "base_uri": "https://localhost:8080/"
        },
        "id": "a9JsKTN3tb8X",
        "outputId": "c77fd612-72d3-4ad1-8636-c65dcb148e08"
      },
      "execution_count": 92,
      "outputs": [
        {
          "output_type": "execute_result",
          "data": {
            "text/plain": [
              "{'mae': 567.9802,\n",
              " 'mse': 1147547.0,\n",
              " 'rmse': 1071.2362,\n",
              " 'mape': 2.5165248,\n",
              " 'mase': 0.99957}"
            ]
          },
          "metadata": {},
          "execution_count": 92
        }
      ]
    },
    {
      "cell_type": "code",
      "source": [
        "plot_time_series(X_test[-len(test_windows):], test_labels[:, 0], start=500, label='test data')\n",
        "plot_time_series(X_test[-len(test_windows):], model_1_preds, start=500, format='-', label='model_1_preds')"
      ],
      "metadata": {
        "colab": {
          "base_uri": "https://localhost:8080/",
          "height": 449
        },
        "id": "NC3RmssYtd1d",
        "outputId": "c39eafcb-5af3-4a62-8a1a-8fd5aaaba889"
      },
      "execution_count": 93,
      "outputs": [
        {
          "output_type": "display_data",
          "data": {
            "text/plain": [
              "<Figure size 640x480 with 1 Axes>"
            ],
            "image/png": "[encoded data removed]"
          },
          "metadata": {}
        }
      ]
    },
    {
      "cell_type": "code",
      "source": [
        "full_windows_30_1, full_labels_30_1 = make_windows(prices, window_size=30)\n",
        "train_windows_30_1, test_windows_30_1, train_labels_30_1, test_labels_30_1 = make_train_test_splits(full_windows_30_1,\n",
        "                                                                                                     full_labels_30_1)\n",
        "model_2 = tf.keras.models.Sequential([\n",
        "    tf.keras.layers.Dense(128),\n",
        "    tf.keras.layers.Dense(1)\n",
        "])\n",
        "model_2.compile(loss=tf.keras.losses.mae,\n",
        "                optimizer=tf.keras.optimizers.Adam(),\n",
        "                metrics=['mae'])\n",
        "history_2 = model_2.fit(train_windows_30_1, train_labels_30_1,\n",
        "                        epochs=100,\n",
        "                        validation_data=(test_windows_30_1, test_labels_30_1),\n",
        "                        batch_size=128)"
      ],
      "metadata": {
        "colab": {
          "base_uri": "https://localhost:8080/"
        },
        "id": "ktfqIvHfu7EF",
        "outputId": "8a445b84-9a1b-4082-b341-dfbbbadd3ef5"
      },
      "execution_count": 94,
      "outputs": [
        {
          "output_type": "stream",
          "name": "stdout",
          "text": [
            "Epoch 1/100\n",
            "18/18 [==============================] - 1s 13ms/step - loss: 1535.6843 - mae: 1535.6843 - val_loss: 2732.7546 - val_mae: 2732.7546\n",
            "Epoch 2/100\n",
            "18/18 [==============================] - 0s 4ms/step - loss: 542.6684 - mae: 542.6684 - val_loss: 1781.3250 - val_mae: 1781.3250\n",
            "Epoch 3/100\n",
            "18/18 [==============================] - 0s 4ms/step - loss: 359.7233 - mae: 359.7233 - val_loss: 1430.4808 - val_mae: 1430.4808\n",
            "Epoch 4/100\n",
            "18/18 [==============================] - 0s 4ms/step - loss: 257.2429 - mae: 257.2429 - val_loss: 1537.5940 - val_mae: 1537.5940\n",
            "Epoch 5/100\n",
            "18/18 [==============================] - 0s 4ms/step - loss: 243.1834 - mae: 243.1834 - val_loss: 1415.3723 - val_mae: 1415.3723\n",
            "Epoch 6/100\n",
            "18/18 [==============================] - 0s 4ms/step - loss: 220.4087 - mae: 220.4087 - val_loss: 1071.8794 - val_mae: 1071.8794\n",
            "Epoch 7/100\n",
            "18/18 [==============================] - 0s 5ms/step - loss: 196.6483 - mae: 196.6483 - val_loss: 1038.0802 - val_mae: 1038.0802\n",
            "Epoch 8/100\n",
            "18/18 [==============================] - 0s 4ms/step - loss: 204.6013 - mae: 204.6013 - val_loss: 1087.0648 - val_mae: 1087.0648\n",
            "Epoch 9/100\n",
            "18/18 [==============================] - 0s 5ms/step - loss: 178.4866 - mae: 178.4866 - val_loss: 929.2158 - val_mae: 929.2158\n",
            "Epoch 10/100\n",
            "18/18 [==============================] - 0s 5ms/step - loss: 171.8711 - mae: 171.8711 - val_loss: 911.4662 - val_mae: 911.4662\n",
            "Epoch 11/100\n",
            "18/18 [==============================] - 0s 4ms/step - loss: 172.8222 - mae: 172.8222 - val_loss: 1226.9438 - val_mae: 1226.9438\n",
            "Epoch 12/100\n",
            "18/18 [==============================] - 0s 5ms/step - loss: 170.6787 - mae: 170.6787 - val_loss: 865.2901 - val_mae: 865.2901\n",
            "Epoch 13/100\n",
            "18/18 [==============================] - 0s 4ms/step - loss: 160.3298 - mae: 160.3298 - val_loss: 848.4967 - val_mae: 848.4966\n",
            "Epoch 14/100\n",
            "18/18 [==============================] - 0s 4ms/step - loss: 155.7968 - mae: 155.7968 - val_loss: 902.5336 - val_mae: 902.5336\n",
            "Epoch 15/100\n",
            "18/18 [==============================] - 0s 4ms/step - loss: 166.9900 - mae: 166.9900 - val_loss: 1502.6674 - val_mae: 1502.6674\n",
            "Epoch 16/100\n",
            "18/18 [==============================] - 0s 4ms/step - loss: 223.6146 - mae: 223.6146 - val_loss: 1318.4441 - val_mae: 1318.4441\n",
            "Epoch 17/100\n",
            "18/18 [==============================] - 0s 4ms/step - loss: 261.8326 - mae: 261.8326 - val_loss: 1773.7838 - val_mae: 1773.7838\n",
            "Epoch 18/100\n",
            "18/18 [==============================] - 0s 5ms/step - loss: 186.1652 - mae: 186.1652 - val_loss: 792.2208 - val_mae: 792.2208\n",
            "Epoch 19/100\n",
            "18/18 [==============================] - 0s 4ms/step - loss: 152.5892 - mae: 152.5892 - val_loss: 809.7451 - val_mae: 809.7451\n",
            "Epoch 20/100\n",
            "18/18 [==============================] - 0s 4ms/step - loss: 156.4935 - mae: 156.4935 - val_loss: 1100.8646 - val_mae: 1100.8646\n",
            "Epoch 21/100\n",
            "18/18 [==============================] - 0s 4ms/step - loss: 160.9683 - mae: 160.9683 - val_loss: 825.6578 - val_mae: 825.6578\n",
            "Epoch 22/100\n",
            "18/18 [==============================] - 0s 6ms/step - loss: 143.2164 - mae: 143.2164 - val_loss: 853.7857 - val_mae: 853.7857\n",
            "Epoch 23/100\n",
            "18/18 [==============================] - 0s 4ms/step - loss: 141.3879 - mae: 141.3879 - val_loss: 743.2003 - val_mae: 743.2003\n",
            "Epoch 24/100\n",
            "18/18 [==============================] - 0s 4ms/step - loss: 138.7891 - mae: 138.7891 - val_loss: 1248.7544 - val_mae: 1248.7544\n",
            "Epoch 25/100\n",
            "18/18 [==============================] - 0s 4ms/step - loss: 194.2275 - mae: 194.2275 - val_loss: 850.6929 - val_mae: 850.6929\n",
            "Epoch 26/100\n",
            "18/18 [==============================] - 0s 5ms/step - loss: 152.7709 - mae: 152.7709 - val_loss: 861.9149 - val_mae: 861.9149\n",
            "Epoch 27/100\n",
            "18/18 [==============================] - 0s 5ms/step - loss: 182.3164 - mae: 182.3164 - val_loss: 873.8969 - val_mae: 873.8969\n",
            "Epoch 28/100\n",
            "18/18 [==============================] - 0s 4ms/step - loss: 158.2728 - mae: 158.2728 - val_loss: 879.5433 - val_mae: 879.5433\n",
            "Epoch 29/100\n",
            "18/18 [==============================] - 0s 4ms/step - loss: 154.8750 - mae: 154.8750 - val_loss: 859.8642 - val_mae: 859.8642\n",
            "Epoch 30/100\n",
            "18/18 [==============================] - 0s 4ms/step - loss: 134.1619 - mae: 134.1619 - val_loss: 912.8977 - val_mae: 912.8977\n",
            "Epoch 31/100\n",
            "18/18 [==============================] - 0s 5ms/step - loss: 163.0825 - mae: 163.0825 - val_loss: 1405.2211 - val_mae: 1405.2211\n",
            "Epoch 32/100\n",
            "18/18 [==============================] - 0s 5ms/step - loss: 182.3056 - mae: 182.3056 - val_loss: 708.3804 - val_mae: 708.3804\n",
            "Epoch 33/100\n",
            "18/18 [==============================] - 0s 5ms/step - loss: 136.0514 - mae: 136.0514 - val_loss: 763.1400 - val_mae: 763.1400\n",
            "Epoch 34/100\n",
            "18/18 [==============================] - 0s 4ms/step - loss: 136.3645 - mae: 136.3645 - val_loss: 889.2896 - val_mae: 889.2896\n",
            "Epoch 35/100\n",
            "18/18 [==============================] - 0s 4ms/step - loss: 137.6597 - mae: 137.6597 - val_loss: 915.0711 - val_mae: 915.0711\n",
            "Epoch 36/100\n",
            "18/18 [==============================] - 0s 4ms/step - loss: 145.0956 - mae: 145.0956 - val_loss: 682.3087 - val_mae: 682.3087\n",
            "Epoch 37/100\n",
            "18/18 [==============================] - 0s 4ms/step - loss: 128.7134 - mae: 128.7134 - val_loss: 870.3444 - val_mae: 870.3444\n",
            "Epoch 38/100\n",
            "18/18 [==============================] - 0s 5ms/step - loss: 133.4247 - mae: 133.4247 - val_loss: 672.3046 - val_mae: 672.3046\n",
            "Epoch 39/100\n",
            "18/18 [==============================] - 0s 5ms/step - loss: 129.4743 - mae: 129.4743 - val_loss: 1443.4333 - val_mae: 1443.4333\n",
            "Epoch 40/100\n",
            "18/18 [==============================] - 0s 5ms/step - loss: 170.7070 - mae: 170.7070 - val_loss: 687.3668 - val_mae: 687.3668\n",
            "Epoch 41/100\n",
            "18/18 [==============================] - 0s 4ms/step - loss: 128.8000 - mae: 128.8000 - val_loss: 666.5156 - val_mae: 666.5156\n",
            "Epoch 42/100\n",
            "18/18 [==============================] - 0s 4ms/step - loss: 126.2447 - mae: 126.2447 - val_loss: 1180.1427 - val_mae: 1180.1427\n",
            "Epoch 43/100\n",
            "18/18 [==============================] - 0s 4ms/step - loss: 160.1324 - mae: 160.1324 - val_loss: 690.6967 - val_mae: 690.6967\n",
            "Epoch 44/100\n",
            "18/18 [==============================] - 0s 4ms/step - loss: 124.2689 - mae: 124.2689 - val_loss: 820.6501 - val_mae: 820.6501\n",
            "Epoch 45/100\n",
            "18/18 [==============================] - 0s 5ms/step - loss: 136.1890 - mae: 136.1890 - val_loss: 670.5870 - val_mae: 670.5870\n",
            "Epoch 46/100\n",
            "18/18 [==============================] - 0s 6ms/step - loss: 175.2326 - mae: 175.2326 - val_loss: 1098.8651 - val_mae: 1098.8651\n",
            "Epoch 47/100\n",
            "18/18 [==============================] - 0s 5ms/step - loss: 144.5356 - mae: 144.5356 - val_loss: 822.8326 - val_mae: 822.8326\n",
            "Epoch 48/100\n",
            "18/18 [==============================] - 0s 5ms/step - loss: 128.0493 - mae: 128.0493 - val_loss: 706.0146 - val_mae: 706.0146\n",
            "Epoch 49/100\n",
            "18/18 [==============================] - 0s 4ms/step - loss: 131.9950 - mae: 131.9950 - val_loss: 830.3209 - val_mae: 830.3209\n",
            "Epoch 50/100\n",
            "18/18 [==============================] - 0s 4ms/step - loss: 136.5993 - mae: 136.5993 - val_loss: 721.6680 - val_mae: 721.6680\n",
            "Epoch 51/100\n",
            "18/18 [==============================] - 0s 5ms/step - loss: 125.8972 - mae: 125.8972 - val_loss: 696.3731 - val_mae: 696.3731\n",
            "Epoch 52/100\n",
            "18/18 [==============================] - 0s 5ms/step - loss: 126.7122 - mae: 126.7122 - val_loss: 1150.1179 - val_mae: 1150.1179\n",
            "Epoch 53/100\n",
            "18/18 [==============================] - 0s 4ms/step - loss: 155.2034 - mae: 155.2034 - val_loss: 634.7747 - val_mae: 634.7747\n",
            "Epoch 54/100\n",
            "18/18 [==============================] - 0s 4ms/step - loss: 121.8258 - mae: 121.8258 - val_loss: 661.1027 - val_mae: 661.1027\n",
            "Epoch 55/100\n",
            "18/18 [==============================] - 0s 4ms/step - loss: 135.7817 - mae: 135.7817 - val_loss: 763.3766 - val_mae: 763.3766\n",
            "Epoch 56/100\n",
            "18/18 [==============================] - 0s 5ms/step - loss: 146.8479 - mae: 146.8479 - val_loss: 1238.4891 - val_mae: 1238.4891\n",
            "Epoch 57/100\n",
            "18/18 [==============================] - 0s 4ms/step - loss: 137.6366 - mae: 137.6366 - val_loss: 855.3560 - val_mae: 855.3560\n",
            "Epoch 58/100\n",
            "18/18 [==============================] - 0s 5ms/step - loss: 133.2449 - mae: 133.2449 - val_loss: 656.9691 - val_mae: 656.9691\n",
            "Epoch 59/100\n",
            "18/18 [==============================] - 0s 4ms/step - loss: 179.1769 - mae: 179.1769 - val_loss: 807.6454 - val_mae: 807.6454\n",
            "Epoch 60/100\n",
            "18/18 [==============================] - 0s 4ms/step - loss: 132.8239 - mae: 132.8239 - val_loss: 632.3224 - val_mae: 632.3224\n",
            "Epoch 61/100\n",
            "18/18 [==============================] - 0s 4ms/step - loss: 124.9203 - mae: 124.9203 - val_loss: 809.0599 - val_mae: 809.0599\n",
            "Epoch 62/100\n",
            "18/18 [==============================] - 0s 5ms/step - loss: 127.7308 - mae: 127.7308 - val_loss: 744.7148 - val_mae: 744.7148\n",
            "Epoch 63/100\n",
            "18/18 [==============================] - 0s 4ms/step - loss: 128.3489 - mae: 128.3489 - val_loss: 1044.5531 - val_mae: 1044.5531\n",
            "Epoch 64/100\n",
            "18/18 [==============================] - 0s 5ms/step - loss: 152.5629 - mae: 152.5629 - val_loss: 619.9023 - val_mae: 619.9023\n",
            "Epoch 65/100\n",
            "18/18 [==============================] - 0s 4ms/step - loss: 145.5597 - mae: 145.5597 - val_loss: 883.5587 - val_mae: 883.5587\n",
            "Epoch 66/100\n",
            "18/18 [==============================] - 0s 4ms/step - loss: 145.0346 - mae: 145.0346 - val_loss: 641.5910 - val_mae: 641.5910\n",
            "Epoch 67/100\n",
            "18/18 [==============================] - 0s 5ms/step - loss: 129.6670 - mae: 129.6670 - val_loss: 661.0733 - val_mae: 661.0733\n",
            "Epoch 68/100\n",
            "18/18 [==============================] - 0s 6ms/step - loss: 152.7694 - mae: 152.7694 - val_loss: 642.2394 - val_mae: 642.2394\n",
            "Epoch 69/100\n",
            "18/18 [==============================] - 0s 8ms/step - loss: 179.8295 - mae: 179.8295 - val_loss: 1137.5013 - val_mae: 1137.5013\n",
            "Epoch 70/100\n",
            "18/18 [==============================] - 0s 6ms/step - loss: 154.6074 - mae: 154.6074 - val_loss: 1730.0596 - val_mae: 1730.0596\n",
            "Epoch 71/100\n",
            "18/18 [==============================] - 0s 5ms/step - loss: 159.8684 - mae: 159.8684 - val_loss: 895.0702 - val_mae: 895.0702\n",
            "Epoch 72/100\n",
            "18/18 [==============================] - 0s 5ms/step - loss: 137.5270 - mae: 137.5270 - val_loss: 902.8017 - val_mae: 902.8017\n",
            "Epoch 73/100\n",
            "18/18 [==============================] - 0s 5ms/step - loss: 137.4952 - mae: 137.4952 - val_loss: 690.8366 - val_mae: 690.8366\n",
            "Epoch 74/100\n",
            "18/18 [==============================] - 0s 6ms/step - loss: 127.1990 - mae: 127.1990 - val_loss: 621.9564 - val_mae: 621.9564\n",
            "Epoch 75/100\n",
            "18/18 [==============================] - 0s 5ms/step - loss: 131.7353 - mae: 131.7353 - val_loss: 624.5416 - val_mae: 624.5416\n",
            "Epoch 76/100\n",
            "18/18 [==============================] - 0s 6ms/step - loss: 117.6290 - mae: 117.6290 - val_loss: 700.0370 - val_mae: 700.0370\n",
            "Epoch 77/100\n",
            "18/18 [==============================] - 0s 6ms/step - loss: 124.6605 - mae: 124.6605 - val_loss: 625.7926 - val_mae: 625.7926\n",
            "Epoch 78/100\n",
            "18/18 [==============================] - 0s 7ms/step - loss: 116.1464 - mae: 116.1464 - val_loss: 834.0900 - val_mae: 834.0900\n",
            "Epoch 79/100\n",
            "18/18 [==============================] - 0s 5ms/step - loss: 145.1409 - mae: 145.1409 - val_loss: 677.2352 - val_mae: 677.2352\n",
            "Epoch 80/100\n",
            "18/18 [==============================] - 0s 6ms/step - loss: 155.9556 - mae: 155.9556 - val_loss: 611.8624 - val_mae: 611.8624\n",
            "Epoch 81/100\n",
            "18/18 [==============================] - 0s 6ms/step - loss: 118.8373 - mae: 118.8373 - val_loss: 694.3621 - val_mae: 694.3621\n",
            "Epoch 82/100\n",
            "18/18 [==============================] - 0s 6ms/step - loss: 126.1078 - mae: 126.1078 - val_loss: 687.9426 - val_mae: 687.9426\n",
            "Epoch 83/100\n",
            "18/18 [==============================] - 0s 6ms/step - loss: 136.5647 - mae: 136.5647 - val_loss: 698.6575 - val_mae: 698.6575\n",
            "Epoch 84/100\n",
            "18/18 [==============================] - 0s 7ms/step - loss: 127.4749 - mae: 127.4749 - val_loss: 663.4753 - val_mae: 663.4753\n",
            "Epoch 85/100\n",
            "18/18 [==============================] - 0s 7ms/step - loss: 119.6117 - mae: 119.6117 - val_loss: 652.9344 - val_mae: 652.9344\n",
            "Epoch 86/100\n",
            "18/18 [==============================] - 0s 6ms/step - loss: 118.2327 - mae: 118.2327 - val_loss: 1011.5890 - val_mae: 1011.5890\n",
            "Epoch 87/100\n",
            "18/18 [==============================] - 0s 6ms/step - loss: 142.6084 - mae: 142.6084 - val_loss: 609.8571 - val_mae: 609.8571\n",
            "Epoch 88/100\n",
            "18/18 [==============================] - 0s 7ms/step - loss: 122.7146 - mae: 122.7146 - val_loss: 607.3130 - val_mae: 607.3130\n",
            "Epoch 89/100\n",
            "18/18 [==============================] - 0s 6ms/step - loss: 115.5447 - mae: 115.5447 - val_loss: 741.8861 - val_mae: 741.8861\n",
            "Epoch 90/100\n",
            "18/18 [==============================] - 0s 4ms/step - loss: 134.4962 - mae: 134.4962 - val_loss: 837.2979 - val_mae: 837.2979\n",
            "Epoch 91/100\n",
            "18/18 [==============================] - 0s 5ms/step - loss: 137.9587 - mae: 137.9587 - val_loss: 833.2363 - val_mae: 833.2363\n",
            "Epoch 92/100\n",
            "18/18 [==============================] - 0s 5ms/step - loss: 125.3644 - mae: 125.3644 - val_loss: 603.4277 - val_mae: 603.4277\n",
            "Epoch 93/100\n",
            "18/18 [==============================] - 0s 5ms/step - loss: 120.7723 - mae: 120.7723 - val_loss: 949.5488 - val_mae: 949.5488\n",
            "Epoch 94/100\n",
            "18/18 [==============================] - 0s 4ms/step - loss: 164.5992 - mae: 164.5992 - val_loss: 931.5657 - val_mae: 931.5657\n",
            "Epoch 95/100\n",
            "18/18 [==============================] - 0s 4ms/step - loss: 128.0572 - mae: 128.0572 - val_loss: 704.9074 - val_mae: 704.9074\n",
            "Epoch 96/100\n",
            "18/18 [==============================] - 0s 4ms/step - loss: 113.0161 - mae: 113.0161 - val_loss: 924.1918 - val_mae: 924.1918\n",
            "Epoch 97/100\n",
            "18/18 [==============================] - 0s 4ms/step - loss: 125.2087 - mae: 125.2087 - val_loss: 869.9501 - val_mae: 869.9501\n",
            "Epoch 98/100\n",
            "18/18 [==============================] - 0s 4ms/step - loss: 127.5826 - mae: 127.5826 - val_loss: 709.0180 - val_mae: 709.0180\n",
            "Epoch 99/100\n",
            "18/18 [==============================] - 0s 4ms/step - loss: 123.1338 - mae: 123.1338 - val_loss: 597.8329 - val_mae: 597.8329\n",
            "Epoch 100/100\n",
            "18/18 [==============================] - 0s 4ms/step - loss: 121.2793 - mae: 121.2793 - val_loss: 597.9149 - val_mae: 597.9149\n"
          ]
        }
      ]
    },
    {
      "cell_type": "code",
      "source": [
        "model_2_preds = make_preds(model_2, test_windows_30_1)\n",
        "model_2_results = evaluate_preds(tf.squeeze(test_labels_30_1), model_2_preds)\n",
        "model_2_results"
      ],
      "metadata": {
        "colab": {
          "base_uri": "https://localhost:8080/"
        },
        "id": "sY0Z2x0nw0C6",
        "outputId": "89f85259-2093-47cd-841a-f73b0edd89e6"
      },
      "execution_count": 95,
      "outputs": [
        {
          "output_type": "stream",
          "name": "stdout",
          "text": [
            "18/18 [==============================] - 0s 2ms/step\n"
          ]
        },
        {
          "output_type": "execute_result",
          "data": {
            "text/plain": [
              "{'mae': 597.91504,\n",
              " 'mse': 1234910.5,\n",
              " 'rmse': 1111.2653,\n",
              " 'mape': 2.7122808,\n",
              " 'mase': 1.0451612}"
            ]
          },
          "metadata": {},
          "execution_count": 95
        }
      ]
    },
    {
      "cell_type": "code",
      "source": [
        "plot_time_series(X_test[-len(test_windows_30_1):], test_labels_30_1[:, 0], start=500, label='test data')\n",
        "plot_time_series(X_test[-len(test_windows_30_1):], model_2_preds, start=500, format='-', label='model_2_preds')"
      ],
      "metadata": {
        "colab": {
          "base_uri": "https://localhost:8080/",
          "height": 449
        },
        "id": "pQVpmpSoxSTm",
        "outputId": "e64bacff-a225-46bb-ff5f-0beee0ce8dd8"
      },
      "execution_count": 96,
      "outputs": [
        {
          "output_type": "display_data",
          "data": {
            "text/plain": [
              "<Figure size 640x480 with 1 Axes>"
            ],
            "image/png": "[encoded data removed]"
          },
          "metadata": {}
        }
      ]
    }
  ]
}