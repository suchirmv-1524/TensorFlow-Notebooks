{
  "nbformat": 4,
  "nbformat_minor": 0,
  "metadata": {
    "colab": {
      "provenance": []
    },
    "kernelspec": {
      "name": "python3",
      "display_name": "Python 3"
    },
    "language_info": {
      "name": "python"
    }
  },
  "cells": [
    {
      "cell_type": "code",
      "execution_count": 1,
      "metadata": {
        "id": "C8o41UQQOuYk"
      },
      "outputs": [],
      "source": [
        "import tensorflow as tf"
      ]
    },
    {
      "cell_type": "code",
      "source": [
        "# NLP\n",
        "!wget https://storage.googleapis.com/ztm_tf_course/nlp_getting_started.zip"
      ],
      "metadata": {
        "colab": {
          "base_uri": "https://localhost:8080/"
        },
        "id": "tjMiuVC1TxaF",
        "outputId": "a1421870-1ed1-42d6-84a1-4f02466f3793"
      },
      "execution_count": 2,
      "outputs": [
        {
          "output_type": "stream",
          "name": "stdout",
          "text": [
            "--2024-03-27 09:00:03--  https://storage.googleapis.com/ztm_tf_course/nlp_getting_started.zip\n",
            "Resolving storage.googleapis.com (storage.googleapis.com)... 74.125.126.207, 142.251.171.207, 74.125.201.207, ...\n",
            "Connecting to storage.googleapis.com (storage.googleapis.com)|74.125.126.207|:443... connected.\n",
            "HTTP request sent, awaiting response... 200 OK\n",
            "Length: 607343 (593K) [application/zip]\n",
            "Saving to: ‘nlp_getting_started.zip’\n",
            "\n",
            "\rnlp_getting_started   0%[                    ]       0  --.-KB/s               \rnlp_getting_started 100%[===================>] 593.11K  --.-KB/s    in 0.01s   \n",
            "\n",
            "2024-03-27 09:00:03 (57.2 MB/s) - ‘nlp_getting_started.zip’ saved [607343/607343]\n",
            "\n"
          ]
        }
      ]
    },
    {
      "cell_type": "code",
      "source": [
        "import zipfile\n",
        "zip = zipfile.ZipFile(\"nlp_getting_started.zip\")\n",
        "zip.extractall()\n",
        "zip.close()"
      ],
      "metadata": {
        "id": "6KuOci4Aam-M"
      },
      "execution_count": 4,
      "outputs": []
    },
    {
      "cell_type": "code",
      "source": [
        "import pandas as pd\n",
        "train_df = pd.read_csv('train.csv')\n",
        "test_df = pd.read_csv(\"test.csv\")"
      ],
      "metadata": {
        "id": "bLKRdC1mbRDH"
      },
      "execution_count": 5,
      "outputs": []
    },
    {
      "cell_type": "code",
      "source": [
        "train_df.head()"
      ],
      "metadata": {
        "colab": {
          "base_uri": "https://localhost:8080/",
          "height": 206
        },
        "id": "mZSsFwePbXst",
        "outputId": "0e5101e5-2c47-4762-f38d-40fba0931a86"
      },
      "execution_count": 6,
      "outputs": [
        {
          "output_type": "execute_result",
          "data": {
            "text/plain": [
              "   id keyword location                                               text  \\\n",
              "0   1     NaN      NaN  Our Deeds are the Reason of this #earthquake M...   \n",
              "1   4     NaN      NaN             Forest fire near La Ronge Sask. Canada   \n",
              "2   5     NaN      NaN  All residents asked to 'shelter in place' are ...   \n",
              "3   6     NaN      NaN  13,000 people receive #wildfires evacuation or...   \n",
              "4   7     NaN      NaN  Just got sent this photo from Ruby #Alaska as ...   \n",
              "\n",
              "   target  \n",
              "0       1  \n",
              "1       1  \n",
              "2       1  \n",
              "3       1  \n",
              "4       1  "
            ],
            "text/html": [
              "\n",
              "  <div id=\"df-c64c47af-bac2-421d-9c66-a19627e5bf6c\" class=\"colab-df-container\">\n",
              "    <div>\n",
              "<style scoped>\n",
              "    .dataframe tbody tr th:only-of-type {\n",
              "        vertical-align: middle;\n",
              "    }\n",
              "\n",
              "    .dataframe tbody tr th {\n",
              "        vertical-align: top;\n",
              "    }\n",
              "\n",
              "    .dataframe thead th {\n",
              "        text-align: right;\n",
              "    }\n",
              "</style>\n",
              "<table border=\"1\" class=\"dataframe\">\n",
              "  <thead>\n",
              "    <tr style=\"text-align: right;\">\n",
              "      <th></th>\n",
              "      <th>id</th>\n",
              "      <th>keyword</th>\n",
              "      <th>location</th>\n",
              "      <th>text</th>\n",
              "      <th>target</th>\n",
              "    </tr>\n",
              "  </thead>\n",
              "  <tbody>\n",
              "    <tr>\n",
              "      <th>0</th>\n",
              "      <td>1</td>\n",
              "      <td>NaN</td>\n",
              "      <td>NaN</td>\n",
              "      <td>Our Deeds are the Reason of this #earthquake M...</td>\n",
              "      <td>1</td>\n",
              "    </tr>\n",
              "    <tr>\n",
              "      <th>1</th>\n",
              "      <td>4</td>\n",
              "      <td>NaN</td>\n",
              "      <td>NaN</td>\n",
              "      <td>Forest fire near La Ronge Sask. Canada</td>\n",
              "      <td>1</td>\n",
              "    </tr>\n",
              "    <tr>\n",
              "      <th>2</th>\n",
              "      <td>5</td>\n",
              "      <td>NaN</td>\n",
              "      <td>NaN</td>\n",
              "      <td>All residents asked to 'shelter in place' are ...</td>\n",
              "      <td>1</td>\n",
              "    </tr>\n",
              "    <tr>\n",
              "      <th>3</th>\n",
              "      <td>6</td>\n",
              "      <td>NaN</td>\n",
              "      <td>NaN</td>\n",
              "      <td>13,000 people receive #wildfires evacuation or...</td>\n",
              "      <td>1</td>\n",
              "    </tr>\n",
              "    <tr>\n",
              "      <th>4</th>\n",
              "      <td>7</td>\n",
              "      <td>NaN</td>\n",
              "      <td>NaN</td>\n",
              "      <td>Just got sent this photo from Ruby #Alaska as ...</td>\n",
              "      <td>1</td>\n",
              "    </tr>\n",
              "  </tbody>\n",
              "</table>\n",
              "</div>\n",
              "    <div class=\"colab-df-buttons\">\n",
              "\n",
              "  <div class=\"colab-df-container\">\n",
              "    <button class=\"colab-df-convert\" onclick=\"convertToInteractive('df-c64c47af-bac2-421d-9c66-a19627e5bf6c')\"\n",
              "            title=\"Convert this dataframe to an interactive table.\"\n",
              "            style=\"display:none;\">\n",
              "\n",
              "  <svg xmlns=\"http://www.w3.org/2000/svg\" height=\"24px\" viewBox=\"0 -960 960 960\">\n",
              "    <path d=\"M120-120v-720h720v720H120Zm60-500h600v-160H180v160Zm220 220h160v-160H400v160Zm0 220h160v-160H400v160ZM180-400h160v-160H180v160Zm440 0h160v-160H620v160ZM180-180h160v-160H180v160Zm440 0h160v-160H620v160Z\"/>\n",
              "  </svg>\n",
              "    </button>\n",
              "\n",
              "  <style>\n",
              "    .colab-df-container {\n",
              "      display:flex;\n",
              "      gap: 12px;\n",
              "    }\n",
              "\n",
              "    .colab-df-convert {\n",
              "      background-color: #E8F0FE;\n",
              "      border: none;\n",
              "      border-radius: 50%;\n",
              "      cursor: pointer;\n",
              "      display: none;\n",
              "      fill: #1967D2;\n",
              "      height: 32px;\n",
              "      padding: 0 0 0 0;\n",
              "      width: 32px;\n",
              "    }\n",
              "\n",
              "    .colab-df-convert:hover {\n",
              "      background-color: #E2EBFA;\n",
              "      box-shadow: 0px 1px 2px rgba(60, 64, 67, 0.3), 0px 1px 3px 1px rgba(60, 64, 67, 0.15);\n",
              "      fill: #174EA6;\n",
              "    }\n",
              "\n",
              "    .colab-df-buttons div {\n",
              "      margin-bottom: 4px;\n",
              "    }\n",
              "\n",
              "    [theme=dark] .colab-df-convert {\n",
              "      background-color: #3B4455;\n",
              "      fill: #D2E3FC;\n",
              "    }\n",
              "\n",
              "    [theme=dark] .colab-df-convert:hover {\n",
              "      background-color: #434B5C;\n",
              "      box-shadow: 0px 1px 3px 1px rgba(0, 0, 0, 0.15);\n",
              "      filter: drop-shadow(0px 1px 2px rgba(0, 0, 0, 0.3));\n",
              "      fill: #FFFFFF;\n",
              "    }\n",
              "  </style>\n",
              "\n",
              "    <script>\n",
              "      const buttonEl =\n",
              "        document.querySelector('#df-c64c47af-bac2-421d-9c66-a19627e5bf6c button.colab-df-convert');\n",
              "      buttonEl.style.display =\n",
              "        google.colab.kernel.accessAllowed ? 'block' : 'none';\n",
              "\n",
              "      async function convertToInteractive(key) {\n",
              "        const element = document.querySelector('#df-c64c47af-bac2-421d-9c66-a19627e5bf6c');\n",
              "        const dataTable =\n",
              "          await google.colab.kernel.invokeFunction('convertToInteractive',\n",
              "                                                    [key], {});\n",
              "        if (!dataTable) return;\n",
              "\n",
              "        const docLinkHtml = 'Like what you see? Visit the ' +\n",
              "          '<a target=\"_blank\" href=https://colab.research.google.com/notebooks/data_table.ipynb>data table notebook</a>'\n",
              "          + ' to learn more about interactive tables.';\n",
              "        element.innerHTML = '';\n",
              "        dataTable['output_type'] = 'display_data';\n",
              "        await google.colab.output.renderOutput(dataTable, element);\n",
              "        const docLink = document.createElement('div');\n",
              "        docLink.innerHTML = docLinkHtml;\n",
              "        element.appendChild(docLink);\n",
              "      }\n",
              "    </script>\n",
              "  </div>\n",
              "\n",
              "\n",
              "<div id=\"df-1dc4ec20-2017-4cae-b022-bce1e5fc3abf\">\n",
              "  <button class=\"colab-df-quickchart\" onclick=\"quickchart('df-1dc4ec20-2017-4cae-b022-bce1e5fc3abf')\"\n",
              "            title=\"Suggest charts\"\n",
              "            style=\"display:none;\">\n",
              "\n",
              "<svg xmlns=\"http://www.w3.org/2000/svg\" height=\"24px\"viewBox=\"0 0 24 24\"\n",
              "     width=\"24px\">\n",
              "    <g>\n",
              "        <path d=\"M19 3H5c-1.1 0-2 .9-2 2v14c0 1.1.9 2 2 2h14c1.1 0 2-.9 2-2V5c0-1.1-.9-2-2-2zM9 17H7v-7h2v7zm4 0h-2V7h2v10zm4 0h-2v-4h2v4z\"/>\n",
              "    </g>\n",
              "</svg>\n",
              "  </button>\n",
              "\n",
              "<style>\n",
              "  .colab-df-quickchart {\n",
              "      --bg-color: #E8F0FE;\n",
              "      --fill-color: #1967D2;\n",
              "      --hover-bg-color: #E2EBFA;\n",
              "      --hover-fill-color: #174EA6;\n",
              "      --disabled-fill-color: #AAA;\n",
              "      --disabled-bg-color: #DDD;\n",
              "  }\n",
              "\n",
              "  [theme=dark] .colab-df-quickchart {\n",
              "      --bg-color: #3B4455;\n",
              "      --fill-color: #D2E3FC;\n",
              "      --hover-bg-color: #434B5C;\n",
              "      --hover-fill-color: #FFFFFF;\n",
              "      --disabled-bg-color: #3B4455;\n",
              "      --disabled-fill-color: #666;\n",
              "  }\n",
              "\n",
              "  .colab-df-quickchart {\n",
              "    background-color: var(--bg-color);\n",
              "    border: none;\n",
              "    border-radius: 50%;\n",
              "    cursor: pointer;\n",
              "    display: none;\n",
              "    fill: var(--fill-color);\n",
              "    height: 32px;\n",
              "    padding: 0;\n",
              "    width: 32px;\n",
              "  }\n",
              "\n",
              "  .colab-df-quickchart:hover {\n",
              "    background-color: var(--hover-bg-color);\n",
              "    box-shadow: 0 1px 2px rgba(60, 64, 67, 0.3), 0 1px 3px 1px rgba(60, 64, 67, 0.15);\n",
              "    fill: var(--button-hover-fill-color);\n",
              "  }\n",
              "\n",
              "  .colab-df-quickchart-complete:disabled,\n",
              "  .colab-df-quickchart-complete:disabled:hover {\n",
              "    background-color: var(--disabled-bg-color);\n",
              "    fill: var(--disabled-fill-color);\n",
              "    box-shadow: none;\n",
              "  }\n",
              "\n",
              "  .colab-df-spinner {\n",
              "    border: 2px solid var(--fill-color);\n",
              "    border-color: transparent;\n",
              "    border-bottom-color: var(--fill-color);\n",
              "    animation:\n",
              "      spin 1s steps(1) infinite;\n",
              "  }\n",
              "\n",
              "  @keyframes spin {\n",
              "    0% {\n",
              "      border-color: transparent;\n",
              "      border-bottom-color: var(--fill-color);\n",
              "      border-left-color: var(--fill-color);\n",
              "    }\n",
              "    20% {\n",
              "      border-color: transparent;\n",
              "      border-left-color: var(--fill-color);\n",
              "      border-top-color: var(--fill-color);\n",
              "    }\n",
              "    30% {\n",
              "      border-color: transparent;\n",
              "      border-left-color: var(--fill-color);\n",
              "      border-top-color: var(--fill-color);\n",
              "      border-right-color: var(--fill-color);\n",
              "    }\n",
              "    40% {\n",
              "      border-color: transparent;\n",
              "      border-right-color: var(--fill-color);\n",
              "      border-top-color: var(--fill-color);\n",
              "    }\n",
              "    60% {\n",
              "      border-color: transparent;\n",
              "      border-right-color: var(--fill-color);\n",
              "    }\n",
              "    80% {\n",
              "      border-color: transparent;\n",
              "      border-right-color: var(--fill-color);\n",
              "      border-bottom-color: var(--fill-color);\n",
              "    }\n",
              "    90% {\n",
              "      border-color: transparent;\n",
              "      border-bottom-color: var(--fill-color);\n",
              "    }\n",
              "  }\n",
              "</style>\n",
              "\n",
              "  <script>\n",
              "    async function quickchart(key) {\n",
              "      const quickchartButtonEl =\n",
              "        document.querySelector('#' + key + ' button');\n",
              "      quickchartButtonEl.disabled = true;  // To prevent multiple clicks.\n",
              "      quickchartButtonEl.classList.add('colab-df-spinner');\n",
              "      try {\n",
              "        const charts = await google.colab.kernel.invokeFunction(\n",
              "            'suggestCharts', [key], {});\n",
              "      } catch (error) {\n",
              "        console.error('Error during call to suggestCharts:', error);\n",
              "      }\n",
              "      quickchartButtonEl.classList.remove('colab-df-spinner');\n",
              "      quickchartButtonEl.classList.add('colab-df-quickchart-complete');\n",
              "    }\n",
              "    (() => {\n",
              "      let quickchartButtonEl =\n",
              "        document.querySelector('#df-1dc4ec20-2017-4cae-b022-bce1e5fc3abf button');\n",
              "      quickchartButtonEl.style.display =\n",
              "        google.colab.kernel.accessAllowed ? 'block' : 'none';\n",
              "    })();\n",
              "  </script>\n",
              "</div>\n",
              "\n",
              "    </div>\n",
              "  </div>\n"
            ],
            "application/vnd.google.colaboratory.intrinsic+json": {
              "type": "dataframe",
              "variable_name": "train_df",
              "summary": "{\n  \"name\": \"train_df\",\n  \"rows\": 7613,\n  \"fields\": [\n    {\n      \"column\": \"id\",\n      \"properties\": {\n        \"dtype\": \"number\",\n        \"std\": 3137,\n        \"min\": 1,\n        \"max\": 10873,\n        \"num_unique_values\": 7613,\n        \"samples\": [\n          3796,\n          3185,\n          7769\n        ],\n        \"semantic_type\": \"\",\n        \"description\": \"\"\n      }\n    },\n    {\n      \"column\": \"keyword\",\n      \"properties\": {\n        \"dtype\": \"category\",\n        \"num_unique_values\": 221,\n        \"samples\": [\n          \"injury\",\n          \"nuclear%20reactor\",\n          \"engulfed\"\n        ],\n        \"semantic_type\": \"\",\n        \"description\": \"\"\n      }\n    },\n    {\n      \"column\": \"location\",\n      \"properties\": {\n        \"dtype\": \"category\",\n        \"num_unique_values\": 3341,\n        \"samples\": [\n          \"Oklahoma\",\n          \"Starling City\",\n          \"Trinidad and Tobago\"\n        ],\n        \"semantic_type\": \"\",\n        \"description\": \"\"\n      }\n    },\n    {\n      \"column\": \"text\",\n      \"properties\": {\n        \"dtype\": \"string\",\n        \"num_unique_values\": 7503,\n        \"samples\": [\n          \"Three Homes Demolished in Unrecognized Arab Village - International Middle East Media Center http://t.co/ik8m4Yi9T4\",\n          \"Reid Lake fire prompts campground evacuation order http://t.co/jBODKM6rBU\",\n          \"FAAN orders evacuation of abandoned aircraft at MMA http://t.co/dEvYbnVXGQ via @todayng\"\n        ],\n        \"semantic_type\": \"\",\n        \"description\": \"\"\n      }\n    },\n    {\n      \"column\": \"target\",\n      \"properties\": {\n        \"dtype\": \"number\",\n        \"std\": 0,\n        \"min\": 0,\n        \"max\": 1,\n        \"num_unique_values\": 2,\n        \"samples\": [\n          0,\n          1\n        ],\n        \"semantic_type\": \"\",\n        \"description\": \"\"\n      }\n    }\n  ]\n}"
            }
          },
          "metadata": {},
          "execution_count": 6
        }
      ]
    },
    {
      "cell_type": "code",
      "source": [
        "train_df.tail()"
      ],
      "metadata": {
        "colab": {
          "base_uri": "https://localhost:8080/",
          "height": 206
        },
        "id": "ZGsThgQMb88C",
        "outputId": "a9341280-fb1b-4955-b67f-713a4d05cd22"
      },
      "execution_count": 7,
      "outputs": [
        {
          "output_type": "execute_result",
          "data": {
            "text/plain": [
              "         id keyword location  \\\n",
              "7608  10869     NaN      NaN   \n",
              "7609  10870     NaN      NaN   \n",
              "7610  10871     NaN      NaN   \n",
              "7611  10872     NaN      NaN   \n",
              "7612  10873     NaN      NaN   \n",
              "\n",
              "                                                   text  target  \n",
              "7608  Two giant cranes holding a bridge collapse int...       1  \n",
              "7609  @aria_ahrary @TheTawniest The out of control w...       1  \n",
              "7610  M1.94 [01:04 UTC]?5km S of Volcano Hawaii. htt...       1  \n",
              "7611  Police investigating after an e-bike collided ...       1  \n",
              "7612  The Latest: More Homes Razed by Northern Calif...       1  "
            ],
            "text/html": [
              "\n",
              "  <div id=\"df-fafde776-00d5-4c3b-9890-3ee176bd5c17\" class=\"colab-df-container\">\n",
              "    <div>\n",
              "<style scoped>\n",
              "    .dataframe tbody tr th:only-of-type {\n",
              "        vertical-align: middle;\n",
              "    }\n",
              "\n",
              "    .dataframe tbody tr th {\n",
              "        vertical-align: top;\n",
              "    }\n",
              "\n",
              "    .dataframe thead th {\n",
              "        text-align: right;\n",
              "    }\n",
              "</style>\n",
              "<table border=\"1\" class=\"dataframe\">\n",
              "  <thead>\n",
              "    <tr style=\"text-align: right;\">\n",
              "      <th></th>\n",
              "      <th>id</th>\n",
              "      <th>keyword</th>\n",
              "      <th>location</th>\n",
              "      <th>text</th>\n",
              "      <th>target</th>\n",
              "    </tr>\n",
              "  </thead>\n",
              "  <tbody>\n",
              "    <tr>\n",
              "      <th>7608</th>\n",
              "      <td>10869</td>\n",
              "      <td>NaN</td>\n",
              "      <td>NaN</td>\n",
              "      <td>Two giant cranes holding a bridge collapse int...</td>\n",
              "      <td>1</td>\n",
              "    </tr>\n",
              "    <tr>\n",
              "      <th>7609</th>\n",
              "      <td>10870</td>\n",
              "      <td>NaN</td>\n",
              "      <td>NaN</td>\n",
              "      <td>@aria_ahrary @TheTawniest The out of control w...</td>\n",
              "      <td>1</td>\n",
              "    </tr>\n",
              "    <tr>\n",
              "      <th>7610</th>\n",
              "      <td>10871</td>\n",
              "      <td>NaN</td>\n",
              "      <td>NaN</td>\n",
              "      <td>M1.94 [01:04 UTC]?5km S of Volcano Hawaii. htt...</td>\n",
              "      <td>1</td>\n",
              "    </tr>\n",
              "    <tr>\n",
              "      <th>7611</th>\n",
              "      <td>10872</td>\n",
              "      <td>NaN</td>\n",
              "      <td>NaN</td>\n",
              "      <td>Police investigating after an e-bike collided ...</td>\n",
              "      <td>1</td>\n",
              "    </tr>\n",
              "    <tr>\n",
              "      <th>7612</th>\n",
              "      <td>10873</td>\n",
              "      <td>NaN</td>\n",
              "      <td>NaN</td>\n",
              "      <td>The Latest: More Homes Razed by Northern Calif...</td>\n",
              "      <td>1</td>\n",
              "    </tr>\n",
              "  </tbody>\n",
              "</table>\n",
              "</div>\n",
              "    <div class=\"colab-df-buttons\">\n",
              "\n",
              "  <div class=\"colab-df-container\">\n",
              "    <button class=\"colab-df-convert\" onclick=\"convertToInteractive('df-fafde776-00d5-4c3b-9890-3ee176bd5c17')\"\n",
              "            title=\"Convert this dataframe to an interactive table.\"\n",
              "            style=\"display:none;\">\n",
              "\n",
              "  <svg xmlns=\"http://www.w3.org/2000/svg\" height=\"24px\" viewBox=\"0 -960 960 960\">\n",
              "    <path d=\"M120-120v-720h720v720H120Zm60-500h600v-160H180v160Zm220 220h160v-160H400v160Zm0 220h160v-160H400v160ZM180-400h160v-160H180v160Zm440 0h160v-160H620v160ZM180-180h160v-160H180v160Zm440 0h160v-160H620v160Z\"/>\n",
              "  </svg>\n",
              "    </button>\n",
              "\n",
              "  <style>\n",
              "    .colab-df-container {\n",
              "      display:flex;\n",
              "      gap: 12px;\n",
              "    }\n",
              "\n",
              "    .colab-df-convert {\n",
              "      background-color: #E8F0FE;\n",
              "      border: none;\n",
              "      border-radius: 50%;\n",
              "      cursor: pointer;\n",
              "      display: none;\n",
              "      fill: #1967D2;\n",
              "      height: 32px;\n",
              "      padding: 0 0 0 0;\n",
              "      width: 32px;\n",
              "    }\n",
              "\n",
              "    .colab-df-convert:hover {\n",
              "      background-color: #E2EBFA;\n",
              "      box-shadow: 0px 1px 2px rgba(60, 64, 67, 0.3), 0px 1px 3px 1px rgba(60, 64, 67, 0.15);\n",
              "      fill: #174EA6;\n",
              "    }\n",
              "\n",
              "    .colab-df-buttons div {\n",
              "      margin-bottom: 4px;\n",
              "    }\n",
              "\n",
              "    [theme=dark] .colab-df-convert {\n",
              "      background-color: #3B4455;\n",
              "      fill: #D2E3FC;\n",
              "    }\n",
              "\n",
              "    [theme=dark] .colab-df-convert:hover {\n",
              "      background-color: #434B5C;\n",
              "      box-shadow: 0px 1px 3px 1px rgba(0, 0, 0, 0.15);\n",
              "      filter: drop-shadow(0px 1px 2px rgba(0, 0, 0, 0.3));\n",
              "      fill: #FFFFFF;\n",
              "    }\n",
              "  </style>\n",
              "\n",
              "    <script>\n",
              "      const buttonEl =\n",
              "        document.querySelector('#df-fafde776-00d5-4c3b-9890-3ee176bd5c17 button.colab-df-convert');\n",
              "      buttonEl.style.display =\n",
              "        google.colab.kernel.accessAllowed ? 'block' : 'none';\n",
              "\n",
              "      async function convertToInteractive(key) {\n",
              "        const element = document.querySelector('#df-fafde776-00d5-4c3b-9890-3ee176bd5c17');\n",
              "        const dataTable =\n",
              "          await google.colab.kernel.invokeFunction('convertToInteractive',\n",
              "                                                    [key], {});\n",
              "        if (!dataTable) return;\n",
              "\n",
              "        const docLinkHtml = 'Like what you see? Visit the ' +\n",
              "          '<a target=\"_blank\" href=https://colab.research.google.com/notebooks/data_table.ipynb>data table notebook</a>'\n",
              "          + ' to learn more about interactive tables.';\n",
              "        element.innerHTML = '';\n",
              "        dataTable['output_type'] = 'display_data';\n",
              "        await google.colab.output.renderOutput(dataTable, element);\n",
              "        const docLink = document.createElement('div');\n",
              "        docLink.innerHTML = docLinkHtml;\n",
              "        element.appendChild(docLink);\n",
              "      }\n",
              "    </script>\n",
              "  </div>\n",
              "\n",
              "\n",
              "<div id=\"df-306db696-85c5-4ca6-bbce-9ceb5eca127f\">\n",
              "  <button class=\"colab-df-quickchart\" onclick=\"quickchart('df-306db696-85c5-4ca6-bbce-9ceb5eca127f')\"\n",
              "            title=\"Suggest charts\"\n",
              "            style=\"display:none;\">\n",
              "\n",
              "<svg xmlns=\"http://www.w3.org/2000/svg\" height=\"24px\"viewBox=\"0 0 24 24\"\n",
              "     width=\"24px\">\n",
              "    <g>\n",
              "        <path d=\"M19 3H5c-1.1 0-2 .9-2 2v14c0 1.1.9 2 2 2h14c1.1 0 2-.9 2-2V5c0-1.1-.9-2-2-2zM9 17H7v-7h2v7zm4 0h-2V7h2v10zm4 0h-2v-4h2v4z\"/>\n",
              "    </g>\n",
              "</svg>\n",
              "  </button>\n",
              "\n",
              "<style>\n",
              "  .colab-df-quickchart {\n",
              "      --bg-color: #E8F0FE;\n",
              "      --fill-color: #1967D2;\n",
              "      --hover-bg-color: #E2EBFA;\n",
              "      --hover-fill-color: #174EA6;\n",
              "      --disabled-fill-color: #AAA;\n",
              "      --disabled-bg-color: #DDD;\n",
              "  }\n",
              "\n",
              "  [theme=dark] .colab-df-quickchart {\n",
              "      --bg-color: #3B4455;\n",
              "      --fill-color: #D2E3FC;\n",
              "      --hover-bg-color: #434B5C;\n",
              "      --hover-fill-color: #FFFFFF;\n",
              "      --disabled-bg-color: #3B4455;\n",
              "      --disabled-fill-color: #666;\n",
              "  }\n",
              "\n",
              "  .colab-df-quickchart {\n",
              "    background-color: var(--bg-color);\n",
              "    border: none;\n",
              "    border-radius: 50%;\n",
              "    cursor: pointer;\n",
              "    display: none;\n",
              "    fill: var(--fill-color);\n",
              "    height: 32px;\n",
              "    padding: 0;\n",
              "    width: 32px;\n",
              "  }\n",
              "\n",
              "  .colab-df-quickchart:hover {\n",
              "    background-color: var(--hover-bg-color);\n",
              "    box-shadow: 0 1px 2px rgba(60, 64, 67, 0.3), 0 1px 3px 1px rgba(60, 64, 67, 0.15);\n",
              "    fill: var(--button-hover-fill-color);\n",
              "  }\n",
              "\n",
              "  .colab-df-quickchart-complete:disabled,\n",
              "  .colab-df-quickchart-complete:disabled:hover {\n",
              "    background-color: var(--disabled-bg-color);\n",
              "    fill: var(--disabled-fill-color);\n",
              "    box-shadow: none;\n",
              "  }\n",
              "\n",
              "  .colab-df-spinner {\n",
              "    border: 2px solid var(--fill-color);\n",
              "    border-color: transparent;\n",
              "    border-bottom-color: var(--fill-color);\n",
              "    animation:\n",
              "      spin 1s steps(1) infinite;\n",
              "  }\n",
              "\n",
              "  @keyframes spin {\n",
              "    0% {\n",
              "      border-color: transparent;\n",
              "      border-bottom-color: var(--fill-color);\n",
              "      border-left-color: var(--fill-color);\n",
              "    }\n",
              "    20% {\n",
              "      border-color: transparent;\n",
              "      border-left-color: var(--fill-color);\n",
              "      border-top-color: var(--fill-color);\n",
              "    }\n",
              "    30% {\n",
              "      border-color: transparent;\n",
              "      border-left-color: var(--fill-color);\n",
              "      border-top-color: var(--fill-color);\n",
              "      border-right-color: var(--fill-color);\n",
              "    }\n",
              "    40% {\n",
              "      border-color: transparent;\n",
              "      border-right-color: var(--fill-color);\n",
              "      border-top-color: var(--fill-color);\n",
              "    }\n",
              "    60% {\n",
              "      border-color: transparent;\n",
              "      border-right-color: var(--fill-color);\n",
              "    }\n",
              "    80% {\n",
              "      border-color: transparent;\n",
              "      border-right-color: var(--fill-color);\n",
              "      border-bottom-color: var(--fill-color);\n",
              "    }\n",
              "    90% {\n",
              "      border-color: transparent;\n",
              "      border-bottom-color: var(--fill-color);\n",
              "    }\n",
              "  }\n",
              "</style>\n",
              "\n",
              "  <script>\n",
              "    async function quickchart(key) {\n",
              "      const quickchartButtonEl =\n",
              "        document.querySelector('#' + key + ' button');\n",
              "      quickchartButtonEl.disabled = true;  // To prevent multiple clicks.\n",
              "      quickchartButtonEl.classList.add('colab-df-spinner');\n",
              "      try {\n",
              "        const charts = await google.colab.kernel.invokeFunction(\n",
              "            'suggestCharts', [key], {});\n",
              "      } catch (error) {\n",
              "        console.error('Error during call to suggestCharts:', error);\n",
              "      }\n",
              "      quickchartButtonEl.classList.remove('colab-df-spinner');\n",
              "      quickchartButtonEl.classList.add('colab-df-quickchart-complete');\n",
              "    }\n",
              "    (() => {\n",
              "      let quickchartButtonEl =\n",
              "        document.querySelector('#df-306db696-85c5-4ca6-bbce-9ceb5eca127f button');\n",
              "      quickchartButtonEl.style.display =\n",
              "        google.colab.kernel.accessAllowed ? 'block' : 'none';\n",
              "    })();\n",
              "  </script>\n",
              "</div>\n",
              "\n",
              "    </div>\n",
              "  </div>\n"
            ],
            "application/vnd.google.colaboratory.intrinsic+json": {
              "type": "dataframe",
              "repr_error": "0"
            }
          },
          "metadata": {},
          "execution_count": 7
        }
      ]
    },
    {
      "cell_type": "code",
      "source": [
        "train_df_shuffled = train_df.sample(frac = 1, random_state=42)\n",
        "train_df_shuffled.head()"
      ],
      "metadata": {
        "colab": {
          "base_uri": "https://localhost:8080/",
          "height": 206
        },
        "id": "-mPYjxcpbzCW",
        "outputId": "5ffa2d71-7400-4f01-f34e-8985e8cb7d72"
      },
      "execution_count": 8,
      "outputs": [
        {
          "output_type": "execute_result",
          "data": {
            "text/plain": [
              "        id      keyword               location  \\\n",
              "2644  3796  destruction                    NaN   \n",
              "2227  3185       deluge                    NaN   \n",
              "5448  7769       police                     UK   \n",
              "132    191   aftershock                    NaN   \n",
              "6845  9810       trauma  Montgomery County, MD   \n",
              "\n",
              "                                                   text  target  \n",
              "2644  So you have a new weapon that can cause un-ima...       1  \n",
              "2227  The f$&amp;@ing things I do for #GISHWHES Just...       0  \n",
              "5448  DT @georgegalloway: RT @Galloway4Mayor: ÛÏThe...       1  \n",
              "132   Aftershock back to school kick off was great. ...       0  \n",
              "6845  in response to trauma Children of Addicts deve...       0  "
            ],
            "text/html": [
              "\n",
              "  <div id=\"df-1af2ffc6-9704-4bf9-9c61-e103ebf01fb8\" class=\"colab-df-container\">\n",
              "    <div>\n",
              "<style scoped>\n",
              "    .dataframe tbody tr th:only-of-type {\n",
              "        vertical-align: middle;\n",
              "    }\n",
              "\n",
              "    .dataframe tbody tr th {\n",
              "        vertical-align: top;\n",
              "    }\n",
              "\n",
              "    .dataframe thead th {\n",
              "        text-align: right;\n",
              "    }\n",
              "</style>\n",
              "<table border=\"1\" class=\"dataframe\">\n",
              "  <thead>\n",
              "    <tr style=\"text-align: right;\">\n",
              "      <th></th>\n",
              "      <th>id</th>\n",
              "      <th>keyword</th>\n",
              "      <th>location</th>\n",
              "      <th>text</th>\n",
              "      <th>target</th>\n",
              "    </tr>\n",
              "  </thead>\n",
              "  <tbody>\n",
              "    <tr>\n",
              "      <th>2644</th>\n",
              "      <td>3796</td>\n",
              "      <td>destruction</td>\n",
              "      <td>NaN</td>\n",
              "      <td>So you have a new weapon that can cause un-ima...</td>\n",
              "      <td>1</td>\n",
              "    </tr>\n",
              "    <tr>\n",
              "      <th>2227</th>\n",
              "      <td>3185</td>\n",
              "      <td>deluge</td>\n",
              "      <td>NaN</td>\n",
              "      <td>The f$&amp;amp;@ing things I do for #GISHWHES Just...</td>\n",
              "      <td>0</td>\n",
              "    </tr>\n",
              "    <tr>\n",
              "      <th>5448</th>\n",
              "      <td>7769</td>\n",
              "      <td>police</td>\n",
              "      <td>UK</td>\n",
              "      <td>DT @georgegalloway: RT @Galloway4Mayor: ÛÏThe...</td>\n",
              "      <td>1</td>\n",
              "    </tr>\n",
              "    <tr>\n",
              "      <th>132</th>\n",
              "      <td>191</td>\n",
              "      <td>aftershock</td>\n",
              "      <td>NaN</td>\n",
              "      <td>Aftershock back to school kick off was great. ...</td>\n",
              "      <td>0</td>\n",
              "    </tr>\n",
              "    <tr>\n",
              "      <th>6845</th>\n",
              "      <td>9810</td>\n",
              "      <td>trauma</td>\n",
              "      <td>Montgomery County, MD</td>\n",
              "      <td>in response to trauma Children of Addicts deve...</td>\n",
              "      <td>0</td>\n",
              "    </tr>\n",
              "  </tbody>\n",
              "</table>\n",
              "</div>\n",
              "    <div class=\"colab-df-buttons\">\n",
              "\n",
              "  <div class=\"colab-df-container\">\n",
              "    <button class=\"colab-df-convert\" onclick=\"convertToInteractive('df-1af2ffc6-9704-4bf9-9c61-e103ebf01fb8')\"\n",
              "            title=\"Convert this dataframe to an interactive table.\"\n",
              "            style=\"display:none;\">\n",
              "\n",
              "  <svg xmlns=\"http://www.w3.org/2000/svg\" height=\"24px\" viewBox=\"0 -960 960 960\">\n",
              "    <path d=\"M120-120v-720h720v720H120Zm60-500h600v-160H180v160Zm220 220h160v-160H400v160Zm0 220h160v-160H400v160ZM180-400h160v-160H180v160Zm440 0h160v-160H620v160ZM180-180h160v-160H180v160Zm440 0h160v-160H620v160Z\"/>\n",
              "  </svg>\n",
              "    </button>\n",
              "\n",
              "  <style>\n",
              "    .colab-df-container {\n",
              "      display:flex;\n",
              "      gap: 12px;\n",
              "    }\n",
              "\n",
              "    .colab-df-convert {\n",
              "      background-color: #E8F0FE;\n",
              "      border: none;\n",
              "      border-radius: 50%;\n",
              "      cursor: pointer;\n",
              "      display: none;\n",
              "      fill: #1967D2;\n",
              "      height: 32px;\n",
              "      padding: 0 0 0 0;\n",
              "      width: 32px;\n",
              "    }\n",
              "\n",
              "    .colab-df-convert:hover {\n",
              "      background-color: #E2EBFA;\n",
              "      box-shadow: 0px 1px 2px rgba(60, 64, 67, 0.3), 0px 1px 3px 1px rgba(60, 64, 67, 0.15);\n",
              "      fill: #174EA6;\n",
              "    }\n",
              "\n",
              "    .colab-df-buttons div {\n",
              "      margin-bottom: 4px;\n",
              "    }\n",
              "\n",
              "    [theme=dark] .colab-df-convert {\n",
              "      background-color: #3B4455;\n",
              "      fill: #D2E3FC;\n",
              "    }\n",
              "\n",
              "    [theme=dark] .colab-df-convert:hover {\n",
              "      background-color: #434B5C;\n",
              "      box-shadow: 0px 1px 3px 1px rgba(0, 0, 0, 0.15);\n",
              "      filter: drop-shadow(0px 1px 2px rgba(0, 0, 0, 0.3));\n",
              "      fill: #FFFFFF;\n",
              "    }\n",
              "  </style>\n",
              "\n",
              "    <script>\n",
              "      const buttonEl =\n",
              "        document.querySelector('#df-1af2ffc6-9704-4bf9-9c61-e103ebf01fb8 button.colab-df-convert');\n",
              "      buttonEl.style.display =\n",
              "        google.colab.kernel.accessAllowed ? 'block' : 'none';\n",
              "\n",
              "      async function convertToInteractive(key) {\n",
              "        const element = document.querySelector('#df-1af2ffc6-9704-4bf9-9c61-e103ebf01fb8');\n",
              "        const dataTable =\n",
              "          await google.colab.kernel.invokeFunction('convertToInteractive',\n",
              "                                                    [key], {});\n",
              "        if (!dataTable) return;\n",
              "\n",
              "        const docLinkHtml = 'Like what you see? Visit the ' +\n",
              "          '<a target=\"_blank\" href=https://colab.research.google.com/notebooks/data_table.ipynb>data table notebook</a>'\n",
              "          + ' to learn more about interactive tables.';\n",
              "        element.innerHTML = '';\n",
              "        dataTable['output_type'] = 'display_data';\n",
              "        await google.colab.output.renderOutput(dataTable, element);\n",
              "        const docLink = document.createElement('div');\n",
              "        docLink.innerHTML = docLinkHtml;\n",
              "        element.appendChild(docLink);\n",
              "      }\n",
              "    </script>\n",
              "  </div>\n",
              "\n",
              "\n",
              "<div id=\"df-7a62c122-015f-423b-91a6-bd1ddbe5de79\">\n",
              "  <button class=\"colab-df-quickchart\" onclick=\"quickchart('df-7a62c122-015f-423b-91a6-bd1ddbe5de79')\"\n",
              "            title=\"Suggest charts\"\n",
              "            style=\"display:none;\">\n",
              "\n",
              "<svg xmlns=\"http://www.w3.org/2000/svg\" height=\"24px\"viewBox=\"0 0 24 24\"\n",
              "     width=\"24px\">\n",
              "    <g>\n",
              "        <path d=\"M19 3H5c-1.1 0-2 .9-2 2v14c0 1.1.9 2 2 2h14c1.1 0 2-.9 2-2V5c0-1.1-.9-2-2-2zM9 17H7v-7h2v7zm4 0h-2V7h2v10zm4 0h-2v-4h2v4z\"/>\n",
              "    </g>\n",
              "</svg>\n",
              "  </button>\n",
              "\n",
              "<style>\n",
              "  .colab-df-quickchart {\n",
              "      --bg-color: #E8F0FE;\n",
              "      --fill-color: #1967D2;\n",
              "      --hover-bg-color: #E2EBFA;\n",
              "      --hover-fill-color: #174EA6;\n",
              "      --disabled-fill-color: #AAA;\n",
              "      --disabled-bg-color: #DDD;\n",
              "  }\n",
              "\n",
              "  [theme=dark] .colab-df-quickchart {\n",
              "      --bg-color: #3B4455;\n",
              "      --fill-color: #D2E3FC;\n",
              "      --hover-bg-color: #434B5C;\n",
              "      --hover-fill-color: #FFFFFF;\n",
              "      --disabled-bg-color: #3B4455;\n",
              "      --disabled-fill-color: #666;\n",
              "  }\n",
              "\n",
              "  .colab-df-quickchart {\n",
              "    background-color: var(--bg-color);\n",
              "    border: none;\n",
              "    border-radius: 50%;\n",
              "    cursor: pointer;\n",
              "    display: none;\n",
              "    fill: var(--fill-color);\n",
              "    height: 32px;\n",
              "    padding: 0;\n",
              "    width: 32px;\n",
              "  }\n",
              "\n",
              "  .colab-df-quickchart:hover {\n",
              "    background-color: var(--hover-bg-color);\n",
              "    box-shadow: 0 1px 2px rgba(60, 64, 67, 0.3), 0 1px 3px 1px rgba(60, 64, 67, 0.15);\n",
              "    fill: var(--button-hover-fill-color);\n",
              "  }\n",
              "\n",
              "  .colab-df-quickchart-complete:disabled,\n",
              "  .colab-df-quickchart-complete:disabled:hover {\n",
              "    background-color: var(--disabled-bg-color);\n",
              "    fill: var(--disabled-fill-color);\n",
              "    box-shadow: none;\n",
              "  }\n",
              "\n",
              "  .colab-df-spinner {\n",
              "    border: 2px solid var(--fill-color);\n",
              "    border-color: transparent;\n",
              "    border-bottom-color: var(--fill-color);\n",
              "    animation:\n",
              "      spin 1s steps(1) infinite;\n",
              "  }\n",
              "\n",
              "  @keyframes spin {\n",
              "    0% {\n",
              "      border-color: transparent;\n",
              "      border-bottom-color: var(--fill-color);\n",
              "      border-left-color: var(--fill-color);\n",
              "    }\n",
              "    20% {\n",
              "      border-color: transparent;\n",
              "      border-left-color: var(--fill-color);\n",
              "      border-top-color: var(--fill-color);\n",
              "    }\n",
              "    30% {\n",
              "      border-color: transparent;\n",
              "      border-left-color: var(--fill-color);\n",
              "      border-top-color: var(--fill-color);\n",
              "      border-right-color: var(--fill-color);\n",
              "    }\n",
              "    40% {\n",
              "      border-color: transparent;\n",
              "      border-right-color: var(--fill-color);\n",
              "      border-top-color: var(--fill-color);\n",
              "    }\n",
              "    60% {\n",
              "      border-color: transparent;\n",
              "      border-right-color: var(--fill-color);\n",
              "    }\n",
              "    80% {\n",
              "      border-color: transparent;\n",
              "      border-right-color: var(--fill-color);\n",
              "      border-bottom-color: var(--fill-color);\n",
              "    }\n",
              "    90% {\n",
              "      border-color: transparent;\n",
              "      border-bottom-color: var(--fill-color);\n",
              "    }\n",
              "  }\n",
              "</style>\n",
              "\n",
              "  <script>\n",
              "    async function quickchart(key) {\n",
              "      const quickchartButtonEl =\n",
              "        document.querySelector('#' + key + ' button');\n",
              "      quickchartButtonEl.disabled = true;  // To prevent multiple clicks.\n",
              "      quickchartButtonEl.classList.add('colab-df-spinner');\n",
              "      try {\n",
              "        const charts = await google.colab.kernel.invokeFunction(\n",
              "            'suggestCharts', [key], {});\n",
              "      } catch (error) {\n",
              "        console.error('Error during call to suggestCharts:', error);\n",
              "      }\n",
              "      quickchartButtonEl.classList.remove('colab-df-spinner');\n",
              "      quickchartButtonEl.classList.add('colab-df-quickchart-complete');\n",
              "    }\n",
              "    (() => {\n",
              "      let quickchartButtonEl =\n",
              "        document.querySelector('#df-7a62c122-015f-423b-91a6-bd1ddbe5de79 button');\n",
              "      quickchartButtonEl.style.display =\n",
              "        google.colab.kernel.accessAllowed ? 'block' : 'none';\n",
              "    })();\n",
              "  </script>\n",
              "</div>\n",
              "\n",
              "    </div>\n",
              "  </div>\n"
            ],
            "application/vnd.google.colaboratory.intrinsic+json": {
              "type": "dataframe",
              "variable_name": "train_df_shuffled",
              "summary": "{\n  \"name\": \"train_df_shuffled\",\n  \"rows\": 7613,\n  \"fields\": [\n    {\n      \"column\": \"id\",\n      \"properties\": {\n        \"dtype\": \"number\",\n        \"std\": 3137,\n        \"min\": 1,\n        \"max\": 10873,\n        \"num_unique_values\": 7613,\n        \"samples\": [\n          7061,\n          843,\n          10603\n        ],\n        \"semantic_type\": \"\",\n        \"description\": \"\"\n      }\n    },\n    {\n      \"column\": \"keyword\",\n      \"properties\": {\n        \"dtype\": \"category\",\n        \"num_unique_values\": 221,\n        \"samples\": [\n          \"blazing\",\n          \"emergency\",\n          \"rescue\"\n        ],\n        \"semantic_type\": \"\",\n        \"description\": \"\"\n      }\n    },\n    {\n      \"column\": \"location\",\n      \"properties\": {\n        \"dtype\": \"category\",\n        \"num_unique_values\": 3341,\n        \"samples\": [\n          \"617-BTOWN-BEATDOWN\",\n          \"Newcastle Upon Tyne, England\",\n          \"Federal Capital Territory\"\n        ],\n        \"semantic_type\": \"\",\n        \"description\": \"\"\n      }\n    },\n    {\n      \"column\": \"text\",\n      \"properties\": {\n        \"dtype\": \"string\",\n        \"num_unique_values\": 7503,\n        \"samples\": [\n          \"This week first responders and DART members are participating in a four day intensive Technical Large Animal... http://t.co/tL93AOd3ER\",\n          \"My mom is watching a show about bridges breaking/falling and the people on them drowning in their cars aka one of my biggest fears ????\",\n          \"@NickLee8  i went to school in a bombed out East End of London3 families to one house no bathroom outside loo &amp; poor so whats yr point\"\n        ],\n        \"semantic_type\": \"\",\n        \"description\": \"\"\n      }\n    },\n    {\n      \"column\": \"target\",\n      \"properties\": {\n        \"dtype\": \"number\",\n        \"std\": 0,\n        \"min\": 0,\n        \"max\": 1,\n        \"num_unique_values\": 2,\n        \"samples\": [\n          0,\n          1\n        ],\n        \"semantic_type\": \"\",\n        \"description\": \"\"\n      }\n    }\n  ]\n}"
            }
          },
          "metadata": {},
          "execution_count": 8
        }
      ]
    },
    {
      "cell_type": "code",
      "source": [
        "import random\n",
        "random_index = random.randint(0, len(train_df) - 1)\n",
        "for row in train_df_shuffled[[\"text\", 'target']][random_index : random_index + 5].itertuples():\n",
        "  index, text, target = row\n",
        "  print(f\"Target: {target}; {'real disaster' if target!=0 else 'not a real disaster'}\")\n",
        "  print(\"Text:\",text,end='\\n')\n",
        "  print(\"--\"*20)"
      ],
      "metadata": {
        "colab": {
          "base_uri": "https://localhost:8080/"
        },
        "id": "9-vFVFaHbZvO",
        "outputId": "14cc983c-5f6c-4eda-98e5-658abb5d2d98"
      },
      "execution_count": 9,
      "outputs": [
        {
          "output_type": "stream",
          "name": "stdout",
          "text": [
            "Target: 1; real disaster\n",
            "Text: A demolished Palestinian village comes back to life http://t.co/9Lpf4V4hMq\n",
            "----------------------------------------\n",
            "Target: 1; real disaster\n",
            "Text: Iraq - Hashd Shaabi Theft ISIS Suicide Car bomb http://t.co/2AG9auABr3 #ISIS http://t.co/Qna4TUBnWh\n",
            "----------------------------------------\n",
            "Target: 0; not a real disaster\n",
            "Text: Had lunch with Stewart &amp; Julian only a couple of hours earlier. Good to finally find out what happened to them. http://t.co/AnP9g6NjFd\n",
            "----------------------------------------\n",
            "Target: 0; not a real disaster\n",
            "Text: #hot  Funtenna: hijacking computers to send data as sound waves [Black Hat 2015] http://t.co/gexHzU1VK8 #prebreak #best\n",
            "----------------------------------------\n",
            "Target: 0; not a real disaster\n",
            "Text: I rate Hazard very highly but his fanboys are among the worst accounts on Twitter.\n",
            "----------------------------------------\n"
          ]
        }
      ]
    },
    {
      "cell_type": "code",
      "source": [
        "from sklearn.model_selection import train_test_split\n",
        "train_sentences, val_sentences, train_labels, val_labels = train_test_split(train_df_shuffled['text'].to_numpy(),\n",
        "                                                                            train_df_shuffled['target'].to_numpy(),\n",
        "                                                                            test_size=0.2,\n",
        "                                                                            random_state=42)"
      ],
      "metadata": {
        "id": "bdevg8I0d-FT"
      },
      "execution_count": 10,
      "outputs": []
    },
    {
      "cell_type": "code",
      "source": [
        "len(train_sentences), len(val_sentences)"
      ],
      "metadata": {
        "colab": {
          "base_uri": "https://localhost:8080/"
        },
        "id": "vbZGh4P9eUv6",
        "outputId": "b07b48d5-1c9d-4502-d57c-20d2f31707b3"
      },
      "execution_count": 11,
      "outputs": [
        {
          "output_type": "execute_result",
          "data": {
            "text/plain": [
              "(6090, 1523)"
            ]
          },
          "metadata": {},
          "execution_count": 11
        }
      ]
    },
    {
      "cell_type": "code",
      "source": [
        "max_vocab_length = 10000\n",
        "max_length = round(sum([len(i.split()) for i in train_sentences])/len(train_sentences))\n",
        "max_length"
      ],
      "metadata": {
        "colab": {
          "base_uri": "https://localhost:8080/"
        },
        "id": "VITHDx0GdWzK",
        "outputId": "68ebd55f-6c70-48bc-8265-411ca634b755"
      },
      "execution_count": 12,
      "outputs": [
        {
          "output_type": "execute_result",
          "data": {
            "text/plain": [
              "15"
            ]
          },
          "metadata": {},
          "execution_count": 12
        }
      ]
    },
    {
      "cell_type": "code",
      "source": [
        "#convert text to numbers\n",
        "text_vectorizer = tf.keras.layers.TextVectorization(max_tokens = max_vocab_length,\n",
        "                                                 output_sequence_length=max_length)"
      ],
      "metadata": {
        "id": "gKDcEmR_cqVz"
      },
      "execution_count": 13,
      "outputs": []
    },
    {
      "cell_type": "code",
      "source": [
        "text_vectorizer.adapt(train_sentences)"
      ],
      "metadata": {
        "id": "VD3ayJMce5NJ"
      },
      "execution_count": 14,
      "outputs": []
    },
    {
      "cell_type": "code",
      "source": [
        "random_sentence = random.choice(train_sentences)\n",
        "print(random_sentence,'\\n' ,len(random_sentence))\n",
        "text_vectorizer([random_sentence])"
      ],
      "metadata": {
        "colab": {
          "base_uri": "https://localhost:8080/"
        },
        "id": "HR8usakDgEJI",
        "outputId": "2ecb2097-a64d-4419-e42d-de1e34702a96"
      },
      "execution_count": 15,
      "outputs": [
        {
          "output_type": "stream",
          "name": "stdout",
          "text": [
            "West Nyack Pineview Road railroad crossing off Western Highway. Units on scene of a CSX Train vs. truck no injuries. \n",
            " 116\n"
          ]
        },
        {
          "output_type": "execute_result",
          "data": {
            "text/plain": [
              "<tf.Tensor: shape=(1, 15), dtype=int64, numpy=\n",
              "array([[ 644, 9476, 9011,  312, 8660,    1,  102, 1457, 1696, 1463,   11,\n",
              "         957,    6,    3, 3657]])>"
            ]
          },
          "metadata": {},
          "execution_count": 15
        }
      ]
    },
    {
      "cell_type": "code",
      "source": [
        "words = text_vectorizer.get_vocabulary()\n",
        "words[:5]"
      ],
      "metadata": {
        "colab": {
          "base_uri": "https://localhost:8080/"
        },
        "id": "457huzgIhaGJ",
        "outputId": "eb4df533-c142-460a-c1f3-db862ca753a7"
      },
      "execution_count": 16,
      "outputs": [
        {
          "output_type": "execute_result",
          "data": {
            "text/plain": [
              "['', '[UNK]', 'the', 'a', 'in']"
            ]
          },
          "metadata": {},
          "execution_count": 16
        }
      ]
    },
    {
      "cell_type": "code",
      "source": [
        "embedding = tf.keras.layers.Embedding(input_dim = max_vocab_length,\n",
        "                                      output_dim=128,\n",
        "                                      input_length=max_length)"
      ],
      "metadata": {
        "id": "1Ok4uUE9gLvR"
      },
      "execution_count": 17,
      "outputs": []
    },
    {
      "cell_type": "code",
      "source": [
        "sample = embedding(text_vectorizer([random_sentence]))"
      ],
      "metadata": {
        "id": "wVFCEhzMiAt7"
      },
      "execution_count": 18,
      "outputs": []
    },
    {
      "cell_type": "code",
      "source": [
        "sample[0][0]"
      ],
      "metadata": {
        "colab": {
          "base_uri": "https://localhost:8080/"
        },
        "id": "IaAl-P6QiJZL",
        "outputId": "6f9941f5-4223-4e5a-a092-22a612c01392"
      },
      "execution_count": 19,
      "outputs": [
        {
          "output_type": "execute_result",
          "data": {
            "text/plain": [
              "<tf.Tensor: shape=(128,), dtype=float32, numpy=\n",
              "array([-0.00218471, -0.04161106,  0.0335702 ,  0.00891335,  0.03860814,\n",
              "        0.03319863, -0.02146928, -0.04943568, -0.04939151, -0.01179548,\n",
              "        0.00916985,  0.02762618, -0.04668466, -0.03956477, -0.04003911,\n",
              "        0.00471673,  0.01953084, -0.01678883, -0.03066017,  0.02394   ,\n",
              "        0.00282335,  0.02344644,  0.04968877, -0.03588381, -0.00655208,\n",
              "        0.02835547, -0.04641449,  0.02016164,  0.04458631, -0.04315803,\n",
              "       -0.03062146, -0.0163205 , -0.01473306,  0.0007421 ,  0.02533353,\n",
              "       -0.04683844,  0.01131252, -0.0256521 , -0.04086021,  0.02751298,\n",
              "        0.02159179, -0.03878351, -0.0429445 ,  0.03571949, -0.02989376,\n",
              "        0.02588533, -0.03062025,  0.00514002,  0.04133013, -0.04499562,\n",
              "       -0.00105796, -0.03247186, -0.04546119,  0.02780583, -0.04137027,\n",
              "        0.01202095,  0.04766427, -0.03712791,  0.04364704, -0.04783354,\n",
              "       -0.01085689, -0.01384977,  0.0054137 , -0.0483057 ,  0.00038118,\n",
              "        0.04797696,  0.02697727,  0.0018094 , -0.04643742, -0.03998113,\n",
              "        0.04356111,  0.02211622, -0.01142949,  0.00622382,  0.0377008 ,\n",
              "        0.03448477, -0.02098461,  0.03714273, -0.00892128,  0.03470695,\n",
              "       -0.04127102,  0.00635026, -0.03824101,  0.00169529, -0.03691147,\n",
              "       -0.01559805, -0.03447504,  0.02292371,  0.01711967, -0.00164956,\n",
              "        0.00692513, -0.04142469,  0.02201467, -0.02892398,  0.02227596,\n",
              "       -0.04682899, -0.02198519,  0.02786401,  0.04647398,  0.00261079,\n",
              "        0.04364543,  0.01146104,  0.00261072,  0.04957196, -0.00239033,\n",
              "       -0.02458791,  0.04382307, -0.02739557, -0.03322025,  0.03928732,\n",
              "        0.03665281,  0.02490285,  0.02707027,  0.0133891 , -0.02661784,\n",
              "       -0.04441182, -0.03273608, -0.01786597, -0.01889379,  0.01661387,\n",
              "       -0.04175707,  0.04899974, -0.03862137, -0.01951787,  0.00808091,\n",
              "        0.02089611,  0.01493256, -0.00632071], dtype=float32)>"
            ]
          },
          "metadata": {},
          "execution_count": 19
        }
      ]
    },
    {
      "cell_type": "code",
      "source": [
        "inputs1 = tf.keras.layers.Input(shape=(1,), dtype='string')\n",
        "y = text_vectorizer(inputs1)\n",
        "y = embedding(y)\n",
        "y = tf.keras.layers.GlobalAveragePooling1D()(y)\n",
        "outputs1 = tf.keras.layers.Dense(1, activation='sigmoid')(y)\n",
        "\n",
        "model1 = tf.keras.Model(inputs1, outputs1)\n",
        "model1.compile(loss=tf.keras.losses.BinaryCrossentropy(),\n",
        "              optimizer=tf.keras.optimizers.Adam(),\n",
        "              metrics=['accuracy'])\n",
        "model1.summary()"
      ],
      "metadata": {
        "colab": {
          "base_uri": "https://localhost:8080/"
        },
        "id": "z_v8gwDKjFVW",
        "outputId": "3e275341-5bac-4a4d-cb2e-6edca56f753b"
      },
      "execution_count": 20,
      "outputs": [
        {
          "output_type": "stream",
          "name": "stdout",
          "text": [
            "Model: \"model\"\n",
            "_________________________________________________________________\n",
            " Layer (type)                Output Shape              Param #   \n",
            "=================================================================\n",
            " input_1 (InputLayer)        [(None, 1)]               0         \n",
            "                                                                 \n",
            " text_vectorization (TextVe  (None, 15)                0         \n",
            " ctorization)                                                    \n",
            "                                                                 \n",
            " embedding (Embedding)       (None, 15, 128)           1280000   \n",
            "                                                                 \n",
            " global_average_pooling1d (  (None, 128)               0         \n",
            " GlobalAveragePooling1D)                                         \n",
            "                                                                 \n",
            " dense (Dense)               (None, 1)                 129       \n",
            "                                                                 \n",
            "=================================================================\n",
            "Total params: 1280129 (4.88 MB)\n",
            "Trainable params: 1280129 (4.88 MB)\n",
            "Non-trainable params: 0 (0.00 Byte)\n",
            "_________________________________________________________________\n"
          ]
        }
      ]
    },
    {
      "cell_type": "code",
      "source": [],
      "metadata": {
        "id": "qM2MJgi4lZ0-"
      },
      "execution_count": 20,
      "outputs": []
    },
    {
      "cell_type": "code",
      "source": [
        "history = model1.fit(tf.expand_dims(train_sentences, axis=-1), train_labels,\n",
        "          epochs=5,\n",
        "          validation_data=(val_sentences, val_labels))"
      ],
      "metadata": {
        "colab": {
          "base_uri": "https://localhost:8080/"
        },
        "id": "l3NFNaf7jtPs",
        "outputId": "d9548ef2-2593-4000-d234-b3ede0e8b87e"
      },
      "execution_count": 21,
      "outputs": [
        {
          "output_type": "stream",
          "name": "stdout",
          "text": [
            "Epoch 1/5\n",
            "191/191 [==============================] - 5s 19ms/step - loss: 0.6212 - accuracy: 0.6856 - val_loss: 0.5491 - val_accuracy: 0.7571\n",
            "Epoch 2/5\n",
            "191/191 [==============================] - 3s 17ms/step - loss: 0.4536 - accuracy: 0.8158 - val_loss: 0.4777 - val_accuracy: 0.7859\n",
            "Epoch 3/5\n",
            "191/191 [==============================] - 3s 18ms/step - loss: 0.3538 - accuracy: 0.8606 - val_loss: 0.4617 - val_accuracy: 0.7853\n",
            "Epoch 4/5\n",
            "191/191 [==============================] - 4s 21ms/step - loss: 0.2875 - accuracy: 0.8890 - val_loss: 0.4654 - val_accuracy: 0.7912\n",
            "Epoch 5/5\n",
            "191/191 [==============================] - 3s 17ms/step - loss: 0.2380 - accuracy: 0.9133 - val_loss: 0.4804 - val_accuracy: 0.7951\n"
          ]
        }
      ]
    },
    {
      "cell_type": "code",
      "source": [
        "text_vectorizer"
      ],
      "metadata": {
        "id": "VuO8u6GvlGBG",
        "colab": {
          "base_uri": "https://localhost:8080/"
        },
        "outputId": "687990de-3614-4999-ba87-291dcb70a6bf"
      },
      "execution_count": 22,
      "outputs": [
        {
          "output_type": "execute_result",
          "data": {
            "text/plain": [
              "<keras.src.layers.preprocessing.text_vectorization.TextVectorization at 0x7f6475eeee90>"
            ]
          },
          "metadata": {},
          "execution_count": 22
        }
      ]
    },
    {
      "cell_type": "code",
      "source": [
        "embedding"
      ],
      "metadata": {
        "colab": {
          "base_uri": "https://localhost:8080/"
        },
        "id": "AYhtUQyKLcv3",
        "outputId": "c75e9681-3a34-4a26-8d31-dcbf691aa5df"
      },
      "execution_count": 23,
      "outputs": [
        {
          "output_type": "execute_result",
          "data": {
            "text/plain": [
              "<keras.src.layers.core.embedding.Embedding at 0x7f64682d4bb0>"
            ]
          },
          "metadata": {},
          "execution_count": 23
        }
      ]
    },
    {
      "cell_type": "code",
      "source": [
        "# LSTM model\n",
        "\n",
        "inputs = tf.keras.layers.Input(shape=(1,), dtype='string')\n",
        "x = text_vectorizer(inputs)\n",
        "x = embedding(x)\n",
        "x = tf.keras.layers.LSTM(32, return_sequences=True)(x)\n",
        "x = tf.keras.layers.LSTM(32)(x)\n",
        "outputs = tf.keras.layers.Dense(1, activation='sigmoid')(x)\n",
        "model=tf.keras.models.Model(inputs, outputs)\n",
        "\n",
        "model.compile(loss=tf.keras.losses.BinaryCrossentropy(),\n",
        "              optimizer=tf.keras.optimizers.Adam(),\n",
        "              metrics=['accuracy'])\n",
        "history = model.fit(train_sentences, train_labels,\n",
        "                    epochs=5,\n",
        "                    validation_data=(val_sentences, val_labels))"
      ],
      "metadata": {
        "colab": {
          "base_uri": "https://localhost:8080/"
        },
        "id": "54hw_jlGLebm",
        "outputId": "7f745e8b-345c-4c4f-effb-fced0a4b5c47"
      },
      "execution_count": 28,
      "outputs": [
        {
          "output_type": "stream",
          "name": "stdout",
          "text": [
            "Epoch 1/5\n",
            "191/191 [==============================] - 12s 39ms/step - loss: 0.1627 - accuracy: 0.9468 - val_loss: 0.7724 - val_accuracy: 0.7768\n",
            "Epoch 2/5\n",
            "191/191 [==============================] - 6s 33ms/step - loss: 0.0719 - accuracy: 0.9698 - val_loss: 0.9450 - val_accuracy: 0.7695\n",
            "Epoch 3/5\n",
            "191/191 [==============================] - 6s 34ms/step - loss: 0.0560 - accuracy: 0.9760 - val_loss: 0.9038 - val_accuracy: 0.7669\n",
            "Epoch 4/5\n",
            "191/191 [==============================] - 7s 36ms/step - loss: 0.0499 - accuracy: 0.9772 - val_loss: 1.1493 - val_accuracy: 0.7682\n",
            "Epoch 5/5\n",
            "191/191 [==============================] - 6s 32ms/step - loss: 0.0441 - accuracy: 0.9810 - val_loss: 1.2719 - val_accuracy: 0.7538\n"
          ]
        }
      ]
    },
    {
      "cell_type": "code",
      "source": [
        "\n",
        "inputs = tf.keras.layers.Input(shape=(1,), dtype='string')\n",
        "x = text_vectorizer(inputs)\n",
        "x = embedding(x)\n",
        "x = tf.keras.layers.LSTM(32, return_sequences=True)(x)\n",
        "x = tf.keras.layers.LSTM(32)(x)\n",
        "outputs = tf.keras.layers.Dense(1, activation='sigmoid')(x)\n",
        "model=tf.keras.models.Model(inputs, outputs)\n",
        "model.summary()"
      ],
      "metadata": {
        "colab": {
          "base_uri": "https://localhost:8080/"
        },
        "id": "2szvFd1DM8o2",
        "outputId": "b735a1a1-bf00-4a35-f11d-faad2c4cf4bc"
      },
      "execution_count": 31,
      "outputs": [
        {
          "output_type": "stream",
          "name": "stdout",
          "text": [
            "Model: \"model_6\"\n",
            "_________________________________________________________________\n",
            " Layer (type)                Output Shape              Param #   \n",
            "=================================================================\n",
            " input_8 (InputLayer)        [(None, 1)]               0         \n",
            "                                                                 \n",
            " text_vectorization (TextVe  (None, 15)                0         \n",
            " ctorization)                                                    \n",
            "                                                                 \n",
            " embedding (Embedding)       (None, 15, 128)           1280000   \n",
            "                                                                 \n",
            " lstm_9 (LSTM)               (None, 15, 32)            20608     \n",
            "                                                                 \n",
            " lstm_10 (LSTM)              (None, 32)                8320      \n",
            "                                                                 \n",
            " dense_6 (Dense)             (None, 1)                 33        \n",
            "                                                                 \n",
            "=================================================================\n",
            "Total params: 1308961 (4.99 MB)\n",
            "Trainable params: 1308961 (4.99 MB)\n",
            "Non-trainable params: 0 (0.00 Byte)\n",
            "_________________________________________________________________\n"
          ]
        }
      ]
    },
    {
      "cell_type": "code",
      "source": [
        "\n",
        "inputs = tf.keras.layers.Input(shape=(1,), dtype='string')\n",
        "x = text_vectorizer(inputs)\n",
        "x = embedding(x)\n",
        "# x = tf.keras.layers.LSTM(32, return_sequences=True)(x)\n",
        "x = tf.keras.layers.LSTM(32)(x)\n",
        "outputs = tf.keras.layers.Dense(1, activation='sigmoid')(x)\n",
        "model=tf.keras.models.Model(inputs, outputs)\n",
        "model.summary()"
      ],
      "metadata": {
        "colab": {
          "base_uri": "https://localhost:8080/"
        },
        "id": "hnEnG-phOFy3",
        "outputId": "b3deb63c-8a84-4316-9247-799e21f14326"
      },
      "execution_count": 33,
      "outputs": [
        {
          "output_type": "stream",
          "name": "stdout",
          "text": [
            "Model: \"model_8\"\n",
            "_________________________________________________________________\n",
            " Layer (type)                Output Shape              Param #   \n",
            "=================================================================\n",
            " input_10 (InputLayer)       [(None, 1)]               0         \n",
            "                                                                 \n",
            " text_vectorization (TextVe  (None, 15)                0         \n",
            " ctorization)                                                    \n",
            "                                                                 \n",
            " embedding (Embedding)       (None, 15, 128)           1280000   \n",
            "                                                                 \n",
            " lstm_12 (LSTM)              (None, 32)                20608     \n",
            "                                                                 \n",
            " dense_8 (Dense)             (None, 1)                 33        \n",
            "                                                                 \n",
            "=================================================================\n",
            "Total params: 1300641 (4.96 MB)\n",
            "Trainable params: 1300641 (4.96 MB)\n",
            "Non-trainable params: 0 (0.00 Byte)\n",
            "_________________________________________________________________\n"
          ]
        }
      ]
    },
    {
      "cell_type": "code",
      "source": [
        "inputs = tf.keras.layers.Input(shape=(1,), dtype='string')\n",
        "x = text_vectorizer(inputs)\n",
        "x = embedding(x)\n",
        "x = tf.keras.layers.GRU(32, return_sequences=True)(x)\n",
        "x = tf.keras.layers.GRU(32)(x)\n",
        "outputs = tf.keras.layers.Dense(1, activation='sigmoid')(x)\n",
        "model=tf.keras.models.Model(inputs, outputs)\n",
        "model.compile(loss=tf.keras.losses.BinaryCrossentropy(),\n",
        "              optimizer=tf.keras.optimizers.Adam(),\n",
        "              metrics=['accuracy'])\n",
        "history = model.fit(train_sentences, train_labels,\n",
        "                    epochs=5,\n",
        "                    validation_data=(val_sentences, val_labels))"
      ],
      "metadata": {
        "colab": {
          "base_uri": "https://localhost:8080/"
        },
        "id": "DmrxViCaOeio",
        "outputId": "cb9a80b4-4767-4032-b348-8801f0b097af"
      },
      "execution_count": 34,
      "outputs": [
        {
          "output_type": "stream",
          "name": "stdout",
          "text": [
            "Epoch 1/5\n",
            "191/191 [==============================] - 14s 44ms/step - loss: 0.1519 - accuracy: 0.9422 - val_loss: 0.7342 - val_accuracy: 0.7479\n",
            "Epoch 2/5\n",
            "191/191 [==============================] - 7s 35ms/step - loss: 0.0669 - accuracy: 0.9741 - val_loss: 0.8728 - val_accuracy: 0.7551\n",
            "Epoch 3/5\n",
            "191/191 [==============================] - 7s 38ms/step - loss: 0.0563 - accuracy: 0.9790 - val_loss: 0.8798 - val_accuracy: 0.7708\n",
            "Epoch 4/5\n",
            "191/191 [==============================] - 6s 34ms/step - loss: 0.0498 - accuracy: 0.9790 - val_loss: 1.0798 - val_accuracy: 0.7689\n",
            "Epoch 5/5\n",
            "191/191 [==============================] - 7s 38ms/step - loss: 0.0450 - accuracy: 0.9813 - val_loss: 0.8415 - val_accuracy: 0.7695\n"
          ]
        }
      ]
    },
    {
      "cell_type": "code",
      "source": [
        "#bidirectional\n",
        "inputs = tf.keras.layers.Input(shape=(1,), dtype='string')\n",
        "x = text_vectorizer(inputs)\n",
        "x = embedding(x)\n",
        "x = tf.keras.layers.Bidirectional(tf.keras.layers.GRU(32, return_sequences=True))(x)\n",
        "x = tf.keras.layers.GRU(32)(x)\n",
        "outputs = tf.keras.layers.Dense(1, activation='sigmoid')(x)\n",
        "model=tf.keras.models.Model(inputs, outputs)\n",
        "model.compile(loss=tf.keras.losses.BinaryCrossentropy(),\n",
        "              optimizer=tf.keras.optimizers.Adam(),\n",
        "              metrics=['accuracy'])\n",
        "history = model.fit(train_sentences, train_labels,\n",
        "                    epochs=5,\n",
        "                    validation_data=(val_sentences, val_labels))"
      ],
      "metadata": {
        "colab": {
          "base_uri": "https://localhost:8080/"
        },
        "id": "l4vOx5MzQQ-i",
        "outputId": "f67fd9cf-7e30-413a-81d9-5850359751ae"
      },
      "execution_count": 35,
      "outputs": [
        {
          "output_type": "stream",
          "name": "stdout",
          "text": [
            "Epoch 1/5\n",
            "191/191 [==============================] - 15s 46ms/step - loss: 0.1388 - accuracy: 0.9488 - val_loss: 0.9217 - val_accuracy: 0.7505\n",
            "Epoch 2/5\n",
            "191/191 [==============================] - 8s 44ms/step - loss: 0.0529 - accuracy: 0.9800 - val_loss: 0.8912 - val_accuracy: 0.7722\n",
            "Epoch 3/5\n",
            "191/191 [==============================] - 8s 44ms/step - loss: 0.0439 - accuracy: 0.9824 - val_loss: 0.9348 - val_accuracy: 0.7669\n",
            "Epoch 4/5\n",
            "191/191 [==============================] - 7s 38ms/step - loss: 0.0406 - accuracy: 0.9819 - val_loss: 1.0777 - val_accuracy: 0.7636\n",
            "Epoch 5/5\n",
            "191/191 [==============================] - 8s 44ms/step - loss: 0.0370 - accuracy: 0.9814 - val_loss: 1.1933 - val_accuracy: 0.7676\n"
          ]
        }
      ]
    },
    {
      "cell_type": "code",
      "source": [
        "model.predict(val_sentences)"
      ],
      "metadata": {
        "colab": {
          "base_uri": "https://localhost:8080/"
        },
        "id": "ifbuWhvqQytO",
        "outputId": "ddd033fc-d512-447b-9d36-a7c2f4717ae7"
      },
      "execution_count": 38,
      "outputs": [
        {
          "output_type": "stream",
          "name": "stdout",
          "text": [
            "48/48 [==============================] - 0s 6ms/step\n"
          ]
        },
        {
          "output_type": "execute_result",
          "data": {
            "text/plain": [
              "array([[0.01108829],\n",
              "       [0.7381666 ],\n",
              "       [0.99944085],\n",
              "       ...,\n",
              "       [0.9981576 ],\n",
              "       [0.9996232 ],\n",
              "       [0.99930644]], dtype=float32)"
            ]
          },
          "metadata": {},
          "execution_count": 38
        }
      ]
    },
    {
      "cell_type": "code",
      "source": [
        "inputs = tf.keras.layers.Input(shape=(1,), dtype='string')\n",
        "x = text_vectorizer(inputs)\n",
        "x = embedding(x)\n",
        "x = tf.keras.layers.LSTM(32, return_sequences=True)(x)\n",
        "x = tf.keras.layers.Conv1D(32, kernel_size=3)(x)\n",
        "x  = tf.keras.layers.GlobalAveragePooling1D()(x)\n",
        "outputs = tf.keras.layers.Dense(1, activation='sigmoid')(x)\n",
        "model=tf.keras.models.Model(inputs, outputs)\n",
        "model.compile(loss=tf.keras.losses.BinaryCrossentropy(),\n",
        "              optimizer=tf.keras.optimizers.Adam(),\n",
        "              metrics=['accuracy'])\n",
        "history = model.fit(train_sentences, train_labels,\n",
        "                    epochs=5,\n",
        "                    validation_data=(val_sentences, val_labels))"
      ],
      "metadata": {
        "colab": {
          "base_uri": "https://localhost:8080/"
        },
        "id": "Gk_zA1HIQ9Vx",
        "outputId": "19bb2249-c41b-4b14-bc8c-3fa39b237f1b"
      },
      "execution_count": 43,
      "outputs": [
        {
          "output_type": "stream",
          "name": "stdout",
          "text": [
            "Epoch 1/5\n",
            "191/191 [==============================] - 9s 27ms/step - loss: 0.1188 - accuracy: 0.9693 - val_loss: 1.0050 - val_accuracy: 0.7584\n",
            "Epoch 2/5\n",
            "191/191 [==============================] - 5s 29ms/step - loss: 0.0465 - accuracy: 0.9793 - val_loss: 1.3773 - val_accuracy: 0.7459\n",
            "Epoch 3/5\n",
            "191/191 [==============================] - 5s 25ms/step - loss: 0.0387 - accuracy: 0.9823 - val_loss: 1.7202 - val_accuracy: 0.7518\n",
            "Epoch 4/5\n",
            "191/191 [==============================] - 6s 31ms/step - loss: 0.0346 - accuracy: 0.9816 - val_loss: 1.6961 - val_accuracy: 0.7630\n",
            "Epoch 5/5\n",
            "191/191 [==============================] - 5s 24ms/step - loss: 0.0340 - accuracy: 0.9826 - val_loss: 2.2177 - val_accuracy: 0.7643\n"
          ]
        }
      ]
    },
    {
      "cell_type": "code",
      "source": [
        "model.summary()"
      ],
      "metadata": {
        "colab": {
          "base_uri": "https://localhost:8080/"
        },
        "id": "IBYpzooSR_Ru",
        "outputId": "5d5a480b-b071-4e32-b050-66a8d989ca9a"
      },
      "execution_count": 44,
      "outputs": [
        {
          "output_type": "stream",
          "name": "stdout",
          "text": [
            "Model: \"model_12\"\n",
            "_________________________________________________________________\n",
            " Layer (type)                Output Shape              Param #   \n",
            "=================================================================\n",
            " input_16 (InputLayer)       [(None, 1)]               0         \n",
            "                                                                 \n",
            " text_vectorization (TextVe  (None, 15)                0         \n",
            " ctorization)                                                    \n",
            "                                                                 \n",
            " embedding (Embedding)       (None, 15, 128)           1280000   \n",
            "                                                                 \n",
            " lstm_14 (LSTM)              (None, 15, 32)            20608     \n",
            "                                                                 \n",
            " conv1d_2 (Conv1D)           (None, 13, 32)            3104      \n",
            "                                                                 \n",
            " global_average_pooling1d_2  (None, 32)                0         \n",
            "  (GlobalAveragePooling1D)                                       \n",
            "                                                                 \n",
            " dense_12 (Dense)            (None, 1)                 33        \n",
            "                                                                 \n",
            "=================================================================\n",
            "Total params: 1303745 (4.97 MB)\n",
            "Trainable params: 1303745 (4.97 MB)\n",
            "Non-trainable params: 0 (0.00 Byte)\n",
            "_________________________________________________________________\n"
          ]
        }
      ]
    },
    {
      "cell_type": "code",
      "source": [
        "embed_test = tf.expand_dims(embedding(text_vectorizer(random_sentence)), axis=0)\n",
        "\n",
        "conv_output = tf.keras.layers.Conv1D(32, kernel_size=5)(embed_test)\n",
        "\n",
        "max_pool_output = tf.keras.layers.GlobalAveragePooling1D()(conv_output)\n",
        "\n",
        "embed_test.shape, conv_output.shape, max_pool_output.shape"
      ],
      "metadata": {
        "colab": {
          "base_uri": "https://localhost:8080/"
        },
        "id": "Ga0OwrxQTV5p",
        "outputId": "41011a03-b6f9-4745-fd23-03f204875e05"
      },
      "execution_count": 51,
      "outputs": [
        {
          "output_type": "execute_result",
          "data": {
            "text/plain": [
              "(TensorShape([1, 15, 128]), TensorShape([1, 11, 32]), TensorShape([1, 32]))"
            ]
          },
          "metadata": {},
          "execution_count": 51
        }
      ]
    },
    {
      "cell_type": "code",
      "source": [
        "sample"
      ],
      "metadata": {
        "colab": {
          "base_uri": "https://localhost:8080/"
        },
        "id": "hyNgyCkNVPDL",
        "outputId": "d0dfbc62-e502-49cf-a8b9-be7242f870ae"
      },
      "execution_count": 54,
      "outputs": [
        {
          "output_type": "execute_result",
          "data": {
            "text/plain": [
              "<tf.Tensor: shape=(1, 15, 128), dtype=float32, numpy=\n",
              "array([[[-0.00218471, -0.04161106,  0.0335702 , ...,  0.02089611,\n",
              "          0.01493256, -0.00632071],\n",
              "        [-0.02844492,  0.00417246,  0.04647546, ...,  0.01357153,\n",
              "          0.02590873, -0.04069691],\n",
              "        [-0.03118578, -0.003856  ,  0.00860796, ..., -0.01314294,\n",
              "          0.00821984, -0.04735507],\n",
              "        ...,\n",
              "        [-0.02048516, -0.01886226,  0.01735269, ..., -0.03261473,\n",
              "         -0.00904393,  0.02740797],\n",
              "        [ 0.04087671,  0.0290784 , -0.01900009, ...,  0.01491563,\n",
              "         -0.04077481, -0.02359316],\n",
              "        [-0.02953429,  0.04129423, -0.03373753, ...,  0.00120276,\n",
              "         -0.00522272,  0.00801835]]], dtype=float32)>"
            ]
          },
          "metadata": {},
          "execution_count": 54
        }
      ]
    },
    {
      "cell_type": "code",
      "source": [
        "embed_test"
      ],
      "metadata": {
        "colab": {
          "base_uri": "https://localhost:8080/"
        },
        "id": "VWeoJAKEUvjH",
        "outputId": "30408561-0d97-4652-c5c7-d11f3ead3a7a"
      },
      "execution_count": 52,
      "outputs": [
        {
          "output_type": "execute_result",
          "data": {
            "text/plain": [
              "<tf.Tensor: shape=(1, 15, 128), dtype=float32, numpy=\n",
              "array([[[ 0.07021279, -0.1683552 , -0.12314296, ..., -0.07314578,\n",
              "          0.12345617, -0.16574727],\n",
              "        [ 0.01850186, -0.0542043 , -0.03069371, ..., -0.04426027,\n",
              "          0.08655186, -0.10371312],\n",
              "        [ 0.01352757, -0.06369113, -0.06815638, ..., -0.06861822,\n",
              "          0.06723383, -0.11211368],\n",
              "        ...,\n",
              "        [-0.01679607,  0.00811965,  0.01976355, ..., -0.06633724,\n",
              "         -0.00765045,  0.01948671],\n",
              "        [-0.00100783,  0.03024441,  0.02894142, ...,  0.08202777,\n",
              "         -0.06691855, -0.04328826],\n",
              "        [ 0.02182009, -0.07452771, -0.13433129, ..., -0.05593798,\n",
              "          0.05702537, -0.11859339]]], dtype=float32)>"
            ]
          },
          "metadata": {},
          "execution_count": 52
        }
      ]
    },
    {
      "cell_type": "code",
      "source": [
        "import tensorflow_hub as hub\n",
        "embed = hub.load(\"https://www.kaggle.com/models/google/universal-sentence-encoder/frameworks/TensorFlow2/variations/universal-sentence-encoder/versions/2\")\n"
      ],
      "metadata": {
        "id": "053Xxjb8Uczg"
      },
      "execution_count": 55,
      "outputs": []
    },
    {
      "cell_type": "code",
      "source": [
        "embed_sample = embed([random_sentence])\n",
        "embed_sample"
      ],
      "metadata": {
        "colab": {
          "base_uri": "https://localhost:8080/"
        },
        "id": "QlpzeykBYu3v",
        "outputId": "893e522f-efed-4592-9f8c-f15f20c2b857"
      },
      "execution_count": 57,
      "outputs": [
        {
          "output_type": "execute_result",
          "data": {
            "text/plain": [
              "<tf.Tensor: shape=(1, 512), dtype=float32, numpy=\n",
              "array([[ 0.07001627,  0.04336466,  0.04114123,  0.0165662 ,  0.05908086,\n",
              "        -0.03386001,  0.00343576,  0.01385107, -0.03554146, -0.00288789,\n",
              "         0.04043909,  0.06820885, -0.04659358,  0.02944117,  0.0693081 ,\n",
              "         0.02766102,  0.00744253,  0.02970405, -0.04040539,  0.00042897,\n",
              "         0.0411342 , -0.01125658,  0.03643789, -0.05253817,  0.03712482,\n",
              "         0.00503884,  0.05375282,  0.00158123, -0.05218032, -0.00938291,\n",
              "        -0.06017241,  0.01996459,  0.03556127, -0.04047453, -0.06997656,\n",
              "         0.03447177,  0.0272627 ,  0.04226906,  0.0358908 ,  0.05641507,\n",
              "         0.02857709,  0.05450268,  0.0250902 , -0.03590032, -0.07848429,\n",
              "         0.06709968,  0.00743552,  0.04487915,  0.07002385, -0.00025081,\n",
              "        -0.0711809 , -0.05344303, -0.0169886 ,  0.03775658,  0.07756229,\n",
              "        -0.06554384, -0.01913133, -0.03679187,  0.06128075,  0.02603814,\n",
              "        -0.06406588,  0.07743259,  0.06713787,  0.00547378, -0.07326891,\n",
              "        -0.0408861 ,  0.04829381,  0.02824861, -0.01714227,  0.04788828,\n",
              "        -0.00332093,  0.02191174, -0.04453045, -0.03307373, -0.034975  ,\n",
              "        -0.02420797, -0.00892497, -0.01406975, -0.01670021, -0.05156873,\n",
              "         0.07399551, -0.0297188 ,  0.00897234,  0.01752691,  0.001969  ,\n",
              "        -0.00792453,  0.02345543, -0.0632218 , -0.05908608, -0.0290124 ,\n",
              "         0.03730706, -0.04403433,  0.0143422 ,  0.03859449, -0.05724646,\n",
              "        -0.02114503,  0.01205369,  0.02794318,  0.01488436,  0.02301922,\n",
              "         0.0417441 ,  0.05270342,  0.03917101,  0.03652708,  0.05462375,\n",
              "        -0.05214541, -0.06484464,  0.04103518,  0.06942423, -0.02072088,\n",
              "         0.01367568, -0.05422147,  0.04375763,  0.061884  ,  0.00139135,\n",
              "         0.02669644,  0.04734292,  0.04237144, -0.02043883, -0.03903775,\n",
              "        -0.06213128,  0.04500572, -0.03803524,  0.02942082, -0.01530096,\n",
              "         0.02335556, -0.01859428,  0.03109221,  0.05846835,  0.07654602,\n",
              "        -0.05273961, -0.00361421,  0.03467713, -0.05611699, -0.01025655,\n",
              "        -0.05116281,  0.02261364,  0.01082691,  0.03170207, -0.02491529,\n",
              "         0.04440198,  0.05791508, -0.06327863,  0.04131431, -0.0086924 ,\n",
              "        -0.03033076,  0.00074512,  0.04879752, -0.04649797,  0.05748922,\n",
              "        -0.0309092 ,  0.01454214, -0.00934888, -0.04184493, -0.0474785 ,\n",
              "         0.00828995,  0.07763655,  0.01528569, -0.02639986,  0.03529967,\n",
              "        -0.06882048,  0.0516077 , -0.01367065,  0.01565579,  0.02443413,\n",
              "         0.02613714,  0.07847765, -0.00650962,  0.01520192,  0.02038706,\n",
              "        -0.02862933, -0.03421405,  0.0039638 ,  0.03413267, -0.03464955,\n",
              "         0.01540223, -0.0251106 , -0.0625293 , -0.023013  , -0.00723284,\n",
              "         0.05591691, -0.044424  , -0.02377751,  0.0447961 , -0.02796415,\n",
              "         0.03149769, -0.06749308, -0.01394267, -0.01657382, -0.00742503,\n",
              "        -0.00421072, -0.06334904, -0.02586815,  0.02385668,  0.05781255,\n",
              "        -0.01064482,  0.02810986, -0.0491142 , -0.0502157 ,  0.00803622,\n",
              "         0.06268387,  0.01030089, -0.06305166, -0.0250521 ,  0.02504322,\n",
              "         0.02987887, -0.03130094, -0.05156622, -0.03863761,  0.02271754,\n",
              "        -0.02908152, -0.03930477,  0.00629475,  0.00900007, -0.04315272,\n",
              "         0.0729244 , -0.05889931,  0.04231975,  0.01785967,  0.04620589,\n",
              "         0.02793321, -0.05424696,  0.0483864 ,  0.07041124,  0.01774697,\n",
              "         0.02907677,  0.02799848,  0.01511599, -0.02683438,  0.07090068,\n",
              "        -0.06490199,  0.016778  ,  0.07234775, -0.04955043, -0.02799657,\n",
              "         0.01295394, -0.06294523, -0.00407581, -0.06912607,  0.02207118,\n",
              "         0.00118165, -0.05990823, -0.07682174, -0.04602294,  0.06905591,\n",
              "         0.03696291, -0.0429408 , -0.01844029,  0.06057184,  0.05294475,\n",
              "         0.07472689,  0.06224314,  0.02859136, -0.01551486, -0.02064376,\n",
              "         0.03497514,  0.00363429, -0.0187102 ,  0.07166816,  0.06508368,\n",
              "        -0.04902272,  0.04581299, -0.03158628, -0.02700395,  0.02009054,\n",
              "        -0.02936989,  0.01055194,  0.03882028, -0.07308184, -0.00031025,\n",
              "        -0.07586927, -0.03428683,  0.06405003,  0.05606143, -0.04849117,\n",
              "         0.07849824, -0.07187406,  0.01066827,  0.02979867, -0.05286512,\n",
              "         0.04784691,  0.04019143,  0.06883872, -0.03665297, -0.00969136,\n",
              "        -0.06900943,  0.06493525,  0.01418589, -0.03220811,  0.0448185 ,\n",
              "         0.07778152, -0.02841165,  0.07804642, -0.05458538, -0.06453568,\n",
              "        -0.0428779 ,  0.0586945 , -0.03310815,  0.03713293,  0.01562813,\n",
              "         0.00224618, -0.00264242, -0.01934835, -0.0368866 , -0.06266296,\n",
              "        -0.01036059,  0.04437973,  0.06016082,  0.03865881,  0.06837099,\n",
              "        -0.04073304,  0.02538895, -0.00176425, -0.02577228, -0.02960647,\n",
              "        -0.04170572, -0.01527882,  0.0657625 ,  0.03267529,  0.03744973,\n",
              "         0.02027239, -0.06326059,  0.06588667, -0.06366614, -0.0552722 ,\n",
              "        -0.04219342,  0.06005404, -0.00057225,  0.00784714, -0.04061799,\n",
              "        -0.00579977, -0.04501364, -0.05791087,  0.07245775,  0.02403947,\n",
              "        -0.07840233, -0.07849674, -0.04148647, -0.05432943, -0.04412053,\n",
              "         0.05042621, -0.01031639, -0.01733574,  0.07821794,  0.01541725,\n",
              "         0.06005306, -0.04353169, -0.01638872,  0.00634608,  0.05316195,\n",
              "        -0.00104914,  0.0570725 , -0.05087683,  0.06494869,  0.06562094,\n",
              "         0.06155385, -0.07539978, -0.05796592, -0.06429058, -0.03672289,\n",
              "         0.05881617,  0.06487697,  0.00480283, -0.01484562,  0.02867333,\n",
              "         0.01354433,  0.06168864, -0.04637069,  0.00474353, -0.0149155 ,\n",
              "         0.06564288, -0.0497156 , -0.07154892,  0.00695659, -0.04215653,\n",
              "         0.02638292,  0.05378766,  0.06748646,  0.00477192, -0.07825815,\n",
              "         0.07804231,  0.01312564,  0.0298872 ,  0.03805682, -0.00935964,\n",
              "        -0.0752087 ,  0.00879053,  0.01090469, -0.06626128, -0.07641357,\n",
              "        -0.00020205, -0.00021906,  0.03456271, -0.01629045,  0.07257892,\n",
              "        -0.01712402, -0.07419838,  0.05095014,  0.03067032, -0.05811705,\n",
              "         0.0653145 ,  0.01407856, -0.07315663,  0.05949467, -0.03235004,\n",
              "        -0.05867048, -0.06082574,  0.06538862,  0.03674177,  0.01919654,\n",
              "         0.01504113, -0.02901524,  0.00743837,  0.03965037, -0.0623846 ,\n",
              "        -0.00097351,  0.06807953,  0.01083061,  0.00412087, -0.07409048,\n",
              "         0.01248175, -0.06248478, -0.03620323, -0.07802472,  0.0174783 ,\n",
              "        -0.01842033, -0.04945435, -0.05096184, -0.0086115 ,  0.04471259,\n",
              "        -0.05592678,  0.04819447, -0.07051083,  0.03858709, -0.00657895,\n",
              "        -0.00593711, -0.04279752, -0.06137613,  0.04309655, -0.03955667,\n",
              "         0.0137967 ,  0.05037356,  0.02064493,  0.0246746 , -0.07070696,\n",
              "        -0.02599008,  0.02135066, -0.04527925,  0.068253  ,  0.03860005,\n",
              "         0.04140653,  0.06533294,  0.04743475, -0.01961236, -0.07263414,\n",
              "         0.02749857,  0.05507882,  0.00481529, -0.04812491, -0.02025906,\n",
              "        -0.03845856,  0.05593252, -0.00954485, -0.02994807, -0.07691031,\n",
              "        -0.04454065,  0.03871605, -0.03244189, -0.07234644, -0.06606559,\n",
              "         0.04602796,  0.04616831, -0.03499147, -0.03934605,  0.04950884,\n",
              "        -0.07016002,  0.02548287, -0.06410132, -0.06365085, -0.07812513,\n",
              "        -0.03061938, -0.01314161, -0.01673129, -0.0059968 , -0.06940652,\n",
              "         0.00320675, -0.00563645, -0.07118763, -0.0726354 ,  0.07750552,\n",
              "        -0.02178932, -0.01728477,  0.01248584, -0.06191934,  0.03740923,\n",
              "        -0.00746554, -0.02492383,  0.0188466 , -0.01542568,  0.00117567,\n",
              "        -0.05527818, -0.01860771,  0.03440754,  0.02852985, -0.00499952,\n",
              "        -0.04256465,  0.05505868,  0.00991131,  0.02388701,  0.00281375,\n",
              "        -0.0569222 , -0.02267735]], dtype=float32)>"
            ]
          },
          "metadata": {},
          "execution_count": 57
        }
      ]
    },
    {
      "cell_type": "code",
      "source": [
        "sentence_encoder = hub.KerasLayer(embed,\n",
        "                                  input_shape=[],\n",
        "                                  dtype=tf.string,\n",
        "                                  trainable=False)"
      ],
      "metadata": {
        "id": "6E2SV3Z0Y67t"
      },
      "execution_count": 59,
      "outputs": []
    },
    {
      "cell_type": "code",
      "source": [
        "model = tf.keras.models.Sequential([\n",
        "    sentence_encoder,\n",
        "    tf.keras.layers.Dense(1, activation='sigmoid')\n",
        "])\n",
        "\n",
        "model.compile(loss=tf.keras.losses.BinaryCrossentropy(),\n",
        "              optimizer=tf.keras.optimizers.Adam(),\n",
        "              metrics=['accuracy'])\n",
        "history = model.fit(train_sentences, train_labels,\n",
        "                    epochs=5,\n",
        "                    validation_data=(val_sentences, val_labels))"
      ],
      "metadata": {
        "colab": {
          "base_uri": "https://localhost:8080/"
        },
        "id": "8aiRNyZ7an0B",
        "outputId": "f845dbb2-86fb-4175-d881-e0460d334879"
      },
      "execution_count": 60,
      "outputs": [
        {
          "output_type": "stream",
          "name": "stdout",
          "text": [
            "Epoch 1/5\n",
            "191/191 [==============================] - 5s 16ms/step - loss: 0.6593 - accuracy: 0.7079 - val_loss: 0.6247 - val_accuracy: 0.7669\n",
            "Epoch 2/5\n",
            "191/191 [==============================] - 2s 13ms/step - loss: 0.5947 - accuracy: 0.7882 - val_loss: 0.5746 - val_accuracy: 0.7741\n",
            "Epoch 3/5\n",
            "191/191 [==============================] - 3s 17ms/step - loss: 0.5511 - accuracy: 0.7939 - val_loss: 0.5406 - val_accuracy: 0.7794\n",
            "Epoch 4/5\n",
            "191/191 [==============================] - 3s 15ms/step - loss: 0.5207 - accuracy: 0.7979 - val_loss: 0.5172 - val_accuracy: 0.7873\n",
            "Epoch 5/5\n",
            "191/191 [==============================] - 3s 14ms/step - loss: 0.4989 - accuracy: 0.8003 - val_loss: 0.5007 - val_accuracy: 0.7886\n"
          ]
        }
      ]
    },
    {
      "cell_type": "code",
      "source": [
        "model.predict(['disaster'])"
      ],
      "metadata": {
        "colab": {
          "base_uri": "https://localhost:8080/"
        },
        "id": "FE71y23ZbGJt",
        "outputId": "b43c227a-6d55-4c07-a6bc-d6eee8d04618"
      },
      "execution_count": 62,
      "outputs": [
        {
          "output_type": "stream",
          "name": "stdout",
          "text": [
            "1/1 [==============================] - 0s 113ms/step\n"
          ]
        },
        {
          "output_type": "execute_result",
          "data": {
            "text/plain": [
              "array([[0.5982488]], dtype=float32)"
            ]
          },
          "metadata": {},
          "execution_count": 62
        }
      ]
    },
    {
      "cell_type": "code",
      "source": [
        "model = tf.keras.models.Sequential([\n",
        "    sentence_encoder,\n",
        "    tf.keras.layers.Dense(32),\n",
        "    tf.keras.layers.Dense(1, activation='sigmoid')\n",
        "])\n",
        "\n",
        "model.compile(loss=tf.keras.losses.BinaryCrossentropy(),\n",
        "              optimizer=tf.keras.optimizers.Adam(),\n",
        "              metrics=['accuracy'])\n",
        "history = model.fit(train_sentences, train_labels,\n",
        "                    epochs=5,\n",
        "                    validation_data=(val_sentences, val_labels))"
      ],
      "metadata": {
        "colab": {
          "base_uri": "https://localhost:8080/"
        },
        "id": "VaI_v8lSccTi",
        "outputId": "08c4c28c-e3c9-44cc-8364-00b95285d905"
      },
      "execution_count": 65,
      "outputs": [
        {
          "output_type": "stream",
          "name": "stdout",
          "text": [
            "Epoch 1/5\n",
            "191/191 [==============================] - 6s 19ms/step - loss: 0.5142 - accuracy: 0.7780 - val_loss: 0.4526 - val_accuracy: 0.7899\n",
            "Epoch 2/5\n",
            "191/191 [==============================] - 3s 18ms/step - loss: 0.4188 - accuracy: 0.8120 - val_loss: 0.4483 - val_accuracy: 0.7971\n",
            "Epoch 3/5\n",
            "191/191 [==============================] - 3s 14ms/step - loss: 0.4055 - accuracy: 0.8174 - val_loss: 0.4490 - val_accuracy: 0.8024\n",
            "Epoch 4/5\n",
            "191/191 [==============================] - 3s 14ms/step - loss: 0.3987 - accuracy: 0.8245 - val_loss: 0.4477 - val_accuracy: 0.8004\n",
            "Epoch 5/5\n",
            "191/191 [==============================] - 2s 13ms/step - loss: 0.3951 - accuracy: 0.8245 - val_loss: 0.4482 - val_accuracy: 0.8030\n"
          ]
        }
      ]
    }
  ]
}