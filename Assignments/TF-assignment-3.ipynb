{
  "cells": [
    {
      "cell_type": "code",
      "execution_count": 81,
      "metadata": {
        "id": "GdlUIRDZ6I9S"
      },
      "outputs": [],
      "source": [
        "import tensorflow as tf\n",
        "import matplotlib.pyplot as plt\n",
        "import pandas as pd"
      ]
    },
    {
      "cell_type": "markdown",
      "metadata": {
        "id": "kQBDGudsRb8k"
      },
      "source": [
        "reading the csv"
      ]
    },
    {
      "cell_type": "code",
      "execution_count": 82,
      "metadata": {
        "colab": {
          "base_uri": "https://localhost:8080/"
        },
        "id": "M-J30jRu8FkU",
        "outputId": "ae8c8cd7-3993-41e6-96a4-04916ffaf266"
      },
      "outputs": [
        {
          "name": "stdout",
          "output_type": "stream",
          "text": [
            "                                          clean_text  is_depression\n",
            "0  we understand that most people who reply immed...              1\n",
            "1  welcome to r depression s check in post a plac...              1\n",
            "2  anyone else instead of sleeping more when depr...              1\n",
            "3  i ve kind of stuffed around a lot in my life d...              1\n",
            "4  sleep is my greatest and most comforting escap...              1\n"
          ]
        }
      ],
      "source": [
        "import pandas as pd\n",
        "\n",
        "df = pd.read_csv(\"/content/depression_dataset_reddit_cleaned.csv\")\n",
        "\n",
        "print(df.head())"
      ]
    },
    {
      "cell_type": "markdown",
      "metadata": {
        "id": "11fmiayZRml-"
      },
      "source": [
        "there was no seperate csv for testing and training so i used the same and split it later"
      ]
    },
    {
      "cell_type": "code",
      "execution_count": 83,
      "metadata": {
        "id": "E5lIG0o4_mYE"
      },
      "outputs": [],
      "source": [
        "train_df=pd.read_csv(\"/content/depression_dataset_reddit_cleaned.csv\")\n",
        "test_df=pd.read_csv(\"/content/depression_dataset_reddit_cleaned.csv\")"
      ]
    },
    {
      "cell_type": "markdown",
      "metadata": {
        "id": "zgFThM1IRuPn"
      },
      "source": [
        "length for each train and test"
      ]
    },
    {
      "cell_type": "code",
      "execution_count": 84,
      "metadata": {
        "colab": {
          "base_uri": "https://localhost:8080/"
        },
        "id": "aBrvp4E1_y4F",
        "outputId": "2a4c6b13-bd91-4f11-db57-74d8353edfb9"
      },
      "outputs": [
        {
          "data": {
            "text/plain": [
              "7731"
            ]
          },
          "execution_count": 84,
          "metadata": {},
          "output_type": "execute_result"
        }
      ],
      "source": [
        "len(train_df)"
      ]
    },
    {
      "cell_type": "code",
      "execution_count": 85,
      "metadata": {
        "colab": {
          "base_uri": "https://localhost:8080/"
        },
        "id": "jfNRZ85NRjAy",
        "outputId": "42c97081-2418-4873-ad36-38e6b78be870"
      },
      "outputs": [
        {
          "data": {
            "text/plain": [
              "7731"
            ]
          },
          "execution_count": 85,
          "metadata": {},
          "output_type": "execute_result"
        }
      ],
      "source": [
        "len(test_df)"
      ]
    },
    {
      "cell_type": "markdown",
      "metadata": {
        "id": "JVy93CIkRxbw"
      },
      "source": [
        "we shuffled the sample for getting better and accurate results"
      ]
    },
    {
      "cell_type": "code",
      "execution_count": 86,
      "metadata": {
        "colab": {
          "base_uri": "https://localhost:8080/",
          "height": 206
        },
        "id": "4zO1lNk2BAJZ",
        "outputId": "b77bb3a0-8ee0-4cce-c17e-cc064362e2d6"
      },
      "outputs": [
        {
          "data": {
            "application/vnd.google.colaboratory.intrinsic+json": {
              "summary": "{\n  \"name\": \"train_df_shuffled\",\n  \"rows\": 7731,\n  \"fields\": [\n    {\n      \"column\": \"clean_text\",\n      \"properties\": {\n        \"dtype\": \"string\",\n        \"num_unique_values\": 7650,\n        \"samples\": [\n          \"im up guy lloll\",\n          \"i d give anything to die i can t take this pain anymore\",\n          \"babysitting this morning stiil it s an excuse to watch the chute on cbbc\"\n        ],\n        \"semantic_type\": \"\",\n        \"description\": \"\"\n      }\n    },\n    {\n      \"column\": \"is_depression\",\n      \"properties\": {\n        \"dtype\": \"number\",\n        \"std\": 0,\n        \"min\": 0,\n        \"max\": 1,\n        \"num_unique_values\": 2,\n        \"samples\": [\n          0,\n          1\n        ],\n        \"semantic_type\": \"\",\n        \"description\": \"\"\n      }\n    }\n  ]\n}",
              "type": "dataframe",
              "variable_name": "train_df_shuffled"
            },
            "text/html": [
              "\n",
              "  <div id=\"df-e09c0e44-ffd2-45e8-836e-ba1461bd4ca9\" class=\"colab-df-container\">\n",
              "    <div>\n",
              "<style scoped>\n",
              "    .dataframe tbody tr th:only-of-type {\n",
              "        vertical-align: middle;\n",
              "    }\n",
              "\n",
              "    .dataframe tbody tr th {\n",
              "        vertical-align: top;\n",
              "    }\n",
              "\n",
              "    .dataframe thead th {\n",
              "        text-align: right;\n",
              "    }\n",
              "</style>\n",
              "<table border=\"1\" class=\"dataframe\">\n",
              "  <thead>\n",
              "    <tr style=\"text-align: right;\">\n",
              "      <th></th>\n",
              "      <th>clean_text</th>\n",
              "      <th>is_depression</th>\n",
              "    </tr>\n",
              "  </thead>\n",
              "  <tbody>\n",
              "    <tr>\n",
              "      <th>1199</th>\n",
              "      <td>my doctor think that sertaline is better for a...</td>\n",
              "      <td>1</td>\n",
              "    </tr>\n",
              "    <tr>\n",
              "      <th>3065</th>\n",
              "      <td>must be depression fr</td>\n",
              "      <td>1</td>\n",
              "    </tr>\n",
              "    <tr>\n",
              "      <th>2303</th>\n",
              "      <td>this ha ruined my life the only thing keeping ...</td>\n",
              "      <td>1</td>\n",
              "    </tr>\n",
              "    <tr>\n",
              "      <th>763</th>\n",
              "      <td>i am no job no career suffering from severe de...</td>\n",
              "      <td>1</td>\n",
              "    </tr>\n",
              "    <tr>\n",
              "      <th>4704</th>\n",
              "      <td>endearingevania i sure wish i could go with yo...</td>\n",
              "      <td>0</td>\n",
              "    </tr>\n",
              "  </tbody>\n",
              "</table>\n",
              "</div>\n",
              "    <div class=\"colab-df-buttons\">\n",
              "\n",
              "  <div class=\"colab-df-container\">\n",
              "    <button class=\"colab-df-convert\" onclick=\"convertToInteractive('df-e09c0e44-ffd2-45e8-836e-ba1461bd4ca9')\"\n",
              "            title=\"Convert this dataframe to an interactive table.\"\n",
              "            style=\"display:none;\">\n",
              "\n",
              "  <svg xmlns=\"http://www.w3.org/2000/svg\" height=\"24px\" viewBox=\"0 -960 960 960\">\n",
              "    <path d=\"M120-120v-720h720v720H120Zm60-500h600v-160H180v160Zm220 220h160v-160H400v160Zm0 220h160v-160H400v160ZM180-400h160v-160H180v160Zm440 0h160v-160H620v160ZM180-180h160v-160H180v160Zm440 0h160v-160H620v160Z\"/>\n",
              "  </svg>\n",
              "    </button>\n",
              "\n",
              "  <style>\n",
              "    .colab-df-container {\n",
              "      display:flex;\n",
              "      gap: 12px;\n",
              "    }\n",
              "\n",
              "    .colab-df-convert {\n",
              "      background-color: #E8F0FE;\n",
              "      border: none;\n",
              "      border-radius: 50%;\n",
              "      cursor: pointer;\n",
              "      display: none;\n",
              "      fill: #1967D2;\n",
              "      height: 32px;\n",
              "      padding: 0 0 0 0;\n",
              "      width: 32px;\n",
              "    }\n",
              "\n",
              "    .colab-df-convert:hover {\n",
              "      background-color: #E2EBFA;\n",
              "      box-shadow: 0px 1px 2px rgba(60, 64, 67, 0.3), 0px 1px 3px 1px rgba(60, 64, 67, 0.15);\n",
              "      fill: #174EA6;\n",
              "    }\n",
              "\n",
              "    .colab-df-buttons div {\n",
              "      margin-bottom: 4px;\n",
              "    }\n",
              "\n",
              "    [theme=dark] .colab-df-convert {\n",
              "      background-color: #3B4455;\n",
              "      fill: #D2E3FC;\n",
              "    }\n",
              "\n",
              "    [theme=dark] .colab-df-convert:hover {\n",
              "      background-color: #434B5C;\n",
              "      box-shadow: 0px 1px 3px 1px rgba(0, 0, 0, 0.15);\n",
              "      filter: drop-shadow(0px 1px 2px rgba(0, 0, 0, 0.3));\n",
              "      fill: #FFFFFF;\n",
              "    }\n",
              "  </style>\n",
              "\n",
              "    <script>\n",
              "      const buttonEl =\n",
              "        document.querySelector('#df-e09c0e44-ffd2-45e8-836e-ba1461bd4ca9 button.colab-df-convert');\n",
              "      buttonEl.style.display =\n",
              "        google.colab.kernel.accessAllowed ? 'block' : 'none';\n",
              "\n",
              "      async function convertToInteractive(key) {\n",
              "        const element = document.querySelector('#df-e09c0e44-ffd2-45e8-836e-ba1461bd4ca9');\n",
              "        const dataTable =\n",
              "          await google.colab.kernel.invokeFunction('convertToInteractive',\n",
              "                                                    [key], {});\n",
              "        if (!dataTable) return;\n",
              "\n",
              "        const docLinkHtml = 'Like what you see? Visit the ' +\n",
              "          '<a target=\"_blank\" href=https://colab.research.google.com/notebooks/data_table.ipynb>data table notebook</a>'\n",
              "          + ' to learn more about interactive tables.';\n",
              "        element.innerHTML = '';\n",
              "        dataTable['output_type'] = 'display_data';\n",
              "        await google.colab.output.renderOutput(dataTable, element);\n",
              "        const docLink = document.createElement('div');\n",
              "        docLink.innerHTML = docLinkHtml;\n",
              "        element.appendChild(docLink);\n",
              "      }\n",
              "    </script>\n",
              "  </div>\n",
              "\n",
              "\n",
              "<div id=\"df-2ccb50ae-521d-40f3-a65a-3039c6d6c184\">\n",
              "  <button class=\"colab-df-quickchart\" onclick=\"quickchart('df-2ccb50ae-521d-40f3-a65a-3039c6d6c184')\"\n",
              "            title=\"Suggest charts\"\n",
              "            style=\"display:none;\">\n",
              "\n",
              "<svg xmlns=\"http://www.w3.org/2000/svg\" height=\"24px\"viewBox=\"0 0 24 24\"\n",
              "     width=\"24px\">\n",
              "    <g>\n",
              "        <path d=\"M19 3H5c-1.1 0-2 .9-2 2v14c0 1.1.9 2 2 2h14c1.1 0 2-.9 2-2V5c0-1.1-.9-2-2-2zM9 17H7v-7h2v7zm4 0h-2V7h2v10zm4 0h-2v-4h2v4z\"/>\n",
              "    </g>\n",
              "</svg>\n",
              "  </button>\n",
              "\n",
              "<style>\n",
              "  .colab-df-quickchart {\n",
              "      --bg-color: #E8F0FE;\n",
              "      --fill-color: #1967D2;\n",
              "      --hover-bg-color: #E2EBFA;\n",
              "      --hover-fill-color: #174EA6;\n",
              "      --disabled-fill-color: #AAA;\n",
              "      --disabled-bg-color: #DDD;\n",
              "  }\n",
              "\n",
              "  [theme=dark] .colab-df-quickchart {\n",
              "      --bg-color: #3B4455;\n",
              "      --fill-color: #D2E3FC;\n",
              "      --hover-bg-color: #434B5C;\n",
              "      --hover-fill-color: #FFFFFF;\n",
              "      --disabled-bg-color: #3B4455;\n",
              "      --disabled-fill-color: #666;\n",
              "  }\n",
              "\n",
              "  .colab-df-quickchart {\n",
              "    background-color: var(--bg-color);\n",
              "    border: none;\n",
              "    border-radius: 50%;\n",
              "    cursor: pointer;\n",
              "    display: none;\n",
              "    fill: var(--fill-color);\n",
              "    height: 32px;\n",
              "    padding: 0;\n",
              "    width: 32px;\n",
              "  }\n",
              "\n",
              "  .colab-df-quickchart:hover {\n",
              "    background-color: var(--hover-bg-color);\n",
              "    box-shadow: 0 1px 2px rgba(60, 64, 67, 0.3), 0 1px 3px 1px rgba(60, 64, 67, 0.15);\n",
              "    fill: var(--button-hover-fill-color);\n",
              "  }\n",
              "\n",
              "  .colab-df-quickchart-complete:disabled,\n",
              "  .colab-df-quickchart-complete:disabled:hover {\n",
              "    background-color: var(--disabled-bg-color);\n",
              "    fill: var(--disabled-fill-color);\n",
              "    box-shadow: none;\n",
              "  }\n",
              "\n",
              "  .colab-df-spinner {\n",
              "    border: 2px solid var(--fill-color);\n",
              "    border-color: transparent;\n",
              "    border-bottom-color: var(--fill-color);\n",
              "    animation:\n",
              "      spin 1s steps(1) infinite;\n",
              "  }\n",
              "\n",
              "  @keyframes spin {\n",
              "    0% {\n",
              "      border-color: transparent;\n",
              "      border-bottom-color: var(--fill-color);\n",
              "      border-left-color: var(--fill-color);\n",
              "    }\n",
              "    20% {\n",
              "      border-color: transparent;\n",
              "      border-left-color: var(--fill-color);\n",
              "      border-top-color: var(--fill-color);\n",
              "    }\n",
              "    30% {\n",
              "      border-color: transparent;\n",
              "      border-left-color: var(--fill-color);\n",
              "      border-top-color: var(--fill-color);\n",
              "      border-right-color: var(--fill-color);\n",
              "    }\n",
              "    40% {\n",
              "      border-color: transparent;\n",
              "      border-right-color: var(--fill-color);\n",
              "      border-top-color: var(--fill-color);\n",
              "    }\n",
              "    60% {\n",
              "      border-color: transparent;\n",
              "      border-right-color: var(--fill-color);\n",
              "    }\n",
              "    80% {\n",
              "      border-color: transparent;\n",
              "      border-right-color: var(--fill-color);\n",
              "      border-bottom-color: var(--fill-color);\n",
              "    }\n",
              "    90% {\n",
              "      border-color: transparent;\n",
              "      border-bottom-color: var(--fill-color);\n",
              "    }\n",
              "  }\n",
              "</style>\n",
              "\n",
              "  <script>\n",
              "    async function quickchart(key) {\n",
              "      const quickchartButtonEl =\n",
              "        document.querySelector('#' + key + ' button');\n",
              "      quickchartButtonEl.disabled = true;  // To prevent multiple clicks.\n",
              "      quickchartButtonEl.classList.add('colab-df-spinner');\n",
              "      try {\n",
              "        const charts = await google.colab.kernel.invokeFunction(\n",
              "            'suggestCharts', [key], {});\n",
              "      } catch (error) {\n",
              "        console.error('Error during call to suggestCharts:', error);\n",
              "      }\n",
              "      quickchartButtonEl.classList.remove('colab-df-spinner');\n",
              "      quickchartButtonEl.classList.add('colab-df-quickchart-complete');\n",
              "    }\n",
              "    (() => {\n",
              "      let quickchartButtonEl =\n",
              "        document.querySelector('#df-2ccb50ae-521d-40f3-a65a-3039c6d6c184 button');\n",
              "      quickchartButtonEl.style.display =\n",
              "        google.colab.kernel.accessAllowed ? 'block' : 'none';\n",
              "    })();\n",
              "  </script>\n",
              "</div>\n",
              "    </div>\n",
              "  </div>\n"
            ],
            "text/plain": [
              "                                             clean_text  is_depression\n",
              "1199  my doctor think that sertaline is better for a...              1\n",
              "3065                              must be depression fr              1\n",
              "2303  this ha ruined my life the only thing keeping ...              1\n",
              "763   i am no job no career suffering from severe de...              1\n",
              "4704  endearingevania i sure wish i could go with yo...              0"
            ]
          },
          "execution_count": 86,
          "metadata": {},
          "output_type": "execute_result"
        }
      ],
      "source": [
        "train_df_shuffled= train_df.sample(frac=1 , random_state=42)\n",
        "train_df_shuffled.head()"
      ]
    },
    {
      "cell_type": "markdown",
      "metadata": {
        "id": "_CfqfvnoR251"
      },
      "source": [
        "checked the name of columns"
      ]
    },
    {
      "cell_type": "code",
      "execution_count": 87,
      "metadata": {
        "colab": {
          "base_uri": "https://localhost:8080/"
        },
        "id": "1ifE94-8B0x5",
        "outputId": "e8f58036-2518-488e-d08e-f787ff1d1249"
      },
      "outputs": [
        {
          "name": "stdout",
          "output_type": "stream",
          "text": [
            "Index(['clean_text', 'is_depression'], dtype='object')\n"
          ]
        }
      ],
      "source": [
        "print(train_df_shuffled.columns)\n"
      ]
    },
    {
      "cell_type": "markdown",
      "metadata": {
        "id": "xonyTKZQR6nU"
      },
      "source": [
        "#text and target in this case will be 'clean_text' and 'is_depression' and i checked it from csv excel file also"
      ]
    },
    {
      "cell_type": "code",
      "execution_count": 88,
      "metadata": {
        "colab": {
          "base_uri": "https://localhost:8080/"
        },
        "id": "9P1lL79mAn3a",
        "outputId": "efc383bf-be51-498d-e827-bd524e3e1620"
      },
      "outputs": [
        {
          "name": "stdout",
          "output_type": "stream",
          "text": [
            "Target: 0;not a depression\n",
            "Text: sleep for now then get up in hour then a very busy week aghhhhh\n",
            "----------------------------------------\n",
            "Target: 0;not a depression\n",
            "Text: ha got a cold coming how shite\n",
            "----------------------------------------\n",
            "Target: 0;not a depression\n",
            "Text: i m up so much paperwork to do today n i m kinda getting sick not fun\n",
            "----------------------------------------\n",
            "Target: 0;not a depression\n",
            "Text: just found that if i use window to browse twitter com the firewall software will automatically turn off and the pc hang\n",
            "----------------------------------------\n",
            "Target: 1;is a depression\n",
            "Text: tellyoursonthis it s called depression anxiety and stress in the west black magic someone want you harm while we don t consider other people s action and thought s to be evil or the reason for our misfortune\n",
            "----------------------------------------\n"
          ]
        }
      ],
      "source": [
        "import random\n",
        "random_index= random.randint(0, len(train_df)-1)\n",
        "for row in train_df_shuffled[['clean_text','is_depression']][random_index: random_index+5].itertuples():\n",
        "  index,text,target=row\n",
        "  print(f\"Target: {target};{'is a depression' if target!=0 else 'not a depression'}\")\n",
        "  print(\"Text:\",text,end='\\n')\n",
        "  print(\"--\"*20)"
      ]
    },
    {
      "cell_type": "markdown",
      "metadata": {
        "id": "a5AY8h-SSTyX"
      },
      "source": [
        "splitting it up into train and val for testing and training purposes"
      ]
    },
    {
      "cell_type": "code",
      "execution_count": 89,
      "metadata": {
        "id": "NaItutxwD5ka"
      },
      "outputs": [],
      "source": [
        "from sklearn.model_selection import train_test_split\n",
        "train_sentences, val_sentences,train_labels, val_labels= train_test_split(train_df_shuffled['clean_text'].to_numpy(),\n",
        "                                                                          train_df_shuffled['is_depression'].to_numpy(),\n",
        "                                                                          test_size=0.2,\n",
        "                                                                          random_state=42)"
      ]
    },
    {
      "cell_type": "code",
      "execution_count": 90,
      "metadata": {
        "colab": {
          "base_uri": "https://localhost:8080/"
        },
        "id": "3dRynA8wEVYG",
        "outputId": "648dab12-a36d-45a1-afb0-744429ee88c7"
      },
      "outputs": [
        {
          "data": {
            "text/plain": [
              "73"
            ]
          },
          "execution_count": 90,
          "metadata": {},
          "output_type": "execute_result"
        }
      ],
      "source": [
        "max_vocab_length=10000\n",
        "max_length = round(sum([len(i.split()) for i in train_sentences])/len(train_sentences))\n",
        "max_length"
      ]
    },
    {
      "cell_type": "markdown",
      "metadata": {
        "id": "M0bBRACLSjIZ"
      },
      "source": [
        "used text vectorization for vectorizing the sentence into parts for ML and better accuracy"
      ]
    },
    {
      "cell_type": "code",
      "execution_count": 91,
      "metadata": {
        "id": "Q-Mw7q39Eanu"
      },
      "outputs": [],
      "source": [
        "text_vectorizer= tf.keras.layers.TextVectorization(max_tokens=max_vocab_length,\n",
        "                                                   output_sequence_length= max_length)"
      ]
    },
    {
      "cell_type": "code",
      "execution_count": 92,
      "metadata": {
        "id": "5lxieUx5EiCd"
      },
      "outputs": [],
      "source": [
        "text_vectorizer.adapt(train_sentences)"
      ]
    },
    {
      "cell_type": "code",
      "execution_count": 93,
      "metadata": {
        "colab": {
          "base_uri": "https://localhost:8080/"
        },
        "id": "ZEwZlHH9EjED",
        "outputId": "9882bce5-136c-4979-8260-5b2dfc73a851"
      },
      "outputs": [
        {
          "name": "stdout",
          "output_type": "stream",
          "text": [
            "nowadays i find that thing simply don t make me very happy like video game reading watching tv i have felt pretty neutral over the past couple of month but god i feel so stupid saying that the only thing that make my day feel like it ha meaning is my shit supermarket job where i rearrange product and basically ruin the day of whoever work in that aisle i just like being told to do something and getting away from my not so nice home life i m exhausted during every shift and have passed out twice at work before but it the only thing that make my life feel like it ha any point i feel like i want to take more hour so i can avoid this constant boredom but my job also make me feel so anxious and exhausted i don t know what to do it sound so pathetic and stupid \n",
            " 764\n"
          ]
        },
        {
          "data": {
            "text/plain": [
              "<tf.Tensor: shape=(1, 73), dtype=int64, numpy=\n",
              "array([[3309,    2,  183,   12,   66,  832,   31,   10,   80,   11,  144,\n",
              "         218,   25,  458,  399,  487,  522, 1192,    2,   18,  189,  295,\n",
              "        3703,  114,    6,  242,  367,    9,  137,   15,  385,    2,   26,\n",
              "          21,  346,  393,   12,    6,   90,   66,   12,   80,    7,   57,\n",
              "          26,   25,    8,   74, 1032,   16,    7,  219, 3224,  128,  160,\n",
              "           2,    1, 2133,    4,  564, 1252,    6,   57,    9, 1605,   85,\n",
              "          13,   12,    1,    2,   20,   25,   91]])>"
            ]
          },
          "execution_count": 93,
          "metadata": {},
          "output_type": "execute_result"
        }
      ],
      "source": [
        "random_sentence= random.choice(train_sentences)\n",
        "print(random_sentence,'\\n',len(random_sentence))\n",
        "text_vectorizer([random_sentence])"
      ]
    },
    {
      "cell_type": "code",
      "execution_count": 94,
      "metadata": {
        "colab": {
          "base_uri": "https://localhost:8080/"
        },
        "id": "up6PDJNYEnYX",
        "outputId": "553ad7c0-a126-49af-81a6-a185b212f2db"
      },
      "outputs": [
        {
          "data": {
            "text/plain": [
              "['', '[UNK]', 'i', 'to', 'and']"
            ]
          },
          "execution_count": 94,
          "metadata": {},
          "output_type": "execute_result"
        }
      ],
      "source": [
        "words=text_vectorizer.get_vocabulary()\n",
        "words[:5]"
      ]
    },
    {
      "cell_type": "code",
      "execution_count": 95,
      "metadata": {
        "id": "ALZpKdD7EvMe"
      },
      "outputs": [],
      "source": [
        "embedding= tf.keras.layers.Embedding(input_dim= max_vocab_length,\n",
        "                                     output_dim=128,\n",
        "                                     input_length=max_length)"
      ]
    },
    {
      "cell_type": "code",
      "execution_count": 96,
      "metadata": {
        "id": "om6b1OH9EzSu"
      },
      "outputs": [],
      "source": [
        "sample = embedding(text_vectorizer([random_sentence]))"
      ]
    },
    {
      "cell_type": "code",
      "execution_count": 97,
      "metadata": {
        "colab": {
          "base_uri": "https://localhost:8080/"
        },
        "id": "xW2dhk-AE5KZ",
        "outputId": "93c98025-97cb-4620-d78c-cd9bd556ca9a"
      },
      "outputs": [
        {
          "data": {
            "text/plain": [
              "<tf.Tensor: shape=(128,), dtype=float32, numpy=\n",
              "array([ 0.01405612,  0.01106758, -0.04494992,  0.03909068,  0.01040222,\n",
              "       -0.01648103, -0.0217882 ,  0.02412069, -0.00259838,  0.03327436,\n",
              "       -0.01452392, -0.00404637,  0.02443237, -0.02679579, -0.00190919,\n",
              "        0.0111931 , -0.04544634,  0.02425113,  0.02450519, -0.00462966,\n",
              "       -0.04260839, -0.00075669, -0.00441586,  0.0280008 , -0.0132751 ,\n",
              "       -0.00077949, -0.00470157,  0.01527121, -0.00154557, -0.00012007,\n",
              "       -0.02743926, -0.00441232,  0.00889683, -0.03324839, -0.04722452,\n",
              "        0.03697543,  0.0006188 ,  0.0183001 ,  0.03077552,  0.03431368,\n",
              "        0.04118579,  0.00109401, -0.02891039,  0.0478117 , -0.03903843,\n",
              "        0.03282363, -0.00271   , -0.04873368,  0.03072191, -0.03468152,\n",
              "        0.00138883, -0.02217691,  0.04356337, -0.04509835,  0.02270852,\n",
              "       -0.03952408,  0.02615592, -0.01016507,  0.01527658, -0.01997445,\n",
              "       -0.02973549,  0.03628162, -0.04811045, -0.01642662,  0.00875907,\n",
              "       -0.04873176,  0.01280541,  0.03525287, -0.04537204,  0.04612669,\n",
              "        0.03513117, -0.03531501,  0.01081467, -0.0417756 , -0.00466095,\n",
              "        0.04811121,  0.03516741, -0.02719991,  0.02976533, -0.04694163,\n",
              "       -0.0373935 ,  0.00802594, -0.01036043,  0.01341302, -0.0070158 ,\n",
              "       -0.00561564,  0.00644354,  0.04667119, -0.0244653 , -0.00114076,\n",
              "        0.02939237,  0.00958572, -0.017318  ,  0.02075538,  0.02762893,\n",
              "       -0.03530329,  0.01571976,  0.03814204,  0.04302118,  0.03371504,\n",
              "       -0.03969982,  0.04389976,  0.00920086,  0.03031549,  0.03847355,\n",
              "        0.00279727,  0.04850895, -0.03146174,  0.04595978, -0.02352889,\n",
              "        0.04388091,  0.02508268, -0.03307916,  0.01213922,  0.02916899,\n",
              "       -0.00525645, -0.02398199, -0.03490254,  0.0356952 , -0.00569315,\n",
              "       -0.0447627 ,  0.02118568,  0.02924621,  0.03834209,  0.01038408,\n",
              "       -0.00594144,  0.02105382, -0.02519188], dtype=float32)>"
            ]
          },
          "execution_count": 97,
          "metadata": {},
          "output_type": "execute_result"
        }
      ],
      "source": [
        "sample[0][0]"
      ]
    },
    {
      "cell_type": "markdown",
      "metadata": {
        "id": "5_YC2Y9MS3gG"
      },
      "source": [
        "#BASE MODEL\n",
        "making a base model to see the initial accuracy of the model"
      ]
    },
    {
      "cell_type": "code",
      "execution_count": 98,
      "metadata": {
        "colab": {
          "base_uri": "https://localhost:8080/"
        },
        "id": "EOzmiQb-E6_0",
        "outputId": "47f3c440-8048-4cb1-8143-e9c26b1a9052"
      },
      "outputs": [
        {
          "name": "stdout",
          "output_type": "stream",
          "text": [
            "Model: \"model_1\"\n",
            "_________________________________________________________________\n",
            " Layer (type)                Output Shape              Param #   \n",
            "=================================================================\n",
            " input_2 (InputLayer)        [(None, 1)]               0         \n",
            "                                                                 \n",
            " text_vectorization_1 (Text  (None, 73)                0         \n",
            " Vectorization)                                                  \n",
            "                                                                 \n",
            " embedding_1 (Embedding)     (None, 73, 128)           1280000   \n",
            "                                                                 \n",
            " global_average_pooling1d_1  (None, 128)               0         \n",
            "  (GlobalAveragePooling1D)                                       \n",
            "                                                                 \n",
            " dense_2 (Dense)             (None, 1)                 129       \n",
            "                                                                 \n",
            "=================================================================\n",
            "Total params: 1280129 (4.88 MB)\n",
            "Trainable params: 1280129 (4.88 MB)\n",
            "Non-trainable params: 0 (0.00 Byte)\n",
            "_________________________________________________________________\n"
          ]
        }
      ],
      "source": [
        "inputs= tf.keras.layers.Input(shape=(1,),dtype='string')\n",
        "x= text_vectorizer(inputs)\n",
        "x= embedding(x)\n",
        "x= tf.keras.layers.GlobalAveragePooling1D()(x)\n",
        "output= tf.keras.layers.Dense(1, activation='sigmoid')(x)\n",
        "model= tf.keras.Model(inputs,output)\n",
        "model.compile(loss=tf.keras.losses.BinaryCrossentropy(),\n",
        "              optimizer=tf.keras.optimizers.Adam(),\n",
        "              metrics=['accuracy'])\n",
        "model.summary()"
      ]
    },
    {
      "cell_type": "code",
      "execution_count": 99,
      "metadata": {
        "colab": {
          "base_uri": "https://localhost:8080/"
        },
        "id": "g_rJh6QyFE5_",
        "outputId": "db84309b-aab3-48bb-ff57-d7524b270dbf"
      },
      "outputs": [
        {
          "name": "stdout",
          "output_type": "stream",
          "text": [
            "Epoch 1/5\n",
            "194/194 [==============================] - 14s 70ms/step - loss: 0.4643 - accuracy: 0.8372 - val_loss: 0.3399 - val_accuracy: 0.8778\n",
            "Epoch 2/5\n",
            "194/194 [==============================] - 5s 27ms/step - loss: 0.3187 - accuracy: 0.8858 - val_loss: 0.2982 - val_accuracy: 0.8901\n",
            "Epoch 3/5\n",
            "194/194 [==============================] - 4s 20ms/step - loss: 0.2776 - accuracy: 0.8994 - val_loss: 0.2662 - val_accuracy: 0.9037\n",
            "Epoch 4/5\n",
            "194/194 [==============================] - 3s 15ms/step - loss: 0.2374 - accuracy: 0.9156 - val_loss: 0.2319 - val_accuracy: 0.9198\n",
            "Epoch 5/5\n",
            "194/194 [==============================] - 2s 11ms/step - loss: 0.1985 - accuracy: 0.9293 - val_loss: 0.2030 - val_accuracy: 0.9328\n"
          ]
        }
      ],
      "source": [
        "history= model.fit(tf.expand_dims(train_sentences,axis=1),train_labels,\n",
        "          epochs=5,\n",
        "          validation_data=(val_sentences,val_labels))"
      ]
    },
    {
      "cell_type": "markdown",
      "metadata": {
        "id": "PUO0QwN7Tp-V"
      },
      "source": [
        "#USING USE(UNIVERSAL SENTENCE ENCODER)\n",
        "using (use) because previously i saw the dataset was pretty big so (use) being a efficient pre trained model will work better in this case"
      ]
    },
    {
      "cell_type": "code",
      "execution_count": 100,
      "metadata": {
        "colab": {
          "base_uri": "https://localhost:8080/"
        },
        "id": "4_kaVNUzFcEv",
        "outputId": "bca0f132-f04e-4bc3-bd92-ca795dab87da"
      },
      "outputs": [
        {
          "name": "stdout",
          "output_type": "stream",
          "text": [
            "tf.Tensor(\n",
            "[[-0.03133019 -0.06338634 -0.01607501 ... -0.03242779 -0.0457574\n",
            "   0.05370456]\n",
            " [ 0.05080859 -0.01652432  0.01573777 ...  0.00976659  0.03170119\n",
            "   0.01788118]], shape=(2, 512), dtype=float32)\n"
          ]
        }
      ],
      "source": [
        "import tensorflow_hub as hub\n",
        "\n",
        "embed = hub.load(\"https://www.kaggle.com/models/google/universal-sentence-encoder/frameworks/TensorFlow2/variations/universal-sentence-encoder/versions/2\")\n",
        "embeddings = embed([\n",
        "    \"The quick brown fox jumps over the lazy dog.\",\n",
        "    \"I am a sentence for which I would like to get its embedding\"])\n",
        "\n",
        "print(embeddings)"
      ]
    },
    {
      "cell_type": "code",
      "execution_count": 101,
      "metadata": {
        "colab": {
          "base_uri": "https://localhost:8080/"
        },
        "id": "vxj_xtp2FjdI",
        "outputId": "24c5b6d2-3fa3-41b7-9479-8e19a4d77b4c"
      },
      "outputs": [
        {
          "data": {
            "text/plain": [
              "<tf.Tensor: shape=(1, 512), dtype=float32, numpy=\n",
              "array([[ 6.25393987e-02, -7.61995092e-02,  5.36653539e-03,\n",
              "         5.69366552e-02,  5.55556938e-02,  4.33111377e-02,\n",
              "         2.44599693e-02,  4.28485200e-02,  7.89523348e-02,\n",
              "         5.13929836e-02, -3.23291235e-02,  2.46106163e-02,\n",
              "         6.28240034e-03, -1.41590787e-02,  4.83526699e-02,\n",
              "        -8.52187872e-02, -5.14160655e-02,  2.26961374e-02,\n",
              "         6.00750558e-02,  3.33061405e-02,  4.33629565e-02,\n",
              "        -2.62162159e-03,  7.51795396e-02,  1.18334619e-02,\n",
              "        -4.77087405e-03,  8.90538748e-03, -5.31049930e-02,\n",
              "         5.75728528e-02,  2.90661715e-02, -4.96279970e-02,\n",
              "         2.58542150e-02,  2.02112477e-02,  4.84917052e-02,\n",
              "        -1.37701100e-02,  1.17607033e-02,  4.70652096e-02,\n",
              "         6.44179061e-02, -7.92928487e-02, -7.09431767e-02,\n",
              "         2.31633950e-02, -4.67407741e-02,  5.00448719e-02,\n",
              "        -3.60460840e-02, -3.42551246e-02,  6.02542311e-02,\n",
              "         2.91299187e-02, -8.47179890e-02,  1.94373969e-02,\n",
              "         1.79646760e-02, -3.34180892e-02, -1.92658585e-02,\n",
              "         7.03608766e-02,  2.32124962e-02, -3.68243782e-04,\n",
              "         4.93146218e-02, -3.71418782e-02, -4.52179722e-02,\n",
              "         2.78833080e-02, -4.71906178e-02, -4.07774560e-02,\n",
              "         7.43713463e-03,  1.56570151e-02,  6.82965741e-02,\n",
              "        -5.88343441e-02,  3.48586105e-02,  6.31934479e-02,\n",
              "        -7.39101693e-02, -1.30116120e-02,  2.77674664e-02,\n",
              "        -5.10593094e-02, -3.74216922e-02,  2.52251159e-02,\n",
              "        -7.32528493e-02, -5.63629977e-02,  1.45647768e-02,\n",
              "        -7.60424435e-02,  3.55050247e-03, -1.33288791e-02,\n",
              "         5.08008897e-02,  8.49512517e-02,  5.80806797e-03,\n",
              "        -3.00649386e-02,  4.61340658e-02,  2.07240153e-02,\n",
              "        -2.05687359e-02, -3.35460790e-02,  1.93380341e-02,\n",
              "         4.07725200e-02, -3.81805487e-02, -8.20770394e-03,\n",
              "        -7.77300971e-04,  3.79606374e-02, -1.16593335e-02,\n",
              "         2.40382459e-02,  7.84013141e-03,  4.10183370e-02,\n",
              "         1.32954856e-02,  2.26015076e-02,  2.71933246e-02,\n",
              "        -6.57647401e-02, -2.86848820e-03,  3.61915752e-02,\n",
              "        -1.88065767e-02,  7.47921504e-03, -6.65314719e-02,\n",
              "         4.18866463e-02,  6.23665005e-03,  1.32110287e-02,\n",
              "        -4.88561355e-02,  4.29111021e-03,  4.22056438e-03,\n",
              "        -7.78585002e-02,  2.33411249e-02, -6.11492358e-02,\n",
              "         5.72241619e-02, -1.77557450e-02, -5.06331287e-02,\n",
              "        -2.35138498e-02,  5.70133328e-02,  8.85758642e-03,\n",
              "        -7.39546027e-03,  7.41581693e-02,  3.02708466e-02,\n",
              "         6.37342632e-02, -5.57574071e-02, -3.97374667e-02,\n",
              "        -4.81980406e-02, -8.36349949e-02,  1.96083765e-02,\n",
              "        -1.22776981e-02, -8.42288807e-02, -2.78212037e-02,\n",
              "         2.76871677e-02, -5.59182093e-02, -6.77994937e-02,\n",
              "         3.92837189e-02, -4.97456864e-02,  5.49158780e-04,\n",
              "        -7.23808259e-02,  4.51412015e-02, -3.27975638e-02,\n",
              "         6.82306737e-02,  6.62674606e-02, -5.94939664e-02,\n",
              "         1.43348600e-03,  2.78399829e-02,  2.89591681e-02,\n",
              "         7.54973143e-02,  1.65317487e-02, -3.12008224e-02,\n",
              "        -7.22699217e-04, -2.67418213e-02, -3.10294097e-03,\n",
              "         2.44132971e-04,  9.35007166e-03,  3.70466299e-02,\n",
              "        -3.16781327e-02,  4.07410860e-02,  6.89460188e-02,\n",
              "         3.38224636e-04,  5.13031671e-04, -6.77073970e-02,\n",
              "         4.82278168e-02, -7.61849210e-02, -1.09102475e-02,\n",
              "         4.17669788e-02,  6.22254796e-02, -1.28369760e-02,\n",
              "        -9.39373113e-03, -5.16094863e-02, -9.56100784e-03,\n",
              "        -7.76235908e-02,  1.41463662e-02, -3.33533203e-03,\n",
              "        -6.28612712e-02, -2.68349908e-02,  7.39359856e-02,\n",
              "         9.81820934e-03,  2.55013276e-02, -7.46444985e-02,\n",
              "         6.74522594e-02, -7.55720511e-02, -7.39793926e-02,\n",
              "         4.80003133e-02,  5.59353940e-02,  6.91259950e-02,\n",
              "        -4.11861539e-02, -5.93897104e-02,  7.68096223e-02,\n",
              "        -2.57006381e-02,  7.25075901e-02, -4.98889983e-02,\n",
              "        -3.05694379e-02, -3.98688130e-02, -5.75990900e-02,\n",
              "         2.79922672e-02, -1.69553515e-03, -6.41537271e-03,\n",
              "         3.49117629e-02,  4.33805957e-02, -1.24712288e-02,\n",
              "         5.03676012e-02,  8.31735041e-03,  8.58535841e-02,\n",
              "         2.39467174e-02,  3.32405455e-02,  4.13567759e-02,\n",
              "        -3.64130735e-02,  3.92254703e-02,  2.19575930e-02,\n",
              "        -7.26996805e-05,  5.82783744e-02,  2.82853972e-02,\n",
              "        -5.27637377e-02, -6.03233650e-02,  3.63691077e-02,\n",
              "        -2.88141035e-02, -3.31781730e-02, -1.87439867e-03,\n",
              "        -3.60916257e-02, -1.14977667e-02,  1.92926154e-02,\n",
              "        -3.05380002e-02, -4.18841541e-02, -6.92420974e-02,\n",
              "        -5.28391153e-02, -8.54625776e-02,  6.16194084e-02,\n",
              "         4.71733436e-02, -6.58865348e-02,  2.17714980e-02,\n",
              "         6.30881786e-02, -4.69238088e-02, -8.57978836e-02,\n",
              "         3.51016223e-02, -3.58483307e-02,  1.73098948e-02,\n",
              "        -3.77737060e-02, -4.31282148e-02,  4.17354777e-02,\n",
              "        -7.15910941e-02, -2.24657869e-03,  1.57995932e-02,\n",
              "        -4.48108092e-02,  3.71450931e-02,  8.46184939e-02,\n",
              "        -2.57039815e-02, -9.80682904e-04, -2.62349937e-02,\n",
              "        -8.55356827e-02,  4.39016446e-02, -6.95499629e-02,\n",
              "        -3.23605984e-02, -2.98254937e-02, -1.59985181e-02,\n",
              "         1.35211134e-02, -9.61077109e-04,  8.58540684e-02,\n",
              "         2.15663724e-02,  6.57903478e-02,  2.60287710e-02,\n",
              "         1.67748630e-02, -3.02475765e-02, -1.42076071e-02,\n",
              "        -6.46127760e-02, -8.54180753e-03, -4.88979034e-02,\n",
              "         1.34853076e-03, -1.87548660e-02, -5.80415428e-02,\n",
              "        -5.20741791e-02, -7.20935762e-02,  3.70070003e-02,\n",
              "        -1.96283450e-04, -2.89932936e-02,  4.28633168e-02,\n",
              "        -4.15628180e-02,  2.84328200e-02,  3.91940400e-02,\n",
              "         8.16908702e-02,  3.47676016e-02,  3.61818336e-02,\n",
              "        -5.76094054e-02,  3.89184877e-02,  6.87303245e-02,\n",
              "         5.86373918e-02, -3.49408276e-02,  3.18091875e-03,\n",
              "        -7.20800310e-02,  6.53551966e-02,  4.52312157e-02,\n",
              "         8.55270401e-02,  4.09010872e-02, -1.88733768e-02,\n",
              "         5.92369959e-02,  3.14031616e-02,  2.24836618e-02,\n",
              "        -3.03550307e-02,  4.23414223e-02, -8.99571739e-03,\n",
              "         4.28975001e-02,  1.17268981e-02,  4.96123023e-02,\n",
              "         2.06041392e-02, -4.99603618e-03, -4.89120446e-02,\n",
              "         6.35230988e-02,  8.73580202e-03,  5.09888045e-02,\n",
              "         1.35771530e-02,  4.49578539e-02, -3.97635140e-02,\n",
              "         5.58046065e-02,  5.46565698e-03,  2.34275684e-02,\n",
              "         5.93047105e-02, -4.27191444e-02,  4.50371057e-02,\n",
              "        -3.20487916e-02, -4.76570204e-02, -3.47003452e-02,\n",
              "        -2.55543534e-02,  2.83708815e-02,  1.64429620e-02,\n",
              "        -4.56524156e-02, -3.84370051e-02,  9.20455996e-03,\n",
              "        -2.77835168e-02,  2.67075244e-02,  4.63880710e-02,\n",
              "        -6.52323216e-02,  1.60419792e-02,  4.18686345e-02,\n",
              "         3.19159664e-02, -3.07824500e-02, -5.54331988e-02,\n",
              "         3.53324972e-02, -2.70296670e-02, -1.95211452e-02,\n",
              "        -5.54171316e-02, -2.33963616e-02,  3.01444121e-02,\n",
              "        -2.53523104e-02, -2.25137211e-02, -3.43363285e-02,\n",
              "        -7.28770196e-02,  1.08823562e-02,  2.48111077e-02,\n",
              "         5.54512478e-02, -6.88953102e-02, -5.42458110e-02,\n",
              "         2.26980057e-02, -3.42747830e-02, -4.46275284e-04,\n",
              "        -5.44560105e-02, -8.48162174e-02, -8.52718353e-02,\n",
              "        -8.52773339e-03,  2.00718287e-02,  1.78247429e-02,\n",
              "         5.33770733e-02,  4.33280319e-02,  8.50686654e-02,\n",
              "         4.99572419e-02,  3.28781568e-02, -6.00119792e-02,\n",
              "         5.62412888e-02, -5.77435791e-02,  7.85689503e-02,\n",
              "        -1.17767965e-02,  3.88348214e-02, -3.69685963e-02,\n",
              "         2.13080714e-03,  5.88696525e-02, -7.23713189e-02,\n",
              "        -3.73550430e-02,  4.23908569e-02, -6.41569272e-02,\n",
              "         1.88901706e-03, -1.19940797e-02,  3.18949185e-02,\n",
              "         4.94742170e-02,  5.61732687e-02,  1.48373796e-02,\n",
              "         7.76045620e-02, -8.50617960e-02,  1.06562329e-02,\n",
              "         2.19630692e-02,  1.34548582e-02, -2.68158335e-02,\n",
              "         5.72965071e-02,  2.28050202e-02, -3.62067856e-02,\n",
              "         4.21677418e-02, -7.25940801e-03,  9.10309516e-03,\n",
              "         1.05919475e-02,  3.87004092e-02,  1.10977329e-02,\n",
              "         1.23048965e-02,  2.06864569e-02, -1.21490555e-02,\n",
              "         2.23192107e-02, -1.15052117e-02,  5.94774708e-02,\n",
              "        -2.67966967e-02, -7.87464604e-02,  5.78244291e-02,\n",
              "        -6.96494654e-02,  3.80932577e-02, -3.90451066e-02,\n",
              "        -3.26502994e-02, -5.07879332e-02, -4.87521961e-02,\n",
              "        -8.83111171e-03, -5.31048095e-03, -2.43473742e-02,\n",
              "        -1.20298835e-02,  1.57155283e-02,  5.27698733e-02,\n",
              "         6.37487769e-02,  2.22510844e-02, -6.52479455e-02,\n",
              "        -6.34444505e-02, -4.75285202e-02,  6.34815693e-02,\n",
              "         2.10729837e-02,  8.24066401e-02,  1.10291094e-02,\n",
              "         2.61649620e-02,  7.32971681e-03,  4.97981645e-02,\n",
              "         4.84924912e-02,  8.57551321e-02, -3.77905518e-02,\n",
              "         1.03833154e-02,  2.46254243e-02,  6.21839426e-03,\n",
              "        -3.71919721e-02,  1.91359092e-02,  2.14292370e-02,\n",
              "         3.55463922e-02,  7.59234130e-02,  4.09893179e-03,\n",
              "         4.80188616e-02, -2.78606303e-02, -2.33055204e-02,\n",
              "         1.08853253e-02, -2.63224263e-02, -3.37932445e-02,\n",
              "        -1.66480597e-02,  3.94581258e-02,  2.60670371e-02,\n",
              "        -2.38594580e-02,  4.72689010e-02, -2.46597249e-02,\n",
              "         2.25531682e-03,  6.12147413e-02,  4.35671248e-02,\n",
              "        -6.07413724e-02,  4.68687303e-02,  3.96730416e-02,\n",
              "        -1.70418173e-02, -8.55520219e-02, -3.84256430e-02,\n",
              "         2.36675097e-03,  4.95669767e-02,  3.53136845e-02,\n",
              "         2.96279956e-02, -2.06727744e-03, -1.06207402e-02,\n",
              "        -2.90763453e-02, -2.27557439e-02, -4.13171537e-02,\n",
              "         4.84662764e-02,  1.84916854e-02,  1.61089133e-02,\n",
              "        -7.92412087e-02,  7.67229870e-02, -3.72134149e-02,\n",
              "         1.74483974e-02, -2.12501213e-02,  2.26477273e-02,\n",
              "        -6.98747709e-02,  3.59773524e-02,  2.28219144e-02,\n",
              "         7.12633356e-02,  1.81079321e-02,  2.69478988e-02,\n",
              "         5.62663935e-03, -2.55617946e-02, -6.44283295e-02,\n",
              "        -4.23566215e-02,  6.55238852e-02,  6.23198189e-02,\n",
              "         3.43593284e-02,  6.86545074e-02, -4.20930274e-02,\n",
              "        -4.91198227e-02, -5.76890744e-02, -3.09496783e-02,\n",
              "        -1.09198247e-03,  3.58720534e-02, -8.27029049e-02,\n",
              "         4.40230668e-02, -5.33917844e-02, -1.74756013e-02,\n",
              "        -3.51954997e-02, -2.45316774e-02, -2.49964111e-02,\n",
              "         2.07826383e-02,  4.45279628e-02]], dtype=float32)>"
            ]
          },
          "execution_count": 101,
          "metadata": {},
          "output_type": "execute_result"
        }
      ],
      "source": [
        "embed_sample= embed([random_sentence])\n",
        "embed_sample"
      ]
    },
    {
      "cell_type": "code",
      "execution_count": 102,
      "metadata": {
        "id": "ZeT2U4LMFaDu"
      },
      "outputs": [],
      "source": [
        "sentence_encoder= hub.KerasLayer(embed,\n",
        "                                 input_shape=[],\n",
        "                                 dtype=tf.string,\n",
        "                                 trainable=False)"
      ]
    },
    {
      "cell_type": "markdown",
      "metadata": {
        "id": "WPRja5HtUCPK"
      },
      "source": [
        "replacing the input shape and all with only one line (sentence encoder)"
      ]
    },
    {
      "cell_type": "markdown",
      "metadata": {
        "id": "2UwGk3EIUfvA"
      },
      "source": [
        "dropout i have used to ensure theres no overfitting"
      ]
    },
    {
      "cell_type": "code",
      "execution_count": 107,
      "metadata": {
        "colab": {
          "base_uri": "https://localhost:8080/"
        },
        "id": "t62nrf9KFpyr",
        "outputId": "11bbbe1c-1e85-4b83-f624-d1609d6999e7"
      },
      "outputs": [
        {
          "name": "stdout",
          "output_type": "stream",
          "text": [
            "Epoch 1/5\n",
            "194/194 [==============================] - 12s 47ms/step - loss: 0.5418 - accuracy: 0.7317 - val_loss: 0.3179 - val_accuracy: 0.9502\n",
            "Epoch 2/5\n",
            "194/194 [==============================] - 8s 39ms/step - loss: 0.2838 - accuracy: 0.9080 - val_loss: 0.1806 - val_accuracy: 0.9593\n",
            "Epoch 3/5\n",
            "194/194 [==============================] - 8s 40ms/step - loss: 0.1883 - accuracy: 0.9398 - val_loss: 0.1314 - val_accuracy: 0.9625\n",
            "Epoch 4/5\n",
            "194/194 [==============================] - 9s 44ms/step - loss: 0.1425 - accuracy: 0.9541 - val_loss: 0.1103 - val_accuracy: 0.9644\n",
            "Epoch 5/5\n",
            "194/194 [==============================] - 10s 52ms/step - loss: 0.1219 - accuracy: 0.9594 - val_loss: 0.1004 - val_accuracy: 0.9670\n"
          ]
        }
      ],
      "source": [
        "model1=tf.keras.models.Sequential([\n",
        "    sentence_encoder,\n",
        "    tf.keras.layers.Dense(64, activation='sigmoid'),\n",
        "    tf.keras.layers.Dropout(0.5),\n",
        "    tf.keras.layers.Dense(1, activation='sigmoid')])\n",
        "model1.compile(loss=tf.keras.losses.BinaryCrossentropy(),\n",
        "              optimizer=tf.keras.optimizers.Adam(),\n",
        "              metrics=['accuracy'])\n",
        "history= model1.fit(tf.expand_dims(train_sentences,axis=1),train_labels,\n",
        "          epochs=5,\n",
        "          validation_data=(val_sentences,val_labels))"
      ]
    },
    {
      "cell_type": "markdown",
      "metadata": {
        "id": "ch06am02Ulal"
      },
      "source": [
        "this example was based on a real life situation where i asked a victim of depression to write me a paragraph of how he feels and the model predicted pretty well about the depression percentage so it can be used in real life scenarios"
      ]
    },
    {
      "cell_type": "code",
      "execution_count": 108,
      "metadata": {
        "colab": {
          "base_uri": "https://localhost:8080/"
        },
        "id": "KmSWGUw6GDwd",
        "outputId": "cc767ac6-dcd3-443b-a84c-af4200a2e1e9"
      },
      "outputs": [
        {
          "name": "stdout",
          "output_type": "stream",
          "text": [
            "1/1 [==============================] - 0s 444ms/step\n"
          ]
        },
        {
          "data": {
            "text/plain": [
              "array([[0.991629]], dtype=float32)"
            ]
          },
          "execution_count": 108,
          "metadata": {},
          "output_type": "execute_result"
        }
      ],
      "source": [
        "model1.predict(['will people be happy without me in their lives? Why do I need to blamed for literally everything I do. I am even tired of crying. It makes me feel sleepy. Why do I get on everyone nerves and torment them? I dont want to see my future anymore. It feels blur. I dont have the energy to imagine good things. Maybe if I wasnt born in this household they would have been happier.'])"
      ]
    },
    {
      "cell_type": "code",
      "execution_count": 109,
      "metadata": {
        "colab": {
          "base_uri": "https://localhost:8080/"
        },
        "id": "QY9qqVOSGP35",
        "outputId": "579f0690-820b-4c5e-9f15-092ac00ccb3f"
      },
      "outputs": [
        {
          "name": "stdout",
          "output_type": "stream",
          "text": [
            "1/1 [==============================] - 0s 62ms/step\n"
          ]
        },
        {
          "data": {
            "text/plain": [
              "array([[0.996366]], dtype=float32)"
            ]
          },
          "execution_count": 109,
          "metadata": {},
          "output_type": "execute_result"
        }
      ],
      "source": [
        "model1.predict(['depression'])"
      ]
    },
    {
      "cell_type": "code",
      "execution_count": 110,
      "metadata": {
        "colab": {
          "base_uri": "https://localhost:8080/"
        },
        "id": "Msf9tyA4PF1P",
        "outputId": "30b9944b-1262-4160-8784-68033f5fbd88"
      },
      "outputs": [
        {
          "name": "stdout",
          "output_type": "stream",
          "text": [
            "49/49 [==============================] - 0s 3ms/step - loss: 0.2030 - accuracy: 0.9328\n",
            "Accuracy: 0.9327731132507324\n"
          ]
        }
      ],
      "source": [
        "loss, accuracy = model.evaluate(val_sentences, val_labels)\n",
        "print(\"Accuracy:\", accuracy)"
      ]
    },
    {
      "cell_type": "markdown",
      "metadata": {
        "id": "J8pmkiNiVBuT"
      },
      "source": []
    }
  ],
  "metadata": {
    "accelerator": "GPU",
    "colab": {
      "gpuType": "T4",
      "provenance": []
    },
    "kernelspec": {
      "display_name": "Python 3",
      "name": "python3"
    },
    "language_info": {
      "name": "python"
    }
  },
  "nbformat": 4,
  "nbformat_minor": 0
}
